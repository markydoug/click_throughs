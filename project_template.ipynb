{
 "cells": [
  {
   "cell_type": "markdown",
   "id": "premier-milan",
   "metadata": {},
   "source": [
    "# Click Throughs\n",
    "Will they click our ad?\n",
    "\n",
    "## Project Goals\n",
    "* Identify key features that can be used to create an effective predictive model.\n",
    "* Use classification models to make click-through predictions.\n",
    "* Use findings to make recommendations and establish a foundation for future work to improve model's performance."
   ]
  },
  {
   "cell_type": "markdown",
   "id": "going-assembly",
   "metadata": {},
   "source": [
    "## Imports"
   ]
  },
  {
   "cell_type": "code",
   "execution_count": 1,
   "id": "divided-poster",
   "metadata": {},
   "outputs": [],
   "source": [
    "#list all of the imports I used in this notebook or in a module\n",
    "import pandas as pd\n",
    "import numpy as np\n",
    "import matplotlib.pyplot as plt\n",
    "import seaborn as sns\n",
    "import os\n",
    "from scipy import stats\n",
    "from sklearn.model_selection import train_test_split\n",
    "from sklearn.cluster import KMeans\n",
    "import warnings\n",
    "warnings.filterwarnings(\"ignore\")\n",
    "from importlib import reload\n",
    "import sklearn.preprocessing as pre\n",
    "\n",
    "\n",
    "pd.options.display.float_format = '{:,.6f}'.format\n",
    "\n",
    "#import my personal modules created for this report\n",
    "import wrangle as w\n",
    "import explore as e\n",
    "import model as m"
   ]
  },
  {
   "cell_type": "markdown",
   "id": "criminal-glory",
   "metadata": {},
   "source": [
    "## Acquire\n",
    "\n",
    "* Data acquired from interviewquery github on December 12, 2022.\n",
    "* It contained 600000 rows and 24 columns\n",
    "* Each observation represents an instance of an online advertisement\n",
    "* Each column represents a feature of those visits"
   ]
  },
  {
   "cell_type": "code",
   "execution_count": 2,
   "id": "8e7703ef",
   "metadata": {},
   "outputs": [],
   "source": [
    "#import train and test data sets from interviewquery github\n",
    "unclean_click_through_data = w.acquire_click_through_data()"
   ]
  },
  {
   "cell_type": "markdown",
   "id": "impossible-bible",
   "metadata": {},
   "source": [
    "## Prepare\n",
    "* Checked for nulls, there were none\n",
    "* Changed the ```hour``` column to datetime\n",
    "* Split data into train, validate, and test (65/20/15)"
   ]
  },
  {
   "cell_type": "code",
   "execution_count": 3,
   "id": "a497ecef",
   "metadata": {},
   "outputs": [],
   "source": [
    "#prep data\n",
    "click_through_data = w.prep_data(unclean_click_through_data)"
   ]
  },
  {
   "cell_type": "code",
   "execution_count": 4,
   "id": "b70e0cdc",
   "metadata": {},
   "outputs": [],
   "source": [
    "#split data\n",
    "train, validate, test = w.split_data(click_through_data)"
   ]
  },
  {
   "cell_type": "markdown",
   "id": "cf54e5e1",
   "metadata": {},
   "source": [
    "### Data dictionary\n",
    "| Feature | Definition | Type |\n",
    "|:--------|:-----------|:-------\n",
    "|**id**| | *int*|\n",
    "| **hour** | The date and hour of day |*datetime*|\n",
    "| **C1** | Anonymized categorical variable |*int*|\n",
    "|**banner_pos**| Location of ad on the page | *int*|\n",
    "|**site_id**| Id of the site where the ad was displayed | *str*|\n",
    "|**site_domain**| | *str*|\n",
    "|**site_category**| | *str*|\n",
    "|**app_id**| Square footage of the land where the property is located | *float*|\n",
    "|**app_domain**| | *float*|\n",
    "|**deck**| | *float*|\n",
    "|**pool**| | *float*|\n",
    "|**garage**| | *float*|\n",
    "|**hottub**| | *float*|\n",
    "|**county**| Name of the county where the house is located| *string*|\n",
    "|**2017_age**| Age of the house in 2017 (when the data was collected| *int*|\n",
    "|**Target variable**\n",
    "|**logerror**| 𝑙𝑜𝑔𝑒𝑟𝑟𝑜𝑟=𝑙𝑜𝑔(𝑍𝑒𝑠𝑡𝑖𝑚𝑎𝑡𝑒)−𝑙𝑜𝑔(𝑆𝑎𝑙𝑒𝑃𝑟𝑖𝑐𝑒) | *float* |"
   ]
  },
  {
   "cell_type": "markdown",
   "id": "e05229cb",
   "metadata": {},
   "source": [
    "### A look at the data"
   ]
  },
  {
   "cell_type": "code",
   "execution_count": 5,
   "id": "f8f1eb5e",
   "metadata": {
    "scrolled": true
   },
   "outputs": [
    {
     "data": {
      "text/html": [
       "<div>\n",
       "<style scoped>\n",
       "    .dataframe tbody tr th:only-of-type {\n",
       "        vertical-align: middle;\n",
       "    }\n",
       "\n",
       "    .dataframe tbody tr th {\n",
       "        vertical-align: top;\n",
       "    }\n",
       "\n",
       "    .dataframe thead th {\n",
       "        text-align: right;\n",
       "    }\n",
       "</style>\n",
       "<table border=\"1\" class=\"dataframe\">\n",
       "  <thead>\n",
       "    <tr style=\"text-align: right;\">\n",
       "      <th></th>\n",
       "      <th>id</th>\n",
       "      <th>click</th>\n",
       "      <th>hour</th>\n",
       "      <th>C1</th>\n",
       "      <th>banner_pos</th>\n",
       "      <th>site_id</th>\n",
       "      <th>site_domain</th>\n",
       "      <th>site_category</th>\n",
       "      <th>app_id</th>\n",
       "      <th>app_domain</th>\n",
       "      <th>...</th>\n",
       "      <th>C15</th>\n",
       "      <th>C16</th>\n",
       "      <th>C17</th>\n",
       "      <th>C18</th>\n",
       "      <th>C19</th>\n",
       "      <th>C20</th>\n",
       "      <th>C21</th>\n",
       "      <th>hour_of_day</th>\n",
       "      <th>day_of_week</th>\n",
       "      <th>working_hours</th>\n",
       "    </tr>\n",
       "  </thead>\n",
       "  <tbody>\n",
       "    <tr>\n",
       "      <th>366134</th>\n",
       "      <td>2009636145773373157</td>\n",
       "      <td>0</td>\n",
       "      <td>2014-10-27 16:00:00</td>\n",
       "      <td>1005</td>\n",
       "      <td>0</td>\n",
       "      <td>1fbe01fe</td>\n",
       "      <td>f3845767</td>\n",
       "      <td>28905ebd</td>\n",
       "      <td>ecad2386</td>\n",
       "      <td>7801e8d9</td>\n",
       "      <td>...</td>\n",
       "      <td>320</td>\n",
       "      <td>50</td>\n",
       "      <td>1722</td>\n",
       "      <td>0</td>\n",
       "      <td>35</td>\n",
       "      <td>-1</td>\n",
       "      <td>79</td>\n",
       "      <td>16</td>\n",
       "      <td>Monday</td>\n",
       "      <td>True</td>\n",
       "    </tr>\n",
       "    <tr>\n",
       "      <th>95054</th>\n",
       "      <td>17172250707259950008</td>\n",
       "      <td>0</td>\n",
       "      <td>2014-10-24 06:00:00</td>\n",
       "      <td>1005</td>\n",
       "      <td>0</td>\n",
       "      <td>1fbe01fe</td>\n",
       "      <td>f3845767</td>\n",
       "      <td>28905ebd</td>\n",
       "      <td>ecad2386</td>\n",
       "      <td>7801e8d9</td>\n",
       "      <td>...</td>\n",
       "      <td>320</td>\n",
       "      <td>50</td>\n",
       "      <td>2502</td>\n",
       "      <td>0</td>\n",
       "      <td>39</td>\n",
       "      <td>-1</td>\n",
       "      <td>221</td>\n",
       "      <td>6</td>\n",
       "      <td>Friday</td>\n",
       "      <td>False</td>\n",
       "    </tr>\n",
       "    <tr>\n",
       "      <th>189299</th>\n",
       "      <td>2922056073063093914</td>\n",
       "      <td>0</td>\n",
       "      <td>2014-10-25 13:00:00</td>\n",
       "      <td>1005</td>\n",
       "      <td>0</td>\n",
       "      <td>85f751fd</td>\n",
       "      <td>c4e18dd6</td>\n",
       "      <td>50e219e0</td>\n",
       "      <td>03528b27</td>\n",
       "      <td>2347f47a</td>\n",
       "      <td>...</td>\n",
       "      <td>320</td>\n",
       "      <td>50</td>\n",
       "      <td>1722</td>\n",
       "      <td>0</td>\n",
       "      <td>35</td>\n",
       "      <td>100083</td>\n",
       "      <td>79</td>\n",
       "      <td>13</td>\n",
       "      <td>Saturday</td>\n",
       "      <td>True</td>\n",
       "    </tr>\n",
       "    <tr>\n",
       "      <th>569650</th>\n",
       "      <td>4743847194723927815</td>\n",
       "      <td>0</td>\n",
       "      <td>2014-10-29 14:00:00</td>\n",
       "      <td>1010</td>\n",
       "      <td>1</td>\n",
       "      <td>85f751fd</td>\n",
       "      <td>c4e18dd6</td>\n",
       "      <td>50e219e0</td>\n",
       "      <td>8c0dcd5a</td>\n",
       "      <td>7801e8d9</td>\n",
       "      <td>...</td>\n",
       "      <td>320</td>\n",
       "      <td>50</td>\n",
       "      <td>2728</td>\n",
       "      <td>0</td>\n",
       "      <td>290</td>\n",
       "      <td>-1</td>\n",
       "      <td>42</td>\n",
       "      <td>14</td>\n",
       "      <td>Wednesday</td>\n",
       "      <td>True</td>\n",
       "    </tr>\n",
       "    <tr>\n",
       "      <th>581283</th>\n",
       "      <td>218700043766238420</td>\n",
       "      <td>1</td>\n",
       "      <td>2014-10-29 17:00:00</td>\n",
       "      <td>1005</td>\n",
       "      <td>1</td>\n",
       "      <td>d9750ee7</td>\n",
       "      <td>98572c79</td>\n",
       "      <td>f028772b</td>\n",
       "      <td>ecad2386</td>\n",
       "      <td>7801e8d9</td>\n",
       "      <td>...</td>\n",
       "      <td>320</td>\n",
       "      <td>50</td>\n",
       "      <td>1993</td>\n",
       "      <td>2</td>\n",
       "      <td>1063</td>\n",
       "      <td>100084</td>\n",
       "      <td>33</td>\n",
       "      <td>17</td>\n",
       "      <td>Wednesday</td>\n",
       "      <td>True</td>\n",
       "    </tr>\n",
       "  </tbody>\n",
       "</table>\n",
       "<p>5 rows × 27 columns</p>\n",
       "</div>"
      ],
      "text/plain": [
       "                          id  click                hour    C1  banner_pos  \\\n",
       "366134   2009636145773373157      0 2014-10-27 16:00:00  1005           0   \n",
       "95054   17172250707259950008      0 2014-10-24 06:00:00  1005           0   \n",
       "189299   2922056073063093914      0 2014-10-25 13:00:00  1005           0   \n",
       "569650   4743847194723927815      0 2014-10-29 14:00:00  1010           1   \n",
       "581283    218700043766238420      1 2014-10-29 17:00:00  1005           1   \n",
       "\n",
       "         site_id site_domain site_category    app_id app_domain  ...  C15 C16  \\\n",
       "366134  1fbe01fe    f3845767      28905ebd  ecad2386   7801e8d9  ...  320  50   \n",
       "95054   1fbe01fe    f3845767      28905ebd  ecad2386   7801e8d9  ...  320  50   \n",
       "189299  85f751fd    c4e18dd6      50e219e0  03528b27   2347f47a  ...  320  50   \n",
       "569650  85f751fd    c4e18dd6      50e219e0  8c0dcd5a   7801e8d9  ...  320  50   \n",
       "581283  d9750ee7    98572c79      f028772b  ecad2386   7801e8d9  ...  320  50   \n",
       "\n",
       "         C17 C18   C19     C20  C21  hour_of_day  day_of_week  working_hours  \n",
       "366134  1722   0    35      -1   79           16       Monday           True  \n",
       "95054   2502   0    39      -1  221            6       Friday          False  \n",
       "189299  1722   0    35  100083   79           13     Saturday           True  \n",
       "569650  2728   0   290      -1   42           14    Wednesday           True  \n",
       "581283  1993   2  1063  100084   33           17    Wednesday           True  \n",
       "\n",
       "[5 rows x 27 columns]"
      ]
     },
     "execution_count": 5,
     "metadata": {},
     "output_type": "execute_result"
    }
   ],
   "source": [
    "#show the first few rows of the train data\n",
    "train.head()"
   ]
  },
  {
   "cell_type": "code",
   "execution_count": 6,
   "id": "317961d2",
   "metadata": {},
   "outputs": [
    {
     "name": "stdout",
     "output_type": "stream",
     "text": [
      "<class 'pandas.core.frame.DataFrame'>\n",
      "Int64Index: 389999 entries, 366134 to 151297\n",
      "Data columns (total 27 columns):\n",
      " #   Column            Non-Null Count   Dtype         \n",
      "---  ------            --------------   -----         \n",
      " 0   id                389999 non-null  uint64        \n",
      " 1   click             389999 non-null  int64         \n",
      " 2   hour              389999 non-null  datetime64[ns]\n",
      " 3   C1                389999 non-null  int64         \n",
      " 4   banner_pos        389999 non-null  int64         \n",
      " 5   site_id           389999 non-null  object        \n",
      " 6   site_domain       389999 non-null  object        \n",
      " 7   site_category     389999 non-null  object        \n",
      " 8   app_id            389999 non-null  object        \n",
      " 9   app_domain        389999 non-null  object        \n",
      " 10  app_category      389999 non-null  object        \n",
      " 11  device_id         389999 non-null  object        \n",
      " 12  device_ip         389999 non-null  object        \n",
      " 13  device_model      389999 non-null  object        \n",
      " 14  device_type       389999 non-null  int64         \n",
      " 15  device_conn_type  389999 non-null  int64         \n",
      " 16  C14               389999 non-null  int64         \n",
      " 17  C15               389999 non-null  int64         \n",
      " 18  C16               389999 non-null  int64         \n",
      " 19  C17               389999 non-null  int64         \n",
      " 20  C18               389999 non-null  int64         \n",
      " 21  C19               389999 non-null  int64         \n",
      " 22  C20               389999 non-null  int64         \n",
      " 23  C21               389999 non-null  int64         \n",
      " 24  hour_of_day       389999 non-null  int64         \n",
      " 25  day_of_week       389999 non-null  object        \n",
      " 26  working_hours     389999 non-null  bool          \n",
      "dtypes: bool(1), datetime64[ns](1), int64(14), object(10), uint64(1)\n",
      "memory usage: 80.7+ MB\n"
     ]
    }
   ],
   "source": [
    "train.info()"
   ]
  },
  {
   "cell_type": "markdown",
   "id": "immediate-mirror",
   "metadata": {},
   "source": [
    "## Explore"
   ]
  },
  {
   "cell_type": "markdown",
   "id": "2b06e4e4",
   "metadata": {},
   "source": [
    "### 1. What percentage of visits resulted in a click-through?"
   ]
  },
  {
   "cell_type": "code",
   "execution_count": 32,
   "id": "4c8ef645",
   "metadata": {},
   "outputs": [
    {
     "data": {
      "image/png": "[encoded data removed]",
      "text/plain": [
       "<Figure size 576x396 with 1 Axes>"
      ]
     },
     "metadata": {},
     "output_type": "display_data"
    }
   ],
   "source": [
    "#show percentage of clicks\n",
    "e.click_percentage(train)"
   ]
  },
  {
   "cell_type": "markdown",
   "id": "d4968c6b",
   "metadata": {},
   "source": [
    "### 2. Does the hour of the day have an impact of click-throughs?"
   ]
  },
  {
   "cell_type": "code",
   "execution_count": 57,
   "id": "bce2cc3c",
   "metadata": {},
   "outputs": [
    {
     "data": {
      "image/png": "[encoded data removed]",
      "text/plain": [
       "<Figure size 1440x576 with 2 Axes>"
      ]
     },
     "metadata": {},
     "output_type": "display_data"
    }
   ],
   "source": [
    "e.hour_click_through_viz(train)"
   ]
  },
  {
   "cell_type": "markdown",
   "id": "397c7299",
   "metadata": {},
   "source": [
    "**It looks like there are more click throughs per instance at 1 am.** \n",
    "\n",
    "***Let's do a $chi^2$ to see if there is a relationship***"
   ]
  },
  {
   "cell_type": "markdown",
   "id": "45acc229",
   "metadata": {},
   "source": [
    "**Set Hypothesis**\n",
    "\n",
    "$H_0$ = There is no relationship between each ```hour_of_day``` and ```click```.\n",
    "\n",
    "$H_a$ = There is a relationship between each ```hour_of_day``` and ```click```."
   ]
  },
  {
   "cell_type": "code",
   "execution_count": 73,
   "id": "5d70670d",
   "metadata": {},
   "outputs": [],
   "source": [
    "pd.set_option(\"display.max_columns\", 50)"
   ]
  },
  {
   "cell_type": "code",
   "execution_count": 83,
   "id": "6811c9c2",
   "metadata": {
    "scrolled": true
   },
   "outputs": [
    {
     "data": {
      "text/html": [
       "<div>\n",
       "<style scoped>\n",
       "    .dataframe tbody tr th:only-of-type {\n",
       "        vertical-align: middle;\n",
       "    }\n",
       "\n",
       "    .dataframe tbody tr th {\n",
       "        vertical-align: top;\n",
       "    }\n",
       "\n",
       "    .dataframe thead th {\n",
       "        text-align: right;\n",
       "    }\n",
       "</style>\n",
       "<table border=\"1\" class=\"dataframe\">\n",
       "  <thead>\n",
       "    <tr style=\"text-align: right;\">\n",
       "      <th>hour_of_day</th>\n",
       "      <th>15</th>\n",
       "      <th>9</th>\n",
       "      <th>16</th>\n",
       "      <th>8</th>\n",
       "      <th>19</th>\n",
       "      <th>20</th>\n",
       "      <th>18</th>\n",
       "      <th>21</th>\n",
       "      <th>14</th>\n",
       "      <th>1</th>\n",
       "      <th>0</th>\n",
       "      <th>11</th>\n",
       "      <th>7</th>\n",
       "      <th>13</th>\n",
       "      <th>22</th>\n",
       "      <th>6</th>\n",
       "      <th>17</th>\n",
       "      <th>5</th>\n",
       "      <th>12</th>\n",
       "      <th>10</th>\n",
       "      <th>2</th>\n",
       "      <th>23</th>\n",
       "      <th>4</th>\n",
       "      <th>3</th>\n",
       "    </tr>\n",
       "  </thead>\n",
       "  <tbody>\n",
       "    <tr>\n",
       "      <th>χ^2</th>\n",
       "      <td>24.974033</td>\n",
       "      <td>24.494476</td>\n",
       "      <td>19.948293</td>\n",
       "      <td>16.443461</td>\n",
       "      <td>15.645811</td>\n",
       "      <td>15.374762</td>\n",
       "      <td>13.647408</td>\n",
       "      <td>10.994026</td>\n",
       "      <td>8.531434</td>\n",
       "      <td>8.129003</td>\n",
       "      <td>6.936594</td>\n",
       "      <td>4.153922</td>\n",
       "      <td>3.490100</td>\n",
       "      <td>3.218827</td>\n",
       "      <td>2.792559</td>\n",
       "      <td>1.592921</td>\n",
       "      <td>0.855082</td>\n",
       "      <td>0.733638</td>\n",
       "      <td>0.722513</td>\n",
       "      <td>0.628886</td>\n",
       "      <td>0.206261</td>\n",
       "      <td>0.064111</td>\n",
       "      <td>0.021792</td>\n",
       "      <td>0.011356</td>\n",
       "    </tr>\n",
       "    <tr>\n",
       "      <th>p-value</th>\n",
       "      <td>0.000001</td>\n",
       "      <td>0.000001</td>\n",
       "      <td>0.000008</td>\n",
       "      <td>0.000050</td>\n",
       "      <td>0.000076</td>\n",
       "      <td>0.000088</td>\n",
       "      <td>0.000221</td>\n",
       "      <td>0.000914</td>\n",
       "      <td>0.003491</td>\n",
       "      <td>0.004356</td>\n",
       "      <td>0.008445</td>\n",
       "      <td>0.041538</td>\n",
       "      <td>0.061737</td>\n",
       "      <td>0.072796</td>\n",
       "      <td>0.094703</td>\n",
       "      <td>0.206909</td>\n",
       "      <td>0.355119</td>\n",
       "      <td>0.391707</td>\n",
       "      <td>0.395321</td>\n",
       "      <td>0.427764</td>\n",
       "      <td>0.649714</td>\n",
       "      <td>0.800112</td>\n",
       "      <td>0.882641</td>\n",
       "      <td>0.915134</td>\n",
       "    </tr>\n",
       "  </tbody>\n",
       "</table>\n",
       "</div>"
      ],
      "text/plain": [
       "hour_of_day        15        9         16        8         19        20  \\\n",
       "χ^2         24.974033 24.494476 19.948293 16.443461 15.645811 15.374762   \n",
       "p-value      0.000001  0.000001  0.000008  0.000050  0.000076  0.000088   \n",
       "\n",
       "hour_of_day        18        21       14       1        0        11       7   \\\n",
       "χ^2         13.647408 10.994026 8.531434 8.129003 6.936594 4.153922 3.490100   \n",
       "p-value      0.000221  0.000914 0.003491 0.004356 0.008445 0.041538 0.061737   \n",
       "\n",
       "hour_of_day       13       22       6        17       5        12       10  \\\n",
       "χ^2         3.218827 2.792559 1.592921 0.855082 0.733638 0.722513 0.628886   \n",
       "p-value     0.072796 0.094703 0.206909 0.355119 0.391707 0.395321 0.427764   \n",
       "\n",
       "hour_of_day       2        23       4        3   \n",
       "χ^2         0.206261 0.064111 0.021792 0.011356  \n",
       "p-value     0.649714 0.800112 0.882641 0.915134  "
      ]
     },
     "execution_count": 83,
     "metadata": {},
     "output_type": "execute_result"
    }
   ],
   "source": [
    "e.chi_square_matrix(train, 'hour_of_day', 'click').T"
   ]
  },
  {
   "cell_type": "markdown",
   "id": "81554949",
   "metadata": {},
   "source": [
    "**p < alpha for ```hour_of_day``` (0, 1, 8, 9, 11, 14, 15, 16, 18, 19, 20, 21) so we can reject the null hypothesis for those hours and say there is probably a relationship between those hours and ```clicks```**"
   ]
  },
  {
   "cell_type": "markdown",
   "id": "c85e2983",
   "metadata": {},
   "source": [
    "## 3. Does the day of the week have an impact of click-throughs?"
   ]
  },
  {
   "cell_type": "code",
   "execution_count": 102,
   "id": "6bf5e767",
   "metadata": {},
   "outputs": [
    {
     "data": {
      "image/png": "[encoded data removed]",
      "text/plain": [
       "<Figure size 1440x576 with 2 Axes>"
      ]
     },
     "metadata": {},
     "output_type": "display_data"
    }
   ],
   "source": [
    "e.day_click_through_viz(train)"
   ]
  },
  {
   "cell_type": "markdown",
   "id": "f2714fd9",
   "metadata": {},
   "source": [
    "**Set Hypothesis**\n",
    "\n",
    "$H_0$ = There is no relationship between each ```day_of_week``` and ```click```.\n",
    "\n",
    "$H_a$ = There is a relationship between each ```day_of_week``` and ```click```."
   ]
  },
  {
   "cell_type": "code",
   "execution_count": 103,
   "id": "c2ac770f",
   "metadata": {},
   "outputs": [
    {
     "data": {
      "text/html": [
       "<div>\n",
       "<style scoped>\n",
       "    .dataframe tbody tr th:only-of-type {\n",
       "        vertical-align: middle;\n",
       "    }\n",
       "\n",
       "    .dataframe tbody tr th {\n",
       "        vertical-align: top;\n",
       "    }\n",
       "\n",
       "    .dataframe thead th {\n",
       "        text-align: right;\n",
       "    }\n",
       "</style>\n",
       "<table border=\"1\" class=\"dataframe\">\n",
       "  <thead>\n",
       "    <tr style=\"text-align: right;\">\n",
       "      <th></th>\n",
       "      <th>χ^2</th>\n",
       "      <th>p-value</th>\n",
       "    </tr>\n",
       "    <tr>\n",
       "      <th>day_of_week</th>\n",
       "      <th></th>\n",
       "      <th></th>\n",
       "    </tr>\n",
       "  </thead>\n",
       "  <tbody>\n",
       "    <tr>\n",
       "      <th>Tuesday</th>\n",
       "      <td>256.610032</td>\n",
       "      <td>0.000000</td>\n",
       "    </tr>\n",
       "    <tr>\n",
       "      <th>Wednesday</th>\n",
       "      <td>87.576922</td>\n",
       "      <td>0.000000</td>\n",
       "    </tr>\n",
       "    <tr>\n",
       "      <th>Sunday</th>\n",
       "      <td>62.540524</td>\n",
       "      <td>0.000000</td>\n",
       "    </tr>\n",
       "    <tr>\n",
       "      <th>Saturday</th>\n",
       "      <td>48.801849</td>\n",
       "      <td>0.000000</td>\n",
       "    </tr>\n",
       "    <tr>\n",
       "      <th>Thursday</th>\n",
       "      <td>25.087336</td>\n",
       "      <td>0.000001</td>\n",
       "    </tr>\n",
       "    <tr>\n",
       "      <th>Monday</th>\n",
       "      <td>24.819706</td>\n",
       "      <td>0.000001</td>\n",
       "    </tr>\n",
       "    <tr>\n",
       "      <th>Friday</th>\n",
       "      <td>13.459815</td>\n",
       "      <td>0.000244</td>\n",
       "    </tr>\n",
       "  </tbody>\n",
       "</table>\n",
       "</div>"
      ],
      "text/plain": [
       "                   χ^2  p-value\n",
       "day_of_week                    \n",
       "Tuesday     256.610032 0.000000\n",
       "Wednesday    87.576922 0.000000\n",
       "Sunday       62.540524 0.000000\n",
       "Saturday     48.801849 0.000000\n",
       "Thursday     25.087336 0.000001\n",
       "Monday       24.819706 0.000001\n",
       "Friday       13.459815 0.000244"
      ]
     },
     "execution_count": 103,
     "metadata": {},
     "output_type": "execute_result"
    }
   ],
   "source": [
    "e.chi_square_matrix(train, 'day_of_week', 'click')"
   ]
  },
  {
   "cell_type": "markdown",
   "id": "237d91e6",
   "metadata": {},
   "source": [
    "**p < alpha, so we can reject the null hypothesis and say there is probably a relationship between every ```day_of_week``` and ```click```.** "
   ]
  },
  {
   "cell_type": "markdown",
   "id": "b20e7292",
   "metadata": {},
   "source": [
    "## 4. Does banner position impact click through?"
   ]
  },
  {
   "cell_type": "code",
   "execution_count": 111,
   "id": "3697d07b",
   "metadata": {},
   "outputs": [
    {
     "data": {
      "image/png": "[encoded data removed]",
      "text/plain": [
       "<Figure size 1440x576 with 1 Axes>"
      ]
     },
     "metadata": {},
     "output_type": "display_data"
    }
   ],
   "source": [
    "e.banner_pos_viz(train)"
   ]
  },
  {
   "cell_type": "markdown",
   "id": "c154a22c",
   "metadata": {},
   "source": [
    "**Set Hypothesis**\n",
    "\n",
    "$H_0$ = There is no association between each ```banner_pos``` and ```click```.\n",
    "\n",
    "$H_a$ = There is a association between each ```banner_pos``` and ```click```."
   ]
  },
  {
   "cell_type": "code",
   "execution_count": 113,
   "id": "0f766c5f",
   "metadata": {},
   "outputs": [
    {
     "data": {
      "text/html": [
       "<div>\n",
       "<style scoped>\n",
       "    .dataframe tbody tr th:only-of-type {\n",
       "        vertical-align: middle;\n",
       "    }\n",
       "\n",
       "    .dataframe tbody tr th {\n",
       "        vertical-align: top;\n",
       "    }\n",
       "\n",
       "    .dataframe thead th {\n",
       "        text-align: right;\n",
       "    }\n",
       "</style>\n",
       "<table border=\"1\" class=\"dataframe\">\n",
       "  <thead>\n",
       "    <tr style=\"text-align: right;\">\n",
       "      <th>banner_pos</th>\n",
       "      <th>0</th>\n",
       "      <th>1</th>\n",
       "      <th>7</th>\n",
       "      <th>2</th>\n",
       "      <th>3</th>\n",
       "      <th>5</th>\n",
       "      <th>4</th>\n",
       "    </tr>\n",
       "  </thead>\n",
       "  <tbody>\n",
       "    <tr>\n",
       "      <th>χ^2</th>\n",
       "      <td>419.231320</td>\n",
       "      <td>397.382334</td>\n",
       "      <td>72.117357</td>\n",
       "      <td>8.486756</td>\n",
       "      <td>0.342021</td>\n",
       "      <td>0.184251</td>\n",
       "      <td>0.036154</td>\n",
       "    </tr>\n",
       "    <tr>\n",
       "      <th>p-value</th>\n",
       "      <td>0.000000</td>\n",
       "      <td>0.000000</td>\n",
       "      <td>0.000000</td>\n",
       "      <td>0.003577</td>\n",
       "      <td>0.558665</td>\n",
       "      <td>0.667745</td>\n",
       "      <td>0.849197</td>\n",
       "    </tr>\n",
       "  </tbody>\n",
       "</table>\n",
       "</div>"
      ],
      "text/plain": [
       "banner_pos          0          1         7        2        3        5        4\n",
       "χ^2        419.231320 397.382334 72.117357 8.486756 0.342021 0.184251 0.036154\n",
       "p-value      0.000000   0.000000  0.000000 0.003577 0.558665 0.667745 0.849197"
      ]
     },
     "execution_count": 113,
     "metadata": {},
     "output_type": "execute_result"
    }
   ],
   "source": [
    "e.chi_square_matrix(train, 'banner_pos', 'click').T"
   ]
  },
  {
   "cell_type": "markdown",
   "id": "88fbab72",
   "metadata": {},
   "source": [
    "**p < alpha, so we can reject the null hypothesis and say there is probably a relationship between ```banner_pos``` (0, 1, 2, 7) and ```click```.** "
   ]
  },
  {
   "cell_type": "markdown",
   "id": "e6ecd169",
   "metadata": {},
   "source": [
    "## 5. Does"
   ]
  },
  {
   "cell_type": "code",
   "execution_count": 22,
   "id": "41723edb",
   "metadata": {
    "scrolled": true
   },
   "outputs": [
    {
     "data": {
      "image/png": "[encoded data removed]",
      "text/plain": [
       "<Figure size 1440x504 with 1 Axes>"
      ]
     },
     "metadata": {},
     "output_type": "display_data"
    }
   ],
   "source": [
    "sns.barplot(x='device_conn_type', y='click', data=train)\n",
    "rate = train['click'].mean()\n",
    "plt.axhline(rate, label = f'Average click rate', linestyle='--', color='black')\n",
    "plt.legend()\n",
    "plt.show()"
   ]
  },
  {
   "cell_type": "code",
   "execution_count": 117,
   "id": "e52976d9",
   "metadata": {},
   "outputs": [
    {
     "data": {
      "text/html": [
       "<div>\n",
       "<style scoped>\n",
       "    .dataframe tbody tr th:only-of-type {\n",
       "        vertical-align: middle;\n",
       "    }\n",
       "\n",
       "    .dataframe tbody tr th {\n",
       "        vertical-align: top;\n",
       "    }\n",
       "\n",
       "    .dataframe thead th {\n",
       "        text-align: right;\n",
       "    }\n",
       "</style>\n",
       "<table border=\"1\" class=\"dataframe\">\n",
       "  <thead>\n",
       "    <tr style=\"text-align: right;\">\n",
       "      <th>device_conn_type</th>\n",
       "      <th>3</th>\n",
       "      <th>0</th>\n",
       "      <th>2</th>\n",
       "      <th>5</th>\n",
       "    </tr>\n",
       "  </thead>\n",
       "  <tbody>\n",
       "    <tr>\n",
       "      <th>χ^2</th>\n",
       "      <td>3,552.025452</td>\n",
       "      <td>3,009.629469</td>\n",
       "      <td>231.552896</td>\n",
       "      <td>67.288990</td>\n",
       "    </tr>\n",
       "    <tr>\n",
       "      <th>p-value</th>\n",
       "      <td>0.000000</td>\n",
       "      <td>0.000000</td>\n",
       "      <td>0.000000</td>\n",
       "      <td>0.000000</td>\n",
       "    </tr>\n",
       "  </tbody>\n",
       "</table>\n",
       "</div>"
      ],
      "text/plain": [
       "device_conn_type            3            0          2         5\n",
       "χ^2              3,552.025452 3,009.629469 231.552896 67.288990\n",
       "p-value              0.000000     0.000000   0.000000  0.000000"
      ]
     },
     "execution_count": 117,
     "metadata": {},
     "output_type": "execute_result"
    }
   ],
   "source": [
    "e.chi_square_matrix(train, 'device_conn_type', 'click').T"
   ]
  },
  {
   "cell_type": "markdown",
   "id": "iraqi-sellers",
   "metadata": {},
   "source": [
    "### Exploration Summary\n",
    "* ```hour_of_day``` (0, 1, 8, 9, 11, 14, 15, 16, 18, 19, 20, 21) probably have a relationship with```clicks```.\n",
    "* Each ```day_of_week``` probably has a relationship with ```click```.\n",
    "* ```banner_pos``` (0, 1, 2, 7) probably have a relationship with ```click```.\n",
    "* Each ```device_conn_type``` probably has a relationship with ```click```."
   ]
  },
  {
   "cell_type": "markdown",
   "id": "bee611a0",
   "metadata": {},
   "source": [
    "### Features I'm moving on with\n",
    "| Feature | Reason | \n",
    "|:--------|:-----------|\n",
    "|**hour_of_day_(0, 1, 8, 9, 11, 14, 15, 16, 18, 19, 20, 21)**| |\n",
    "|**day_of_week_(Monday-Sunday)**| |\n",
    "|**banner_pos_(0, 1, 2, 7)**| |\n",
    "|**device_conn_type**| |"
   ]
  },
  {
   "cell_type": "markdown",
   "id": "8a419e13",
   "metadata": {},
   "source": [
    "### Features I'm not moving on with\n",
    "\n",
    "| Feature | Reason \n",
    "|:--------|:-----------\n",
    "|**parcelid**| id number that is not needed in the model\n",
    "| **bathroooms** | Represented in the ```bath_bed_ratio``` so it would be redundant.\n",
    "| **bedrooms** | Represented in the ```bath_bed_ratio``` so it would be redundant.\n",
    "|**year_built**| Represented in the ```2017_age``` so it would be redundant."
   ]
  },
  {
   "cell_type": "markdown",
   "id": "emotional-purchase",
   "metadata": {},
   "source": [
    "### Prep for modeling\n",
    "* Scale the numeric variables using the minmax scaler\n",
    "* Encode categorical variables"
   ]
  },
  {
   "cell_type": "code",
   "execution_count": 24,
   "id": "5efec7ae",
   "metadata": {},
   "outputs": [],
   "source": [
    "cols_to_encode = ['banner_pos', 'hour_of_day', 'day_of_week', 'device_conn_type']"
   ]
  },
  {
   "cell_type": "code",
   "execution_count": 26,
   "id": "c8534cee",
   "metadata": {},
   "outputs": [],
   "source": [
    "train, validate, test = m.pre_prep(train, validate, test, cols_to_encode, 'click')"
   ]
  },
  {
   "cell_type": "code",
   "execution_count": 126,
   "id": "43e81229",
   "metadata": {},
   "outputs": [],
   "source": [
    "hour_list = []\n",
    "for num in (0, 1, 8, 9, 11, 14, 15, 16, 18, 19, 20, 21):\n",
    "    hour_list.append(f'hour_of_day_{num}')"
   ]
  },
  {
   "cell_type": "code",
   "execution_count": 127,
   "id": "9ec2cd63",
   "metadata": {},
   "outputs": [
    {
     "data": {
      "text/plain": [
       "['hour_of_day_0',\n",
       " 'hour_of_day_1',\n",
       " 'hour_of_day_8',\n",
       " 'hour_of_day_9',\n",
       " 'hour_of_day_11',\n",
       " 'hour_of_day_14',\n",
       " 'hour_of_day_15',\n",
       " 'hour_of_day_16',\n",
       " 'hour_of_day_18',\n",
       " 'hour_of_day_19',\n",
       " 'hour_of_day_20',\n",
       " 'hour_of_day_21']"
      ]
     },
     "execution_count": 127,
     "metadata": {},
     "output_type": "execute_result"
    }
   ],
   "source": [
    "hour_list"
   ]
  },
  {
   "cell_type": "code",
   "execution_count": 139,
   "id": "d705623d",
   "metadata": {},
   "outputs": [],
   "source": [
    "pos = []\n",
    "for num in (0, 1, 2, 7) :\n",
    "    pos.append(f'banner_pos_{num}')"
   ]
  },
  {
   "cell_type": "code",
   "execution_count": 140,
   "id": "fba4ce4a",
   "metadata": {},
   "outputs": [
    {
     "data": {
      "text/plain": [
       "['banner_pos_0', 'banner_pos_1', 'banner_pos_2', 'banner_pos_7']"
      ]
     },
     "execution_count": 140,
     "metadata": {},
     "output_type": "execute_result"
    }
   ],
   "source": [
    "pos"
   ]
  },
  {
   "cell_type": "code",
   "execution_count": 141,
   "id": "70d0e0b1",
   "metadata": {},
   "outputs": [],
   "source": [
    "drivers = ['hour_of_day_0',\n",
    " 'hour_of_day_1',\n",
    " 'hour_of_day_8',\n",
    " 'hour_of_day_9',\n",
    " 'hour_of_day_11',\n",
    " 'hour_of_day_14',\n",
    " 'hour_of_day_15',\n",
    " 'hour_of_day_16',\n",
    " 'hour_of_day_18',\n",
    " 'hour_of_day_19',\n",
    " 'hour_of_day_20',\n",
    " 'hour_of_day_21', \n",
    "           'device_conn_type_0',\n",
    "           'device_conn_type_2',\n",
    "           'device_conn_type_3',\n",
    "           'device_conn_type_5',\n",
    "           'banner_pos_0', 'banner_pos_1', 'banner_pos_2', 'banner_pos_7']"
   ]
  },
  {
   "cell_type": "code",
   "execution_count": 142,
   "id": "d28403dc",
   "metadata": {},
   "outputs": [],
   "source": [
    "X_train, y_train, X_validate, y_validate, X_test, y_test = m.prep_for_model(train, validate, test, 'click', drivers)"
   ]
  },
  {
   "cell_type": "code",
   "execution_count": 143,
   "id": "33dd315e",
   "metadata": {},
   "outputs": [
    {
     "name": "stdout",
     "output_type": "stream",
     "text": [
      "<class 'pandas.core.frame.DataFrame'>\n",
      "Int64Index: 389999 entries, 366134 to 151297\n",
      "Data columns (total 20 columns):\n",
      " #   Column              Non-Null Count   Dtype\n",
      "---  ------              --------------   -----\n",
      " 0   hour_of_day_0       389999 non-null  uint8\n",
      " 1   hour_of_day_1       389999 non-null  uint8\n",
      " 2   hour_of_day_8       389999 non-null  uint8\n",
      " 3   hour_of_day_9       389999 non-null  uint8\n",
      " 4   hour_of_day_11      389999 non-null  uint8\n",
      " 5   hour_of_day_14      389999 non-null  uint8\n",
      " 6   hour_of_day_15      389999 non-null  uint8\n",
      " 7   hour_of_day_16      389999 non-null  uint8\n",
      " 8   hour_of_day_18      389999 non-null  uint8\n",
      " 9   hour_of_day_19      389999 non-null  uint8\n",
      " 10  hour_of_day_20      389999 non-null  uint8\n",
      " 11  hour_of_day_21      389999 non-null  uint8\n",
      " 12  device_conn_type_0  389999 non-null  uint8\n",
      " 13  device_conn_type_2  389999 non-null  uint8\n",
      " 14  device_conn_type_3  389999 non-null  uint8\n",
      " 15  device_conn_type_5  389999 non-null  uint8\n",
      " 16  banner_pos_0        389999 non-null  uint8\n",
      " 17  banner_pos_1        389999 non-null  uint8\n",
      " 18  banner_pos_2        389999 non-null  uint8\n",
      " 19  banner_pos_7        389999 non-null  uint8\n",
      "dtypes: uint8(20)\n",
      "memory usage: 18.5 MB\n"
     ]
    }
   ],
   "source": [
    "X_train.info()"
   ]
  },
  {
   "cell_type": "markdown",
   "id": "4c5cec5c",
   "metadata": {},
   "source": [
    "### Baseline models\n",
    "* Looked at both using mean and median as a baseline model.\n",
    "* Mean baseline performed better on the in-sample and out-of sample data SO I went with mean."
   ]
  },
  {
   "cell_type": "code",
   "execution_count": 144,
   "id": "3dcdab37",
   "metadata": {},
   "outputs": [
    {
     "name": "stdout",
     "output_type": "stream",
     "text": [
      "Baseline accuracy: 82.76%\n"
     ]
    }
   ],
   "source": [
    "#baseline based on the percentage of the mode\n",
    "baseline = y_train.value_counts(normalize=True).max()\n",
    "#print results\n",
    "print(f'Baseline accuracy: {baseline:.2%}')"
   ]
  },
  {
   "cell_type": "markdown",
   "id": "0387b5eb",
   "metadata": {},
   "source": [
    "### Model Comparison"
   ]
  },
  {
   "cell_type": "code",
   "execution_count": 145,
   "id": "bf436bea",
   "metadata": {},
   "outputs": [],
   "source": [
    "from sklearn.tree import DecisionTreeClassifier\n",
    "from sklearn.ensemble import RandomForestClassifier\n",
    "from sklearn.neighbors import KNeighborsClassifier\n",
    "from sklearn.linear_model import LogisticRegression\n",
    "from sklearn.metrics import recall_score"
   ]
  },
  {
   "cell_type": "code",
   "execution_count": 146,
   "id": "2e3bc798",
   "metadata": {},
   "outputs": [],
   "source": [
    "########### DECICSION TREE HYPERPARAMETER TESTING####################\n",
    "\n",
    "# Let's continue getting loopy, so we can compare in-sample to out-of-sample\n",
    "metric = []\n",
    "\n",
    "for i in range(1, 25):\n",
    "    # Make the model\n",
    "    tree = DecisionTreeClassifier(max_depth=i, random_state=123)\n",
    "\n",
    "    # Fit the model (on train and only train)\n",
    "    tree = tree.fit(X_train, y_train)\n",
    "    y_pred_train = tree.predict(X_train)\n",
    "    y_pred_validate = tree.predict(X_validate)\n",
    "\n",
    "    # Use the model\n",
    "    # We'll evaluate the model's performance on train, first\n",
    "    in_sample_accuracy = tree.score(X_train, y_train)\n",
    "    in_sample_recall = recall_score(y_train, y_pred_train)\n",
    "    out_of_sample_accuracy = tree.score(X_validate, y_validate)\n",
    "    out_of_sample_recall = recall_score(y_train, y_pred_train)\n",
    "\n",
    "    output = {\n",
    "        \"max_depth\": i,\n",
    "        \"train_accuracy\": in_sample_accuracy,\n",
    "        \"validate_accuracy\": out_of_sample_accuracy,\n",
    "        \"train_recall\": in_sample_recall,\n",
    "        \"validate_recall\": out_of_sample_recall\n",
    "    }\n",
    "    \n",
    "    metric.append(output)\n",
    "    \n",
    "df = pd.DataFrame(metric)\n",
    "df[\"accuracy_diff\"] = df.train_accuracy - df.validate_accuracy\n",
    "df[\"recall_diff\"] = df.train_recall - df.validate_recall"
   ]
  },
  {
   "cell_type": "code",
   "execution_count": 147,
   "id": "bfaad81d",
   "metadata": {},
   "outputs": [
    {
     "data": {
      "text/html": [
       "<div>\n",
       "<style scoped>\n",
       "    .dataframe tbody tr th:only-of-type {\n",
       "        vertical-align: middle;\n",
       "    }\n",
       "\n",
       "    .dataframe tbody tr th {\n",
       "        vertical-align: top;\n",
       "    }\n",
       "\n",
       "    .dataframe thead th {\n",
       "        text-align: right;\n",
       "    }\n",
       "</style>\n",
       "<table border=\"1\" class=\"dataframe\">\n",
       "  <thead>\n",
       "    <tr style=\"text-align: right;\">\n",
       "      <th></th>\n",
       "      <th>max_depth</th>\n",
       "      <th>train_accuracy</th>\n",
       "      <th>validate_accuracy</th>\n",
       "      <th>train_recall</th>\n",
       "      <th>validate_recall</th>\n",
       "      <th>accuracy_diff</th>\n",
       "      <th>recall_diff</th>\n",
       "    </tr>\n",
       "  </thead>\n",
       "  <tbody>\n",
       "    <tr>\n",
       "      <th>0</th>\n",
       "      <td>1</td>\n",
       "      <td>0.827571</td>\n",
       "      <td>0.827568</td>\n",
       "      <td>0.000000</td>\n",
       "      <td>0.000000</td>\n",
       "      <td>0.000003</td>\n",
       "      <td>0.000000</td>\n",
       "    </tr>\n",
       "    <tr>\n",
       "      <th>1</th>\n",
       "      <td>2</td>\n",
       "      <td>0.827571</td>\n",
       "      <td>0.827568</td>\n",
       "      <td>0.000000</td>\n",
       "      <td>0.000000</td>\n",
       "      <td>0.000003</td>\n",
       "      <td>0.000000</td>\n",
       "    </tr>\n",
       "    <tr>\n",
       "      <th>2</th>\n",
       "      <td>3</td>\n",
       "      <td>0.827571</td>\n",
       "      <td>0.827568</td>\n",
       "      <td>0.000000</td>\n",
       "      <td>0.000000</td>\n",
       "      <td>0.000003</td>\n",
       "      <td>0.000000</td>\n",
       "    </tr>\n",
       "    <tr>\n",
       "      <th>3</th>\n",
       "      <td>4</td>\n",
       "      <td>0.827587</td>\n",
       "      <td>0.827551</td>\n",
       "      <td>0.000238</td>\n",
       "      <td>0.000238</td>\n",
       "      <td>0.000035</td>\n",
       "      <td>0.000000</td>\n",
       "    </tr>\n",
       "    <tr>\n",
       "      <th>6</th>\n",
       "      <td>7</td>\n",
       "      <td>0.827600</td>\n",
       "      <td>0.827510</td>\n",
       "      <td>0.000506</td>\n",
       "      <td>0.000506</td>\n",
       "      <td>0.000090</td>\n",
       "      <td>0.000000</td>\n",
       "    </tr>\n",
       "    <tr>\n",
       "      <th>8</th>\n",
       "      <td>9</td>\n",
       "      <td>0.827602</td>\n",
       "      <td>0.827510</td>\n",
       "      <td>0.000535</td>\n",
       "      <td>0.000535</td>\n",
       "      <td>0.000092</td>\n",
       "      <td>0.000000</td>\n",
       "    </tr>\n",
       "    <tr>\n",
       "      <th>4</th>\n",
       "      <td>5</td>\n",
       "      <td>0.827594</td>\n",
       "      <td>0.827501</td>\n",
       "      <td>0.000416</td>\n",
       "      <td>0.000416</td>\n",
       "      <td>0.000093</td>\n",
       "      <td>0.000000</td>\n",
       "    </tr>\n",
       "    <tr>\n",
       "      <th>11</th>\n",
       "      <td>12</td>\n",
       "      <td>0.827605</td>\n",
       "      <td>0.827510</td>\n",
       "      <td>0.000565</td>\n",
       "      <td>0.000565</td>\n",
       "      <td>0.000095</td>\n",
       "      <td>0.000000</td>\n",
       "    </tr>\n",
       "    <tr>\n",
       "      <th>12</th>\n",
       "      <td>13</td>\n",
       "      <td>0.827605</td>\n",
       "      <td>0.827510</td>\n",
       "      <td>0.000565</td>\n",
       "      <td>0.000565</td>\n",
       "      <td>0.000095</td>\n",
       "      <td>0.000000</td>\n",
       "    </tr>\n",
       "    <tr>\n",
       "      <th>13</th>\n",
       "      <td>14</td>\n",
       "      <td>0.827607</td>\n",
       "      <td>0.827510</td>\n",
       "      <td>0.000580</td>\n",
       "      <td>0.000580</td>\n",
       "      <td>0.000097</td>\n",
       "      <td>0.000000</td>\n",
       "    </tr>\n",
       "    <tr>\n",
       "      <th>14</th>\n",
       "      <td>15</td>\n",
       "      <td>0.827607</td>\n",
       "      <td>0.827510</td>\n",
       "      <td>0.000580</td>\n",
       "      <td>0.000580</td>\n",
       "      <td>0.000097</td>\n",
       "      <td>0.000000</td>\n",
       "    </tr>\n",
       "    <tr>\n",
       "      <th>16</th>\n",
       "      <td>17</td>\n",
       "      <td>0.827607</td>\n",
       "      <td>0.827510</td>\n",
       "      <td>0.000580</td>\n",
       "      <td>0.000580</td>\n",
       "      <td>0.000097</td>\n",
       "      <td>0.000000</td>\n",
       "    </tr>\n",
       "    <tr>\n",
       "      <th>17</th>\n",
       "      <td>18</td>\n",
       "      <td>0.827607</td>\n",
       "      <td>0.827510</td>\n",
       "      <td>0.000580</td>\n",
       "      <td>0.000580</td>\n",
       "      <td>0.000097</td>\n",
       "      <td>0.000000</td>\n",
       "    </tr>\n",
       "    <tr>\n",
       "      <th>7</th>\n",
       "      <td>8</td>\n",
       "      <td>0.827602</td>\n",
       "      <td>0.827501</td>\n",
       "      <td>0.000535</td>\n",
       "      <td>0.000535</td>\n",
       "      <td>0.000101</td>\n",
       "      <td>0.000000</td>\n",
       "    </tr>\n",
       "    <tr>\n",
       "      <th>9</th>\n",
       "      <td>10</td>\n",
       "      <td>0.827602</td>\n",
       "      <td>0.827501</td>\n",
       "      <td>0.000535</td>\n",
       "      <td>0.000535</td>\n",
       "      <td>0.000101</td>\n",
       "      <td>0.000000</td>\n",
       "    </tr>\n",
       "    <tr>\n",
       "      <th>10</th>\n",
       "      <td>11</td>\n",
       "      <td>0.827602</td>\n",
       "      <td>0.827501</td>\n",
       "      <td>0.000535</td>\n",
       "      <td>0.000535</td>\n",
       "      <td>0.000101</td>\n",
       "      <td>0.000000</td>\n",
       "    </tr>\n",
       "    <tr>\n",
       "      <th>5</th>\n",
       "      <td>6</td>\n",
       "      <td>0.827597</td>\n",
       "      <td>0.827493</td>\n",
       "      <td>0.000476</td>\n",
       "      <td>0.000476</td>\n",
       "      <td>0.000104</td>\n",
       "      <td>0.000000</td>\n",
       "    </tr>\n",
       "    <tr>\n",
       "      <th>15</th>\n",
       "      <td>16</td>\n",
       "      <td>0.827607</td>\n",
       "      <td>0.827501</td>\n",
       "      <td>0.000580</td>\n",
       "      <td>0.000580</td>\n",
       "      <td>0.000106</td>\n",
       "      <td>0.000000</td>\n",
       "    </tr>\n",
       "    <tr>\n",
       "      <th>18</th>\n",
       "      <td>19</td>\n",
       "      <td>0.827607</td>\n",
       "      <td>0.827501</td>\n",
       "      <td>0.000580</td>\n",
       "      <td>0.000580</td>\n",
       "      <td>0.000106</td>\n",
       "      <td>0.000000</td>\n",
       "    </tr>\n",
       "    <tr>\n",
       "      <th>19</th>\n",
       "      <td>20</td>\n",
       "      <td>0.827607</td>\n",
       "      <td>0.827501</td>\n",
       "      <td>0.000580</td>\n",
       "      <td>0.000580</td>\n",
       "      <td>0.000106</td>\n",
       "      <td>0.000000</td>\n",
       "    </tr>\n",
       "    <tr>\n",
       "      <th>20</th>\n",
       "      <td>21</td>\n",
       "      <td>0.827607</td>\n",
       "      <td>0.827501</td>\n",
       "      <td>0.000580</td>\n",
       "      <td>0.000580</td>\n",
       "      <td>0.000106</td>\n",
       "      <td>0.000000</td>\n",
       "    </tr>\n",
       "    <tr>\n",
       "      <th>21</th>\n",
       "      <td>22</td>\n",
       "      <td>0.827607</td>\n",
       "      <td>0.827501</td>\n",
       "      <td>0.000580</td>\n",
       "      <td>0.000580</td>\n",
       "      <td>0.000106</td>\n",
       "      <td>0.000000</td>\n",
       "    </tr>\n",
       "    <tr>\n",
       "      <th>22</th>\n",
       "      <td>23</td>\n",
       "      <td>0.827607</td>\n",
       "      <td>0.827501</td>\n",
       "      <td>0.000580</td>\n",
       "      <td>0.000580</td>\n",
       "      <td>0.000106</td>\n",
       "      <td>0.000000</td>\n",
       "    </tr>\n",
       "    <tr>\n",
       "      <th>23</th>\n",
       "      <td>24</td>\n",
       "      <td>0.827607</td>\n",
       "      <td>0.827501</td>\n",
       "      <td>0.000580</td>\n",
       "      <td>0.000580</td>\n",
       "      <td>0.000106</td>\n",
       "      <td>0.000000</td>\n",
       "    </tr>\n",
       "  </tbody>\n",
       "</table>\n",
       "</div>"
      ],
      "text/plain": [
       "    max_depth  train_accuracy  validate_accuracy  train_recall  \\\n",
       "0           1        0.827571           0.827568      0.000000   \n",
       "1           2        0.827571           0.827568      0.000000   \n",
       "2           3        0.827571           0.827568      0.000000   \n",
       "3           4        0.827587           0.827551      0.000238   \n",
       "6           7        0.827600           0.827510      0.000506   \n",
       "8           9        0.827602           0.827510      0.000535   \n",
       "4           5        0.827594           0.827501      0.000416   \n",
       "11         12        0.827605           0.827510      0.000565   \n",
       "12         13        0.827605           0.827510      0.000565   \n",
       "13         14        0.827607           0.827510      0.000580   \n",
       "14         15        0.827607           0.827510      0.000580   \n",
       "16         17        0.827607           0.827510      0.000580   \n",
       "17         18        0.827607           0.827510      0.000580   \n",
       "7           8        0.827602           0.827501      0.000535   \n",
       "9          10        0.827602           0.827501      0.000535   \n",
       "10         11        0.827602           0.827501      0.000535   \n",
       "5           6        0.827597           0.827493      0.000476   \n",
       "15         16        0.827607           0.827501      0.000580   \n",
       "18         19        0.827607           0.827501      0.000580   \n",
       "19         20        0.827607           0.827501      0.000580   \n",
       "20         21        0.827607           0.827501      0.000580   \n",
       "21         22        0.827607           0.827501      0.000580   \n",
       "22         23        0.827607           0.827501      0.000580   \n",
       "23         24        0.827607           0.827501      0.000580   \n",
       "\n",
       "    validate_recall  accuracy_diff  recall_diff  \n",
       "0          0.000000       0.000003     0.000000  \n",
       "1          0.000000       0.000003     0.000000  \n",
       "2          0.000000       0.000003     0.000000  \n",
       "3          0.000238       0.000035     0.000000  \n",
       "6          0.000506       0.000090     0.000000  \n",
       "8          0.000535       0.000092     0.000000  \n",
       "4          0.000416       0.000093     0.000000  \n",
       "11         0.000565       0.000095     0.000000  \n",
       "12         0.000565       0.000095     0.000000  \n",
       "13         0.000580       0.000097     0.000000  \n",
       "14         0.000580       0.000097     0.000000  \n",
       "16         0.000580       0.000097     0.000000  \n",
       "17         0.000580       0.000097     0.000000  \n",
       "7          0.000535       0.000101     0.000000  \n",
       "9          0.000535       0.000101     0.000000  \n",
       "10         0.000535       0.000101     0.000000  \n",
       "5          0.000476       0.000104     0.000000  \n",
       "15         0.000580       0.000106     0.000000  \n",
       "18         0.000580       0.000106     0.000000  \n",
       "19         0.000580       0.000106     0.000000  \n",
       "20         0.000580       0.000106     0.000000  \n",
       "21         0.000580       0.000106     0.000000  \n",
       "22         0.000580       0.000106     0.000000  \n",
       "23         0.000580       0.000106     0.000000  "
      ]
     },
     "execution_count": 147,
     "metadata": {},
     "output_type": "execute_result"
    }
   ],
   "source": [
    "df.sort_values(by=['recall_diff' ,'accuracy_diff'])"
   ]
  },
  {
   "cell_type": "code",
   "execution_count": null,
   "id": "dfdd4f47",
   "metadata": {},
   "outputs": [],
   "source": [
    "m.random_forest_results(X_train, y_train, X_validate, y_validate)"
   ]
  },
  {
   "cell_type": "code",
   "execution_count": null,
   "id": "09cd9bf9",
   "metadata": {},
   "outputs": [],
   "source": [
    "m.log_results(X_train, y_train, X_validate, y_validate)"
   ]
  },
  {
   "cell_type": "markdown",
   "id": "bright-evans",
   "metadata": {},
   "source": [
    "### Comparing Models\n",
    "* All models perfomed better than baseline for both train and validate data.\n",
    "* It was interesting that OLS Regressor and Lasso Lars both performed better on the out-of-sample data."
   ]
  },
  {
   "cell_type": "markdown",
   "id": "regulated-fellowship",
   "metadata": {},
   "source": [
    "### Best model: Random Forest Model \n",
    "* I chose the XXX (XXXXXXXXXX) because the difference in $RMSE$ between the train and validate was around  and they were both higher than the other models\n",
    "* I will now run the that model on test data to gauge how it will perform on future data"
   ]
  },
  {
   "cell_type": "code",
   "execution_count": null,
   "id": "4fac6a92",
   "metadata": {},
   "outputs": [],
   "source": [
    "#m.best_model(X_train, y_train, X_validate, y_validate, X_test, y_test)"
   ]
  },
  {
   "cell_type": "markdown",
   "id": "fc24d1d6",
   "metadata": {},
   "source": [
    "**This model performs better than baseline and with very similar accuracy across all three data sets (train, validate and test).**"
   ]
  },
  {
   "cell_type": "markdown",
   "id": "tutorial-twelve",
   "metadata": {},
   "source": [
    "## Conclusion\n",
    "\n",
    "### Summary\n",
    "*\n",
    "\n",
    "\n",
    "### Recommendations\n",
    "* We should do more research .\n",
    "* .\n",
    "\n",
    "### Next Steps\n",
    "* In the next iteration:\n",
    "    * "
   ]
  }
 ],
 "metadata": {
  "kernelspec": {
   "display_name": "Python 3 (ipykernel)",
   "language": "python",
   "name": "python3"
  },
  "language_info": {
   "codemirror_mode": {
    "name": "ipython",
    "version": 3
   },
   "file_extension": ".py",
   "mimetype": "text/x-python",
   "name": "python",
   "nbconvert_exporter": "python",
   "pygments_lexer": "ipython3",
   "version": "3.9.12"
  }
 },
 "nbformat": 4,
 "nbformat_minor": 5
}
