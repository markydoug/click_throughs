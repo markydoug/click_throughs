{
 "cells": [
  {
   "cell_type": "markdown",
   "id": "premier-milan",
   "metadata": {},
   "source": [
    "# Click Throughs\n",
    "Will they click our ad?\n",
    "\n",
    "## Project Goals\n",
    "* Identify key features that can be used to create an effective predictive model.\n",
    "* Use classification models to make click-through predictions.\n",
    "* Use findings to make recommendations and establish a foundation for future work to improve model's performance."
   ]
  },
  {
   "cell_type": "markdown",
   "id": "going-assembly",
   "metadata": {},
   "source": [
    "## Imports"
   ]
  },
  {
   "cell_type": "code",
   "execution_count": 1,
   "id": "divided-poster",
   "metadata": {},
   "outputs": [],
   "source": [
    "#list all of the imports I used in this notebook or in a module\n",
    "import pandas as pd\n",
    "import numpy as np\n",
    "import matplotlib.pyplot as plt\n",
    "import seaborn as sns\n",
    "import os\n",
    "from scipy import stats\n",
    "from sklearn.model_selection import train_test_split\n",
    "from sklearn.cluster import KMeans\n",
    "import warnings\n",
    "warnings.filterwarnings(\"ignore\")\n",
    "from importlib import reload\n",
    "\n",
    "\n",
    "#import my personal modules created for this report\n",
    "import wrangle as w\n",
    "#import explore as e\n",
    "#import model as m"
   ]
  },
  {
   "cell_type": "markdown",
   "id": "criminal-glory",
   "metadata": {},
   "source": [
    "## Acquire\n",
    "\n",
    "* Data acquired from interviewquery github on December 12, 2022.\n",
    "* It contained 600000 rows and 24 columns\n",
    "* Each observation represents a visit to the website\n",
    "* Each column represents a feature of those visits"
   ]
  },
  {
   "cell_type": "code",
   "execution_count": 2,
   "id": "8e7703ef",
   "metadata": {},
   "outputs": [],
   "source": [
    "#import train and test data sets from interviewquery github\n",
    "unclean_click_through_data = w.acquire_click_through_data()"
   ]
  },
  {
   "cell_type": "markdown",
   "id": "impossible-bible",
   "metadata": {},
   "source": [
    "## Prepare\n",
    "* Checked for nulls, there were none\n",
    "* Changed the ```hour``` column to datetime\n",
    "* Split data into train, validate, and test (65/20/15)"
   ]
  },
  {
   "cell_type": "code",
   "execution_count": 3,
   "id": "667963e1",
   "metadata": {},
   "outputs": [],
   "source": [
    "#prep data\n",
    "click_through_data = w.prep_data(unclean_click_through_data)"
   ]
  },
  {
   "cell_type": "code",
   "execution_count": 4,
   "id": "b70e0cdc",
   "metadata": {},
   "outputs": [],
   "source": [
    "#split data\n",
    "train, validate, test = w.split_data(click_through_data)"
   ]
  },
  {
   "cell_type": "markdown",
   "id": "cf54e5e1",
   "metadata": {},
   "source": [
    "### Data dictionary\n",
    "| Feature | Definition | Type |\n",
    "|:--------|:-----------|:-------\n",
    "|**parcelid**| Definition| *int*|\n",
    "| **bathroooms** | The number of bathrooms in the home. |*float*|\n",
    "| **bedrooms** | The number of bedrooms in the home.|*int*|\n",
    "|**sqft**| Square footage of the house| *int*|\n",
    "|**year_built**| Year the house was built| *int*|\n",
    "|**latitude**| | *float*|\n",
    "|**longitude**| | *float*|\n",
    "|**lotsizesquarefeet**| Square footage of the land where the property is located | *float*|\n",
    "|**fireplace**| | *float*|\n",
    "|**deck**| | *float*|\n",
    "|**pool**| | *float*|\n",
    "|**garage**| | *float*|\n",
    "|**hottub**| | *float*|\n",
    "|**county**| Name of the county where the house is located| *string*|\n",
    "|**2017_age**| Age of the house in 2017 (when the data was collected| *int*|\n",
    "|**Target variable**\n",
    "|**logerror**| 𝑙𝑜𝑔𝑒𝑟𝑟𝑜𝑟=𝑙𝑜𝑔(𝑍𝑒𝑠𝑡𝑖𝑚𝑎𝑡𝑒)−𝑙𝑜𝑔(𝑆𝑎𝑙𝑒𝑃𝑟𝑖𝑐𝑒) | *float* |"
   ]
  },
  {
   "cell_type": "markdown",
   "id": "e05229cb",
   "metadata": {},
   "source": [
    "### A look at the data"
   ]
  },
  {
   "cell_type": "code",
   "execution_count": 5,
   "id": "f8f1eb5e",
   "metadata": {
    "scrolled": true
   },
   "outputs": [
    {
     "data": {
      "text/html": [
       "<div>\n",
       "<style scoped>\n",
       "    .dataframe tbody tr th:only-of-type {\n",
       "        vertical-align: middle;\n",
       "    }\n",
       "\n",
       "    .dataframe tbody tr th {\n",
       "        vertical-align: top;\n",
       "    }\n",
       "\n",
       "    .dataframe thead th {\n",
       "        text-align: right;\n",
       "    }\n",
       "</style>\n",
       "<table border=\"1\" class=\"dataframe\">\n",
       "  <thead>\n",
       "    <tr style=\"text-align: right;\">\n",
       "      <th></th>\n",
       "      <th>id</th>\n",
       "      <th>click</th>\n",
       "      <th>hour</th>\n",
       "      <th>C1</th>\n",
       "      <th>banner_pos</th>\n",
       "      <th>site_id</th>\n",
       "      <th>site_domain</th>\n",
       "      <th>site_category</th>\n",
       "      <th>app_id</th>\n",
       "      <th>app_domain</th>\n",
       "      <th>...</th>\n",
       "      <th>C16</th>\n",
       "      <th>C17</th>\n",
       "      <th>C18</th>\n",
       "      <th>C19</th>\n",
       "      <th>C20</th>\n",
       "      <th>C21</th>\n",
       "      <th>hour_of_day</th>\n",
       "      <th>day_of_week</th>\n",
       "      <th>working_hours</th>\n",
       "      <th>nighttime</th>\n",
       "    </tr>\n",
       "  </thead>\n",
       "  <tbody>\n",
       "    <tr>\n",
       "      <th>565087</th>\n",
       "      <td>5995015300359777433</td>\n",
       "      <td>0</td>\n",
       "      <td>2014-10-29 13:00:00</td>\n",
       "      <td>1005</td>\n",
       "      <td>0</td>\n",
       "      <td>1fbe01fe</td>\n",
       "      <td>f3845767</td>\n",
       "      <td>28905ebd</td>\n",
       "      <td>ecad2386</td>\n",
       "      <td>7801e8d9</td>\n",
       "      <td>...</td>\n",
       "      <td>50</td>\n",
       "      <td>1722</td>\n",
       "      <td>0</td>\n",
       "      <td>35</td>\n",
       "      <td>100084</td>\n",
       "      <td>79</td>\n",
       "      <td>13</td>\n",
       "      <td>Wednesday</td>\n",
       "      <td>True</td>\n",
       "      <td>False</td>\n",
       "    </tr>\n",
       "    <tr>\n",
       "      <th>8383</th>\n",
       "      <td>3893668501419868642</td>\n",
       "      <td>0</td>\n",
       "      <td>2014-10-23 06:00:00</td>\n",
       "      <td>1005</td>\n",
       "      <td>0</td>\n",
       "      <td>1fbe01fe</td>\n",
       "      <td>f3845767</td>\n",
       "      <td>28905ebd</td>\n",
       "      <td>ecad2386</td>\n",
       "      <td>7801e8d9</td>\n",
       "      <td>...</td>\n",
       "      <td>50</td>\n",
       "      <td>576</td>\n",
       "      <td>2</td>\n",
       "      <td>35</td>\n",
       "      <td>-1</td>\n",
       "      <td>32</td>\n",
       "      <td>6</td>\n",
       "      <td>Thursday</td>\n",
       "      <td>False</td>\n",
       "      <td>True</td>\n",
       "    </tr>\n",
       "    <tr>\n",
       "      <th>367430</th>\n",
       "      <td>710950586232260345</td>\n",
       "      <td>0</td>\n",
       "      <td>2014-10-27 16:00:00</td>\n",
       "      <td>1005</td>\n",
       "      <td>0</td>\n",
       "      <td>85f751fd</td>\n",
       "      <td>c4e18dd6</td>\n",
       "      <td>50e219e0</td>\n",
       "      <td>e2fcccd2</td>\n",
       "      <td>5c5a694b</td>\n",
       "      <td>...</td>\n",
       "      <td>50</td>\n",
       "      <td>2104</td>\n",
       "      <td>0</td>\n",
       "      <td>559</td>\n",
       "      <td>-1</td>\n",
       "      <td>171</td>\n",
       "      <td>16</td>\n",
       "      <td>Monday</td>\n",
       "      <td>True</td>\n",
       "      <td>False</td>\n",
       "    </tr>\n",
       "    <tr>\n",
       "      <th>179207</th>\n",
       "      <td>2607601469275535009</td>\n",
       "      <td>1</td>\n",
       "      <td>2014-10-25 11:00:00</td>\n",
       "      <td>1005</td>\n",
       "      <td>1</td>\n",
       "      <td>e151e245</td>\n",
       "      <td>7e091613</td>\n",
       "      <td>f028772b</td>\n",
       "      <td>ecad2386</td>\n",
       "      <td>7801e8d9</td>\n",
       "      <td>...</td>\n",
       "      <td>50</td>\n",
       "      <td>423</td>\n",
       "      <td>2</td>\n",
       "      <td>39</td>\n",
       "      <td>100148</td>\n",
       "      <td>32</td>\n",
       "      <td>11</td>\n",
       "      <td>Saturday</td>\n",
       "      <td>True</td>\n",
       "      <td>False</td>\n",
       "    </tr>\n",
       "    <tr>\n",
       "      <th>425761</th>\n",
       "      <td>10705641571307336952</td>\n",
       "      <td>0</td>\n",
       "      <td>2014-10-28 09:00:00</td>\n",
       "      <td>1005</td>\n",
       "      <td>0</td>\n",
       "      <td>85f751fd</td>\n",
       "      <td>c4e18dd6</td>\n",
       "      <td>50e219e0</td>\n",
       "      <td>f0d41ff1</td>\n",
       "      <td>2347f47a</td>\n",
       "      <td>...</td>\n",
       "      <td>50</td>\n",
       "      <td>2665</td>\n",
       "      <td>0</td>\n",
       "      <td>34</td>\n",
       "      <td>-1</td>\n",
       "      <td>221</td>\n",
       "      <td>9</td>\n",
       "      <td>Tuesday</td>\n",
       "      <td>True</td>\n",
       "      <td>False</td>\n",
       "    </tr>\n",
       "  </tbody>\n",
       "</table>\n",
       "<p>5 rows × 28 columns</p>\n",
       "</div>"
      ],
      "text/plain": [
       "                          id  click                hour    C1  banner_pos  \\\n",
       "565087   5995015300359777433      0 2014-10-29 13:00:00  1005           0   \n",
       "8383     3893668501419868642      0 2014-10-23 06:00:00  1005           0   \n",
       "367430    710950586232260345      0 2014-10-27 16:00:00  1005           0   \n",
       "179207   2607601469275535009      1 2014-10-25 11:00:00  1005           1   \n",
       "425761  10705641571307336952      0 2014-10-28 09:00:00  1005           0   \n",
       "\n",
       "         site_id site_domain site_category    app_id app_domain  ... C16  \\\n",
       "565087  1fbe01fe    f3845767      28905ebd  ecad2386   7801e8d9  ...  50   \n",
       "8383    1fbe01fe    f3845767      28905ebd  ecad2386   7801e8d9  ...  50   \n",
       "367430  85f751fd    c4e18dd6      50e219e0  e2fcccd2   5c5a694b  ...  50   \n",
       "179207  e151e245    7e091613      f028772b  ecad2386   7801e8d9  ...  50   \n",
       "425761  85f751fd    c4e18dd6      50e219e0  f0d41ff1   2347f47a  ...  50   \n",
       "\n",
       "         C17 C18  C19     C20  C21  hour_of_day  day_of_week  working_hours  \\\n",
       "565087  1722   0   35  100084   79           13    Wednesday           True   \n",
       "8383     576   2   35      -1   32            6     Thursday          False   \n",
       "367430  2104   0  559      -1  171           16       Monday           True   \n",
       "179207   423   2   39  100148   32           11     Saturday           True   \n",
       "425761  2665   0   34      -1  221            9      Tuesday           True   \n",
       "\n",
       "        nighttime  \n",
       "565087      False  \n",
       "8383         True  \n",
       "367430      False  \n",
       "179207      False  \n",
       "425761      False  \n",
       "\n",
       "[5 rows x 28 columns]"
      ]
     },
     "execution_count": 5,
     "metadata": {},
     "output_type": "execute_result"
    }
   ],
   "source": [
    "#show the first few rows of the train data\n",
    "train.head()"
   ]
  },
  {
   "cell_type": "markdown",
   "id": "immediate-mirror",
   "metadata": {},
   "source": [
    "## Explore"
   ]
  },
  {
   "cell_type": "markdown",
   "id": "2b06e4e4",
   "metadata": {},
   "source": [
    "### 1. What percentage of visits resulted in a click-through?"
   ]
  },
  {
   "cell_type": "code",
   "execution_count": 6,
   "id": "5a7a199e",
   "metadata": {
    "scrolled": false
   },
   "outputs": [
    {
     "data": {
      "text/plain": [
       "<AxesSubplot:xlabel='click', ylabel='count'>"
      ]
     },
     "execution_count": 6,
     "metadata": {},
     "output_type": "execute_result"
    },
    {
     "data": {
      "image/png": "[encoded data removed]",
      "text/plain": [
       "<Figure size 432x288 with 1 Axes>"
      ]
     },
     "metadata": {
      "needs_background": "light"
     },
     "output_type": "display_data"
    }
   ],
   "source": [
    "sns.countplot(data=train, x='click')"
   ]
  },
  {
   "cell_type": "markdown",
   "id": "d4968c6b",
   "metadata": {},
   "source": [
    "### 2. Does the hour of the day have an impact of click-throughs?"
   ]
  },
  {
   "cell_type": "code",
   "execution_count": null,
   "id": "e2030109",
   "metadata": {},
   "outputs": [],
   "source": [
    "# plotting defaults\n",
    "plt.rc('figure', figsize=(20, 7))\n",
    "plt.style.use('seaborn-whitegrid')\n",
    "plt.rc('font', size=16)"
   ]
  },
  {
   "cell_type": "code",
   "execution_count": 17,
   "id": "bd741a40",
   "metadata": {},
   "outputs": [
    {
     "data": {
      "text/plain": [
       "<AxesSubplot:xlabel='hour_of_day'>"
      ]
     },
     "execution_count": 17,
     "metadata": {},
     "output_type": "execute_result"
    },
    {
     "data": {
      "image/png": "[encoded data removed]",
      "text/plain": [
       "<Figure size 1440x504 with 1 Axes>"
      ]
     },
     "metadata": {},
     "output_type": "display_data"
    }
   ],
   "source": [
    "train.groupby('hour_of_day').click.mean().plot()"
   ]
  },
  {
   "cell_type": "code",
   "execution_count": 16,
   "id": "642bd719",
   "metadata": {},
   "outputs": [
    {
     "data": {
      "text/plain": [
       "<AxesSubplot:xlabel='hour_of_day'>"
      ]
     },
     "execution_count": 16,
     "metadata": {},
     "output_type": "execute_result"
    },
    {
     "data": {
      "image/png": "[encoded data removed]",
      "text/plain": [
       "<Figure size 1440x504 with 1 Axes>"
      ]
     },
     "metadata": {},
     "output_type": "display_data"
    }
   ],
   "source": [
    "train.groupby('hour_of_day').click.sum().plot()"
   ]
  },
  {
   "cell_type": "markdown",
   "id": "397c7299",
   "metadata": {},
   "source": [
    "**It looks like there is a linear correlation between square feet and logerror.** \n",
    "\n",
    "***Also looks like the original model did a good job at predicting larger homes.***"
   ]
  },
  {
   "cell_type": "markdown",
   "id": "45acc229",
   "metadata": {},
   "source": [
    "**Set Hypothesis**\n",
    "\n",
    "$H_0$ = There is no linear correlation between sqft and logerror \n",
    "\n",
    "$H_a$ = There is a linear correlation between sqft and logerror "
   ]
  },
  {
   "cell_type": "code",
   "execution_count": 10,
   "id": "64ce7440",
   "metadata": {},
   "outputs": [
    {
     "name": "stdout",
     "output_type": "stream",
     "text": [
      "Correlation Coefficient: 0.079\n",
      "p-value: 9.264e-48\n"
     ]
    }
   ],
   "source": [
    " #run spearman test to see if there is any linear correlation\n",
    "corr, p = stats.spearmanr(train.sqft, train.logerror)\n",
    "\n",
    "#print results\n",
    "print(f\"Correlation Coefficient: {corr:.2}\\np-value: {p:.4}\")"
   ]
  },
  {
   "cell_type": "markdown",
   "id": "81554949",
   "metadata": {},
   "source": [
    "**p < alpha, so we can reject the null hypothesis and say there is probably a a linear correlation between square footage and logerror.** "
   ]
  },
  {
   "cell_type": "code",
   "execution_count": 22,
   "id": "7dcc9bf1",
   "metadata": {},
   "outputs": [],
   "source": [
    "train_scale, validate_scale, test_scale =w.scale_zillow(train, validate, test, 'logerror')"
   ]
  },
  {
   "cell_type": "code",
   "execution_count": 87,
   "id": "628570f0",
   "metadata": {},
   "outputs": [
    {
     "data": {
      "text/html": [
       "<div>\n",
       "<style scoped>\n",
       "    .dataframe tbody tr th:only-of-type {\n",
       "        vertical-align: middle;\n",
       "    }\n",
       "\n",
       "    .dataframe tbody tr th {\n",
       "        vertical-align: top;\n",
       "    }\n",
       "\n",
       "    .dataframe thead th {\n",
       "        text-align: right;\n",
       "    }\n",
       "</style>\n",
       "<table border=\"1\" class=\"dataframe\">\n",
       "  <thead>\n",
       "    <tr style=\"text-align: right;\">\n",
       "      <th></th>\n",
       "      <th>parcelid</th>\n",
       "      <th>logerror</th>\n",
       "      <th>bathrooms</th>\n",
       "      <th>bedrooms</th>\n",
       "      <th>sqft</th>\n",
       "      <th>latitude</th>\n",
       "      <th>longitude</th>\n",
       "      <th>lotsizesquarefeet</th>\n",
       "      <th>fireplace</th>\n",
       "      <th>deck</th>\n",
       "      <th>pool</th>\n",
       "      <th>garage</th>\n",
       "      <th>hottub</th>\n",
       "      <th>county</th>\n",
       "      <th>2017_age</th>\n",
       "      <th>sqft_lotsize_feature</th>\n",
       "      <th>sqft_lotsize_cluster</th>\n",
       "      <th>special_features_cluster</th>\n",
       "    </tr>\n",
       "  </thead>\n",
       "  <tbody>\n",
       "    <tr>\n",
       "      <th>46729</th>\n",
       "      <td>0.006</td>\n",
       "      <td>0.037</td>\n",
       "      <td>0.308</td>\n",
       "      <td>0.400</td>\n",
       "      <td>0.153</td>\n",
       "      <td>0.477</td>\n",
       "      <td>0.499</td>\n",
       "      <td>0.001</td>\n",
       "      <td>0.000</td>\n",
       "      <td>0.000</td>\n",
       "      <td>0.000</td>\n",
       "      <td>0.000</td>\n",
       "      <td>0.000</td>\n",
       "      <td>LA</td>\n",
       "      <td>0.080</td>\n",
       "      <td>1</td>\n",
       "      <td>2</td>\n",
       "      <td>1</td>\n",
       "    </tr>\n",
       "    <tr>\n",
       "      <th>47582</th>\n",
       "      <td>0.021</td>\n",
       "      <td>-0.104</td>\n",
       "      <td>0.077</td>\n",
       "      <td>0.300</td>\n",
       "      <td>0.040</td>\n",
       "      <td>0.262</td>\n",
       "      <td>0.831</td>\n",
       "      <td>0.001</td>\n",
       "      <td>0.000</td>\n",
       "      <td>0.000</td>\n",
       "      <td>1.000</td>\n",
       "      <td>1.000</td>\n",
       "      <td>1.000</td>\n",
       "      <td>Orange</td>\n",
       "      <td>0.478</td>\n",
       "      <td>0</td>\n",
       "      <td>0</td>\n",
       "      <td>2</td>\n",
       "    </tr>\n",
       "    <tr>\n",
       "      <th>32610</th>\n",
       "      <td>0.022</td>\n",
       "      <td>0.043</td>\n",
       "      <td>0.231</td>\n",
       "      <td>0.500</td>\n",
       "      <td>0.077</td>\n",
       "      <td>0.328</td>\n",
       "      <td>0.745</td>\n",
       "      <td>0.001</td>\n",
       "      <td>0.000</td>\n",
       "      <td>0.000</td>\n",
       "      <td>0.000</td>\n",
       "      <td>1.000</td>\n",
       "      <td>1.000</td>\n",
       "      <td>Orange</td>\n",
       "      <td>0.377</td>\n",
       "      <td>5</td>\n",
       "      <td>4</td>\n",
       "      <td>2</td>\n",
       "    </tr>\n",
       "    <tr>\n",
       "      <th>22180</th>\n",
       "      <td>0.007</td>\n",
       "      <td>-0.003</td>\n",
       "      <td>0.077</td>\n",
       "      <td>0.200</td>\n",
       "      <td>0.067</td>\n",
       "      <td>0.447</td>\n",
       "      <td>0.610</td>\n",
       "      <td>0.001</td>\n",
       "      <td>0.000</td>\n",
       "      <td>0.000</td>\n",
       "      <td>0.000</td>\n",
       "      <td>0.000</td>\n",
       "      <td>0.000</td>\n",
       "      <td>LA</td>\n",
       "      <td>0.754</td>\n",
       "      <td>5</td>\n",
       "      <td>0</td>\n",
       "      <td>1</td>\n",
       "    </tr>\n",
       "    <tr>\n",
       "      <th>28282</th>\n",
       "      <td>0.021</td>\n",
       "      <td>0.166</td>\n",
       "      <td>0.077</td>\n",
       "      <td>0.200</td>\n",
       "      <td>0.036</td>\n",
       "      <td>0.059</td>\n",
       "      <td>0.967</td>\n",
       "      <td>0.001</td>\n",
       "      <td>0.000</td>\n",
       "      <td>0.000</td>\n",
       "      <td>0.000</td>\n",
       "      <td>1.000</td>\n",
       "      <td>1.000</td>\n",
       "      <td>Orange</td>\n",
       "      <td>0.406</td>\n",
       "      <td>0</td>\n",
       "      <td>0</td>\n",
       "      <td>2</td>\n",
       "    </tr>\n",
       "    <tr>\n",
       "      <th>...</th>\n",
       "      <td>...</td>\n",
       "      <td>...</td>\n",
       "      <td>...</td>\n",
       "      <td>...</td>\n",
       "      <td>...</td>\n",
       "      <td>...</td>\n",
       "      <td>...</td>\n",
       "      <td>...</td>\n",
       "      <td>...</td>\n",
       "      <td>...</td>\n",
       "      <td>...</td>\n",
       "      <td>...</td>\n",
       "      <td>...</td>\n",
       "      <td>...</td>\n",
       "      <td>...</td>\n",
       "      <td>...</td>\n",
       "      <td>...</td>\n",
       "      <td>...</td>\n",
       "    </tr>\n",
       "    <tr>\n",
       "      <th>30659</th>\n",
       "      <td>0.024</td>\n",
       "      <td>0.012</td>\n",
       "      <td>0.192</td>\n",
       "      <td>0.300</td>\n",
       "      <td>0.126</td>\n",
       "      <td>0.199</td>\n",
       "      <td>0.926</td>\n",
       "      <td>0.001</td>\n",
       "      <td>0.000</td>\n",
       "      <td>0.000</td>\n",
       "      <td>0.000</td>\n",
       "      <td>1.000</td>\n",
       "      <td>1.000</td>\n",
       "      <td>Orange</td>\n",
       "      <td>0.261</td>\n",
       "      <td>4</td>\n",
       "      <td>2</td>\n",
       "      <td>2</td>\n",
       "    </tr>\n",
       "    <tr>\n",
       "      <th>15594</th>\n",
       "      <td>0.014</td>\n",
       "      <td>-0.033</td>\n",
       "      <td>0.077</td>\n",
       "      <td>0.300</td>\n",
       "      <td>0.038</td>\n",
       "      <td>0.512</td>\n",
       "      <td>0.810</td>\n",
       "      <td>0.001</td>\n",
       "      <td>0.000</td>\n",
       "      <td>0.000</td>\n",
       "      <td>0.000</td>\n",
       "      <td>0.000</td>\n",
       "      <td>0.000</td>\n",
       "      <td>LA</td>\n",
       "      <td>0.449</td>\n",
       "      <td>0</td>\n",
       "      <td>0</td>\n",
       "      <td>1</td>\n",
       "    </tr>\n",
       "    <tr>\n",
       "      <th>28450</th>\n",
       "      <td>0.003</td>\n",
       "      <td>-0.074</td>\n",
       "      <td>0.077</td>\n",
       "      <td>0.400</td>\n",
       "      <td>0.059</td>\n",
       "      <td>0.869</td>\n",
       "      <td>0.686</td>\n",
       "      <td>0.008</td>\n",
       "      <td>0.000</td>\n",
       "      <td>0.000</td>\n",
       "      <td>0.000</td>\n",
       "      <td>0.000</td>\n",
       "      <td>0.000</td>\n",
       "      <td>LA</td>\n",
       "      <td>0.471</td>\n",
       "      <td>0</td>\n",
       "      <td>0</td>\n",
       "      <td>1</td>\n",
       "    </tr>\n",
       "    <tr>\n",
       "      <th>47657</th>\n",
       "      <td>0.023</td>\n",
       "      <td>0.089</td>\n",
       "      <td>0.115</td>\n",
       "      <td>0.300</td>\n",
       "      <td>0.039</td>\n",
       "      <td>0.207</td>\n",
       "      <td>0.808</td>\n",
       "      <td>0.001</td>\n",
       "      <td>0.000</td>\n",
       "      <td>0.000</td>\n",
       "      <td>0.000</td>\n",
       "      <td>1.000</td>\n",
       "      <td>1.000</td>\n",
       "      <td>Orange</td>\n",
       "      <td>0.442</td>\n",
       "      <td>0</td>\n",
       "      <td>0</td>\n",
       "      <td>2</td>\n",
       "    </tr>\n",
       "    <tr>\n",
       "      <th>45805</th>\n",
       "      <td>0.014</td>\n",
       "      <td>0.301</td>\n",
       "      <td>0.231</td>\n",
       "      <td>0.500</td>\n",
       "      <td>0.120</td>\n",
       "      <td>0.418</td>\n",
       "      <td>0.772</td>\n",
       "      <td>0.003</td>\n",
       "      <td>0.000</td>\n",
       "      <td>0.000</td>\n",
       "      <td>1.000</td>\n",
       "      <td>0.000</td>\n",
       "      <td>0.000</td>\n",
       "      <td>LA</td>\n",
       "      <td>0.362</td>\n",
       "      <td>4</td>\n",
       "      <td>4</td>\n",
       "      <td>1</td>\n",
       "    </tr>\n",
       "  </tbody>\n",
       "</table>\n",
       "<p>33697 rows × 18 columns</p>\n",
       "</div>"
      ],
      "text/plain": [
       "       parcelid  logerror  bathrooms  bedrooms  sqft  latitude  longitude  \\\n",
       "46729     0.006     0.037      0.308     0.400 0.153     0.477      0.499   \n",
       "47582     0.021    -0.104      0.077     0.300 0.040     0.262      0.831   \n",
       "32610     0.022     0.043      0.231     0.500 0.077     0.328      0.745   \n",
       "22180     0.007    -0.003      0.077     0.200 0.067     0.447      0.610   \n",
       "28282     0.021     0.166      0.077     0.200 0.036     0.059      0.967   \n",
       "...         ...       ...        ...       ...   ...       ...        ...   \n",
       "30659     0.024     0.012      0.192     0.300 0.126     0.199      0.926   \n",
       "15594     0.014    -0.033      0.077     0.300 0.038     0.512      0.810   \n",
       "28450     0.003    -0.074      0.077     0.400 0.059     0.869      0.686   \n",
       "47657     0.023     0.089      0.115     0.300 0.039     0.207      0.808   \n",
       "45805     0.014     0.301      0.231     0.500 0.120     0.418      0.772   \n",
       "\n",
       "       lotsizesquarefeet  fireplace  deck  pool  garage  hottub  county  \\\n",
       "46729              0.001      0.000 0.000 0.000   0.000   0.000      LA   \n",
       "47582              0.001      0.000 0.000 1.000   1.000   1.000  Orange   \n",
       "32610              0.001      0.000 0.000 0.000   1.000   1.000  Orange   \n",
       "22180              0.001      0.000 0.000 0.000   0.000   0.000      LA   \n",
       "28282              0.001      0.000 0.000 0.000   1.000   1.000  Orange   \n",
       "...                  ...        ...   ...   ...     ...     ...     ...   \n",
       "30659              0.001      0.000 0.000 0.000   1.000   1.000  Orange   \n",
       "15594              0.001      0.000 0.000 0.000   0.000   0.000      LA   \n",
       "28450              0.008      0.000 0.000 0.000   0.000   0.000      LA   \n",
       "47657              0.001      0.000 0.000 0.000   1.000   1.000  Orange   \n",
       "45805              0.003      0.000 0.000 1.000   0.000   0.000      LA   \n",
       "\n",
       "       2017_age  sqft_lotsize_feature  sqft_lotsize_cluster  \\\n",
       "46729     0.080                     1                     2   \n",
       "47582     0.478                     0                     0   \n",
       "32610     0.377                     5                     4   \n",
       "22180     0.754                     5                     0   \n",
       "28282     0.406                     0                     0   \n",
       "...         ...                   ...                   ...   \n",
       "30659     0.261                     4                     2   \n",
       "15594     0.449                     0                     0   \n",
       "28450     0.471                     0                     0   \n",
       "47657     0.442                     0                     0   \n",
       "45805     0.362                     4                     4   \n",
       "\n",
       "       special_features_cluster  \n",
       "46729                         1  \n",
       "47582                         2  \n",
       "32610                         2  \n",
       "22180                         1  \n",
       "28282                         2  \n",
       "...                         ...  \n",
       "30659                         2  \n",
       "15594                         1  \n",
       "28450                         1  \n",
       "47657                         2  \n",
       "45805                         1  \n",
       "\n",
       "[33697 rows x 18 columns]"
      ]
     },
     "execution_count": 87,
     "metadata": {},
     "output_type": "execute_result"
    }
   ],
   "source": [
    "train_scale"
   ]
  },
  {
   "cell_type": "markdown",
   "id": "c85e2983",
   "metadata": {},
   "source": [
    "## 3. ??????"
   ]
  },
  {
   "cell_type": "markdown",
   "id": "b20e7292",
   "metadata": {},
   "source": [
    "## 4. ???????"
   ]
  },
  {
   "cell_type": "code",
   "execution_count": null,
   "id": "22b34a5d",
   "metadata": {},
   "outputs": [],
   "source": []
  },
  {
   "cell_type": "markdown",
   "id": "4ac72c27",
   "metadata": {},
   "source": [
    "**It looks like there is a linear correlation between ?????? and logerror**"
   ]
  },
  {
   "cell_type": "markdown",
   "id": "cf686f21",
   "metadata": {},
   "source": [
    "**Set Hypothesis**\n",
    "\n",
    "$H_0$ = There is no linear correlation between ?????? and logerror \n",
    "\n",
    "$H_a$ = There is a linear correlation between ?????? and logerror"
   ]
  },
  {
   "cell_type": "code",
   "execution_count": 13,
   "id": "9ec504a9",
   "metadata": {},
   "outputs": [],
   "source": [
    "#run spearmanr test and show results\n",
    "#e.age_spearmanr(train)"
   ]
  },
  {
   "cell_type": "markdown",
   "id": "558d96fa",
   "metadata": {},
   "source": [
    "**p < alpha, so we can reject the null hypothesis and say there is probably a a linear correlation between 2017_age and home value.** "
   ]
  },
  {
   "cell_type": "markdown",
   "id": "iraqi-sellers",
   "metadata": {},
   "source": [
    "### Exploration Summary\n",
    "* ```square_feet``` has the highest correlation coefficient so I will use it in my model.\n",
    "* ```bed_bath_ratio```, ```2017_age```, and ```county``` all show a relationship with home value so I will also take them to my model."
   ]
  },
  {
   "cell_type": "markdown",
   "id": "bee611a0",
   "metadata": {},
   "source": [
    "### Features I'm moving on with\n",
    "| Feature | Reason | \n",
    "|:--------|:-----------|\n",
    "|**size_location_cluster**| |\n",
    "|**bath_bed_ratio**| From our Spearman's test we saw that the correlation coefficient is 0.32 between ```bath_bed_ratio``` and ```home_value```|\n",
    "|**2017_age**| From our Spearman's test we saw that the correlation coefficient is 0.27 between ```2017_age``` and ```home_value```|\n",
    "|**county**| From our ANOVA test we see that there is a difference between the home values in each county|"
   ]
  },
  {
   "cell_type": "markdown",
   "id": "8a419e13",
   "metadata": {},
   "source": [
    "### Features I'm not moving on with\n",
    "\n",
    "| Feature | Reason \n",
    "|:--------|:-----------\n",
    "|**parcelid**| id number that is not needed in the model\n",
    "| **bathroooms** | Represented in the ```bath_bed_ratio``` so it would be redundant.\n",
    "| **bedrooms** | Represented in the ```bath_bed_ratio``` so it would be redundant.\n",
    "|**year_built**| Represented in the ```2017_age``` so it would be redundant."
   ]
  },
  {
   "cell_type": "markdown",
   "id": "emotional-purchase",
   "metadata": {},
   "source": [
    "### Prep for modeling\n",
    "* I scaled the drivers using the minmax scaler\n",
    "* Split the data into where ```home_value``` is the target variable"
   ]
  },
  {
   "cell_type": "code",
   "execution_count": 15,
   "id": "24840c3e",
   "metadata": {},
   "outputs": [],
   "source": [
    "#prepare data for modeling\n",
    "X_train, y_train, X_validate, y_validate, X_test, y_test = w.prep_for_model(train, validate, test, 'logerror', drivers)"
   ]
  },
  {
   "cell_type": "markdown",
   "id": "4c5cec5c",
   "metadata": {},
   "source": [
    "### Baseline models\n",
    "* Looked at both using mean and median as a baseline model.\n",
    "* Mean baseline performed better on the in-sample and out-of sample data SO I went with mean."
   ]
  },
  {
   "cell_type": "code",
   "execution_count": 18,
   "id": "a9bf6669",
   "metadata": {},
   "outputs": [],
   "source": [
    "import sklearn.metrics as metric\n",
    "\n",
    "def baseline_models(y_train, y_validate):\n",
    "    '''\n",
    "    Takes in y_train and y_validate and returns a df of \n",
    "    baseline_mean and baseline_median and how they perform\n",
    "    '''\n",
    "    train_predictions = pd.DataFrame(y_train)\n",
    "    validate_predictions = pd.DataFrame(y_validate)\n",
    "    \n",
    "    y_pred_mean = y_train.mean()\n",
    "    train_predictions['y_pred_mean'] = y_pred_mean\n",
    "    validate_predictions['y_pred_mean'] = y_pred_mean\n",
    "    \n",
    "    y_pred_median = y_train.median()\n",
    "    train_predictions['y_pred_median'] = y_pred_median\n",
    "    validate_predictions['y_pred_median'] = y_pred_median\n",
    "\n",
    "    # create the metric_df as a blank dataframe\n",
    "    metric_df = pd.DataFrame(data=[\n",
    "    {\n",
    "        'model': 'mean_baseline', \n",
    "        'RMSE_train': metric.mean_squared_error(\n",
    "            y_train,\n",
    "            train_predictions['y_pred_mean']) ** .5,\n",
    "        'RMSE_validate': metric.mean_squared_error(\n",
    "            y_validate,\n",
    "            validate_predictions['y_pred_mean']) ** .5,\n",
    "        'Difference': (( metric.mean_squared_error(\n",
    "            y_train,\n",
    "            train_predictions['y_pred_mean']) ** .5)-(metric.mean_squared_error(\n",
    "            y_validate,\n",
    "            validate_predictions['y_pred_mean']) ** .5))\n",
    "    }])\n",
    "\n",
    "    return metric_df.append(\n",
    "            {\n",
    "                'model': 'median_baseline', \n",
    "                'RMSE_train': metric.mean_squared_error(\n",
    "                    y_train,\n",
    "                    train_predictions['y_pred_median']) ** .5,\n",
    "                'RMSE_validate': metric.mean_squared_error(\n",
    "                    y_validate,\n",
    "                    validate_predictions['y_pred_median']) ** .5,\n",
    "                'Difference': (( metric.mean_squared_error(\n",
    "                    y_train,\n",
    "                    train_predictions['y_pred_median']) ** .5)-(metric.mean_squared_error(\n",
    "                    y_validate,\n",
    "                    validate_predictions['y_pred_median']) ** .5))\n",
    "            }, ignore_index=True)"
   ]
  },
  {
   "cell_type": "code",
   "execution_count": 19,
   "id": "3dcdab37",
   "metadata": {},
   "outputs": [
    {
     "data": {
      "text/html": [
       "<div>\n",
       "<style scoped>\n",
       "    .dataframe tbody tr th:only-of-type {\n",
       "        vertical-align: middle;\n",
       "    }\n",
       "\n",
       "    .dataframe tbody tr th {\n",
       "        vertical-align: top;\n",
       "    }\n",
       "\n",
       "    .dataframe thead th {\n",
       "        text-align: right;\n",
       "    }\n",
       "</style>\n",
       "<table border=\"1\" class=\"dataframe\">\n",
       "  <thead>\n",
       "    <tr style=\"text-align: right;\">\n",
       "      <th></th>\n",
       "      <th>model</th>\n",
       "      <th>RMSE_train</th>\n",
       "      <th>RMSE_validate</th>\n",
       "      <th>Difference</th>\n",
       "    </tr>\n",
       "  </thead>\n",
       "  <tbody>\n",
       "    <tr>\n",
       "      <th>0</th>\n",
       "      <td>mean_baseline</td>\n",
       "      <td>0.174556</td>\n",
       "      <td>0.18238</td>\n",
       "      <td>-0.007824</td>\n",
       "    </tr>\n",
       "    <tr>\n",
       "      <th>1</th>\n",
       "      <td>median_baseline</td>\n",
       "      <td>0.174886</td>\n",
       "      <td>0.18275</td>\n",
       "      <td>-0.007864</td>\n",
       "    </tr>\n",
       "  </tbody>\n",
       "</table>\n",
       "</div>"
      ],
      "text/plain": [
       "             model  RMSE_train  RMSE_validate  Difference\n",
       "0    mean_baseline    0.174556        0.18238   -0.007824\n",
       "1  median_baseline    0.174886        0.18275   -0.007864"
      ]
     },
     "execution_count": 19,
     "metadata": {},
     "output_type": "execute_result"
    }
   ],
   "source": [
    "baseline_models(y_train, y_validate)"
   ]
  },
  {
   "cell_type": "markdown",
   "id": "0387b5eb",
   "metadata": {},
   "source": [
    "### Model Comparison"
   ]
  },
  {
   "cell_type": "code",
   "execution_count": null,
   "id": "bfaad81d",
   "metadata": {},
   "outputs": [],
   "source": [
    "#run and compare models\n",
    "#m.regression_models(X_train, y_train, X_validate, y_validate)"
   ]
  },
  {
   "cell_type": "markdown",
   "id": "bright-evans",
   "metadata": {},
   "source": [
    "### Comparing Models\n",
    "* All models perfomed better than baseline for both train and validate data.\n",
    "* It was interesting that OLS Regressor and Lasso Lars both performed better on the out-of-sample data."
   ]
  },
  {
   "cell_type": "markdown",
   "id": "regulated-fellowship",
   "metadata": {},
   "source": [
    "### Best model: Random Forest Model \n",
    "* I chose the XXX (XXXXXXXXXX) because the difference in $RMSE$ between the train and validate was around  and they were both higher than the other models\n",
    "* I will now run the that model on test data to gauge how it will perform on future data"
   ]
  },
  {
   "cell_type": "code",
   "execution_count": null,
   "id": "4fac6a92",
   "metadata": {},
   "outputs": [],
   "source": [
    "#m.best_model(X_train, y_train, X_validate, y_validate, X_test, y_test)"
   ]
  },
  {
   "cell_type": "markdown",
   "id": "fc24d1d6",
   "metadata": {},
   "source": [
    "**This model performs better than baseline and with very similar accuracy across all three data sets (train, validate and test).**"
   ]
  },
  {
   "cell_type": "markdown",
   "id": "tutorial-twelve",
   "metadata": {},
   "source": [
    "## Conclusion\n",
    "\n",
    "### Summary\n",
    "*\n",
    "\n",
    "\n",
    "### Recommendations\n",
    "* We should do more research .\n",
    "* .\n",
    "\n",
    "### Next Steps\n",
    "* In the next iteration:\n",
    "    * "
   ]
  }
 ],
 "metadata": {
  "kernelspec": {
   "display_name": "Python 3 (ipykernel)",
   "language": "python",
   "name": "python3"
  },
  "language_info": {
   "codemirror_mode": {
    "name": "ipython",
    "version": 3
   },
   "file_extension": ".py",
   "mimetype": "text/x-python",
   "name": "python",
   "nbconvert_exporter": "python",
   "pygments_lexer": "ipython3",
   "version": "3.9.12"
  }
 },
 "nbformat": 4,
 "nbformat_minor": 5
}
