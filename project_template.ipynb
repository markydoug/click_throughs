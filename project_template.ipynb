{
 "cells": [
  {
   "cell_type": "markdown",
   "id": "premier-milan",
   "metadata": {},
   "source": [
    "# Click Throughs\n",
    "Will they click our ad?\n",
    "\n",
    "## Project Goals\n",
    "* Identify key features that can be used to create an effective predictive model.\n",
    "* Use classification models to make click-through predictions.\n",
    "* Use findings to make recommendations and establish a foundation for future work to improve model's performance."
   ]
  },
  {
   "cell_type": "markdown",
   "id": "going-assembly",
   "metadata": {},
   "source": [
    "## Imports"
   ]
  },
  {
   "cell_type": "code",
   "execution_count": 1,
   "id": "divided-poster",
   "metadata": {},
   "outputs": [],
   "source": [
    "#list all of the imports I used in this notebook or in a module\n",
    "import pandas as pd\n",
    "import numpy as np\n",
    "import matplotlib.pyplot as plt\n",
    "import seaborn as sns\n",
    "import os\n",
    "from scipy import stats\n",
    "from sklearn.model_selection import train_test_split\n",
    "from sklearn.cluster import KMeans\n",
    "import warnings\n",
    "warnings.filterwarnings(\"ignore\")\n",
    "from importlib import reload\n",
    "import sklearn.preprocessing as pre\n",
    "\n",
    "\n",
    "pd.options.display.float_format = '{:,.6f}'.format\n",
    "\n",
    "#set font size\n",
    "sns.set(font_scale=1.5)\n",
    "#set graph style\n",
    "sns.set_style('white')\n",
    "\n",
    "#import my personal modules created for this report\n",
    "import wrangle as w\n",
    "import explore as e\n",
    "import model as m"
   ]
  },
  {
   "cell_type": "markdown",
   "id": "criminal-glory",
   "metadata": {},
   "source": [
    "## Acquire\n",
    "\n",
    "* Data acquired from interviewquery github on December 12, 2022.\n",
    "* It contained 600000 rows and 24 columns\n",
    "* Each observation represents an instance of an online advertisement\n",
    "* Each column represents a feature of those visits"
   ]
  },
  {
   "cell_type": "code",
   "execution_count": 2,
   "id": "8e7703ef",
   "metadata": {},
   "outputs": [],
   "source": [
    "#import train and test data sets from interviewquery github\n",
    "unclean_click_through_data = w.acquire_click_through_data()"
   ]
  },
  {
   "cell_type": "markdown",
   "id": "impossible-bible",
   "metadata": {},
   "source": [
    "## Prepare\n",
    "* Checked for nulls, there were none\n",
    "* Changed the ```hour``` column to datetime\n",
    "* Created columns ```hour_of_day``` and ```day_of_week``` based on ```hour``` column\n",
    "* Split data into train, validate, and test (65/20/15)"
   ]
  },
  {
   "cell_type": "code",
   "execution_count": 3,
   "id": "a497ecef",
   "metadata": {},
   "outputs": [],
   "source": [
    "#prep data\n",
    "click_through_data = w.prep_data(unclean_click_through_data)"
   ]
  },
  {
   "cell_type": "code",
   "execution_count": 4,
   "id": "b70e0cdc",
   "metadata": {},
   "outputs": [],
   "source": [
    "#split data\n",
    "train, validate, test = w.split_data(click_through_data)"
   ]
  },
  {
   "cell_type": "markdown",
   "id": "cf54e5e1",
   "metadata": {},
   "source": [
    "### Data dictionary\n",
    "| Feature | Definition | Type |\n",
    "|:--------|:-----------|:-------\n",
    "|**id**| Advertisement instance unique id | *int*|\n",
    "| **hour** | The date and hour of day |*datetime*|\n",
    "| **C1** | Anonymized categorical variable |*int*|\n",
    "|**banner_pos**| Location of ad on the page | *int*|\n",
    "|**hour_of_day**| Hour of the day when the ad was displayed | *str*|\n",
    "|**day_of_week**| Day of the week when the ad was displayed | *str*|\n",
    "|**C14-C21**|Anonymized continuous variables | *int*|\n",
    "|**Target variable**\n",
    "|**click**| Did they click? (1-Yes, 0-No) | *int* |"
   ]
  },
  {
   "cell_type": "markdown",
   "id": "e05229cb",
   "metadata": {},
   "source": [
    "### A look at the data"
   ]
  },
  {
   "cell_type": "code",
   "execution_count": 5,
   "id": "f8f1eb5e",
   "metadata": {
    "scrolled": true
   },
   "outputs": [
    {
     "data": {
      "text/html": [
       "<div>\n",
       "<style scoped>\n",
       "    .dataframe tbody tr th:only-of-type {\n",
       "        vertical-align: middle;\n",
       "    }\n",
       "\n",
       "    .dataframe tbody tr th {\n",
       "        vertical-align: top;\n",
       "    }\n",
       "\n",
       "    .dataframe thead th {\n",
       "        text-align: right;\n",
       "    }\n",
       "</style>\n",
       "<table border=\"1\" class=\"dataframe\">\n",
       "  <thead>\n",
       "    <tr style=\"text-align: right;\">\n",
       "      <th></th>\n",
       "      <th>id</th>\n",
       "      <th>click</th>\n",
       "      <th>hour</th>\n",
       "      <th>C1</th>\n",
       "      <th>banner_pos</th>\n",
       "      <th>site_id</th>\n",
       "      <th>site_domain</th>\n",
       "      <th>site_category</th>\n",
       "      <th>app_id</th>\n",
       "      <th>app_domain</th>\n",
       "      <th>...</th>\n",
       "      <th>C14</th>\n",
       "      <th>C15</th>\n",
       "      <th>C16</th>\n",
       "      <th>C17</th>\n",
       "      <th>C18</th>\n",
       "      <th>C19</th>\n",
       "      <th>C20</th>\n",
       "      <th>C21</th>\n",
       "      <th>hour_of_day</th>\n",
       "      <th>day_of_week</th>\n",
       "    </tr>\n",
       "  </thead>\n",
       "  <tbody>\n",
       "    <tr>\n",
       "      <th>366134</th>\n",
       "      <td>2009636145773373157</td>\n",
       "      <td>0</td>\n",
       "      <td>2014-10-27 16:00:00</td>\n",
       "      <td>1005</td>\n",
       "      <td>0</td>\n",
       "      <td>1fbe01fe</td>\n",
       "      <td>f3845767</td>\n",
       "      <td>28905ebd</td>\n",
       "      <td>ecad2386</td>\n",
       "      <td>7801e8d9</td>\n",
       "      <td>...</td>\n",
       "      <td>15701</td>\n",
       "      <td>320</td>\n",
       "      <td>50</td>\n",
       "      <td>1722</td>\n",
       "      <td>0</td>\n",
       "      <td>35</td>\n",
       "      <td>-1</td>\n",
       "      <td>79</td>\n",
       "      <td>16</td>\n",
       "      <td>Monday</td>\n",
       "    </tr>\n",
       "    <tr>\n",
       "      <th>95054</th>\n",
       "      <td>17172250707259950008</td>\n",
       "      <td>0</td>\n",
       "      <td>2014-10-24 06:00:00</td>\n",
       "      <td>1005</td>\n",
       "      <td>0</td>\n",
       "      <td>1fbe01fe</td>\n",
       "      <td>f3845767</td>\n",
       "      <td>28905ebd</td>\n",
       "      <td>ecad2386</td>\n",
       "      <td>7801e8d9</td>\n",
       "      <td>...</td>\n",
       "      <td>21762</td>\n",
       "      <td>320</td>\n",
       "      <td>50</td>\n",
       "      <td>2502</td>\n",
       "      <td>0</td>\n",
       "      <td>39</td>\n",
       "      <td>-1</td>\n",
       "      <td>221</td>\n",
       "      <td>6</td>\n",
       "      <td>Friday</td>\n",
       "    </tr>\n",
       "    <tr>\n",
       "      <th>189299</th>\n",
       "      <td>2922056073063093914</td>\n",
       "      <td>0</td>\n",
       "      <td>2014-10-25 13:00:00</td>\n",
       "      <td>1005</td>\n",
       "      <td>0</td>\n",
       "      <td>85f751fd</td>\n",
       "      <td>c4e18dd6</td>\n",
       "      <td>50e219e0</td>\n",
       "      <td>03528b27</td>\n",
       "      <td>2347f47a</td>\n",
       "      <td>...</td>\n",
       "      <td>15706</td>\n",
       "      <td>320</td>\n",
       "      <td>50</td>\n",
       "      <td>1722</td>\n",
       "      <td>0</td>\n",
       "      <td>35</td>\n",
       "      <td>100083</td>\n",
       "      <td>79</td>\n",
       "      <td>13</td>\n",
       "      <td>Saturday</td>\n",
       "    </tr>\n",
       "    <tr>\n",
       "      <th>569650</th>\n",
       "      <td>4743847194723927815</td>\n",
       "      <td>0</td>\n",
       "      <td>2014-10-29 14:00:00</td>\n",
       "      <td>1010</td>\n",
       "      <td>1</td>\n",
       "      <td>85f751fd</td>\n",
       "      <td>c4e18dd6</td>\n",
       "      <td>50e219e0</td>\n",
       "      <td>8c0dcd5a</td>\n",
       "      <td>7801e8d9</td>\n",
       "      <td>...</td>\n",
       "      <td>23822</td>\n",
       "      <td>320</td>\n",
       "      <td>50</td>\n",
       "      <td>2728</td>\n",
       "      <td>0</td>\n",
       "      <td>290</td>\n",
       "      <td>-1</td>\n",
       "      <td>42</td>\n",
       "      <td>14</td>\n",
       "      <td>Wednesday</td>\n",
       "    </tr>\n",
       "    <tr>\n",
       "      <th>581283</th>\n",
       "      <td>218700043766238420</td>\n",
       "      <td>1</td>\n",
       "      <td>2014-10-29 17:00:00</td>\n",
       "      <td>1005</td>\n",
       "      <td>1</td>\n",
       "      <td>d9750ee7</td>\n",
       "      <td>98572c79</td>\n",
       "      <td>f028772b</td>\n",
       "      <td>ecad2386</td>\n",
       "      <td>7801e8d9</td>\n",
       "      <td>...</td>\n",
       "      <td>17614</td>\n",
       "      <td>320</td>\n",
       "      <td>50</td>\n",
       "      <td>1993</td>\n",
       "      <td>2</td>\n",
       "      <td>1063</td>\n",
       "      <td>100084</td>\n",
       "      <td>33</td>\n",
       "      <td>17</td>\n",
       "      <td>Wednesday</td>\n",
       "    </tr>\n",
       "  </tbody>\n",
       "</table>\n",
       "<p>5 rows × 26 columns</p>\n",
       "</div>"
      ],
      "text/plain": [
       "                          id  click                hour    C1  banner_pos  \\\n",
       "366134   2009636145773373157      0 2014-10-27 16:00:00  1005           0   \n",
       "95054   17172250707259950008      0 2014-10-24 06:00:00  1005           0   \n",
       "189299   2922056073063093914      0 2014-10-25 13:00:00  1005           0   \n",
       "569650   4743847194723927815      0 2014-10-29 14:00:00  1010           1   \n",
       "581283    218700043766238420      1 2014-10-29 17:00:00  1005           1   \n",
       "\n",
       "         site_id site_domain site_category    app_id app_domain  ...    C14  \\\n",
       "366134  1fbe01fe    f3845767      28905ebd  ecad2386   7801e8d9  ...  15701   \n",
       "95054   1fbe01fe    f3845767      28905ebd  ecad2386   7801e8d9  ...  21762   \n",
       "189299  85f751fd    c4e18dd6      50e219e0  03528b27   2347f47a  ...  15706   \n",
       "569650  85f751fd    c4e18dd6      50e219e0  8c0dcd5a   7801e8d9  ...  23822   \n",
       "581283  d9750ee7    98572c79      f028772b  ecad2386   7801e8d9  ...  17614   \n",
       "\n",
       "        C15 C16   C17  C18   C19     C20  C21  hour_of_day  day_of_week  \n",
       "366134  320  50  1722    0    35      -1   79           16       Monday  \n",
       "95054   320  50  2502    0    39      -1  221            6       Friday  \n",
       "189299  320  50  1722    0    35  100083   79           13     Saturday  \n",
       "569650  320  50  2728    0   290      -1   42           14    Wednesday  \n",
       "581283  320  50  1993    2  1063  100084   33           17    Wednesday  \n",
       "\n",
       "[5 rows x 26 columns]"
      ]
     },
     "execution_count": 5,
     "metadata": {},
     "output_type": "execute_result"
    }
   ],
   "source": [
    "#show the first few rows of the train data\n",
    "train.head()"
   ]
  },
  {
   "cell_type": "markdown",
   "id": "immediate-mirror",
   "metadata": {},
   "source": [
    "## Explore"
   ]
  },
  {
   "cell_type": "markdown",
   "id": "2b06e4e4",
   "metadata": {},
   "source": [
    "### 1. What percentage of visits resulted in a click-through?"
   ]
  },
  {
   "cell_type": "code",
   "execution_count": 6,
   "id": "3e955525",
   "metadata": {},
   "outputs": [
    {
     "data": {
      "image/png": "[encoded data removed]",
      "text/plain": [
       "<Figure size 576x396 with 1 Axes>"
      ]
     },
     "metadata": {},
     "output_type": "display_data"
    }
   ],
   "source": [
    "#show percentage of clicks\n",
    "e.click_percentage(train)"
   ]
  },
  {
   "cell_type": "markdown",
   "id": "d4968c6b",
   "metadata": {},
   "source": [
    "### 2. Does the hour of the day have an impact of click-throughs?"
   ]
  },
  {
   "cell_type": "code",
   "execution_count": 7,
   "id": "b658d8c9",
   "metadata": {},
   "outputs": [
    {
     "data": {
      "image/png": "[encoded data removed]",
      "text/plain": [
       "<Figure size 1440x576 with 2 Axes>"
      ]
     },
     "metadata": {},
     "output_type": "display_data"
    }
   ],
   "source": [
    "e.hour_click_through_viz(train)"
   ]
  },
  {
   "cell_type": "markdown",
   "id": "397c7299",
   "metadata": {},
   "source": [
    "**It looks like there are more click throughs per instance at 1 am and 3 pm (15).** \n",
    "\n",
    "***Let's do a $\\chi^2$ to see if there is a relationship***"
   ]
  },
  {
   "cell_type": "markdown",
   "id": "45acc229",
   "metadata": {},
   "source": [
    "**Set Hypothesis**\n",
    "\n",
    "$H_0$ = There is no relationship between each ```hour_of_day``` and ```click```.\n",
    "\n",
    "$H_a$ = There is a relationship between each ```hour_of_day``` and ```click```."
   ]
  },
  {
   "cell_type": "code",
   "execution_count": 8,
   "id": "fe29a20a",
   "metadata": {},
   "outputs": [],
   "source": [
    "pd.set_option(\"display.max_columns\", 50)"
   ]
  },
  {
   "cell_type": "code",
   "execution_count": 9,
   "id": "6811c9c2",
   "metadata": {
    "scrolled": true
   },
   "outputs": [
    {
     "data": {
      "text/html": [
       "<div>\n",
       "<style scoped>\n",
       "    .dataframe tbody tr th:only-of-type {\n",
       "        vertical-align: middle;\n",
       "    }\n",
       "\n",
       "    .dataframe tbody tr th {\n",
       "        vertical-align: top;\n",
       "    }\n",
       "\n",
       "    .dataframe thead th {\n",
       "        text-align: right;\n",
       "    }\n",
       "</style>\n",
       "<table border=\"1\" class=\"dataframe\">\n",
       "  <thead>\n",
       "    <tr style=\"text-align: right;\">\n",
       "      <th>hour_of_day</th>\n",
       "      <th>15</th>\n",
       "      <th>9</th>\n",
       "      <th>16</th>\n",
       "      <th>8</th>\n",
       "      <th>19</th>\n",
       "      <th>20</th>\n",
       "      <th>18</th>\n",
       "      <th>21</th>\n",
       "      <th>14</th>\n",
       "      <th>1</th>\n",
       "      <th>0</th>\n",
       "      <th>11</th>\n",
       "      <th>7</th>\n",
       "      <th>13</th>\n",
       "      <th>22</th>\n",
       "      <th>6</th>\n",
       "      <th>17</th>\n",
       "      <th>5</th>\n",
       "      <th>12</th>\n",
       "      <th>10</th>\n",
       "      <th>2</th>\n",
       "      <th>23</th>\n",
       "      <th>4</th>\n",
       "      <th>3</th>\n",
       "    </tr>\n",
       "  </thead>\n",
       "  <tbody>\n",
       "    <tr>\n",
       "      <th>χ^2</th>\n",
       "      <td>24.974033</td>\n",
       "      <td>24.494476</td>\n",
       "      <td>19.948293</td>\n",
       "      <td>16.443461</td>\n",
       "      <td>15.645811</td>\n",
       "      <td>15.374762</td>\n",
       "      <td>13.647408</td>\n",
       "      <td>10.994026</td>\n",
       "      <td>8.531434</td>\n",
       "      <td>8.129003</td>\n",
       "      <td>6.936594</td>\n",
       "      <td>4.153922</td>\n",
       "      <td>3.490100</td>\n",
       "      <td>3.218827</td>\n",
       "      <td>2.792559</td>\n",
       "      <td>1.592921</td>\n",
       "      <td>0.855082</td>\n",
       "      <td>0.733638</td>\n",
       "      <td>0.722513</td>\n",
       "      <td>0.628886</td>\n",
       "      <td>0.206261</td>\n",
       "      <td>0.064111</td>\n",
       "      <td>0.021792</td>\n",
       "      <td>0.011356</td>\n",
       "    </tr>\n",
       "    <tr>\n",
       "      <th>p-value</th>\n",
       "      <td>0.000001</td>\n",
       "      <td>0.000001</td>\n",
       "      <td>0.000008</td>\n",
       "      <td>0.000050</td>\n",
       "      <td>0.000076</td>\n",
       "      <td>0.000088</td>\n",
       "      <td>0.000221</td>\n",
       "      <td>0.000914</td>\n",
       "      <td>0.003491</td>\n",
       "      <td>0.004356</td>\n",
       "      <td>0.008445</td>\n",
       "      <td>0.041538</td>\n",
       "      <td>0.061737</td>\n",
       "      <td>0.072796</td>\n",
       "      <td>0.094703</td>\n",
       "      <td>0.206909</td>\n",
       "      <td>0.355119</td>\n",
       "      <td>0.391707</td>\n",
       "      <td>0.395321</td>\n",
       "      <td>0.427764</td>\n",
       "      <td>0.649714</td>\n",
       "      <td>0.800112</td>\n",
       "      <td>0.882641</td>\n",
       "      <td>0.915134</td>\n",
       "    </tr>\n",
       "  </tbody>\n",
       "</table>\n",
       "</div>"
      ],
      "text/plain": [
       "hour_of_day        15        9         16        8         19        20  \\\n",
       "χ^2         24.974033 24.494476 19.948293 16.443461 15.645811 15.374762   \n",
       "p-value      0.000001  0.000001  0.000008  0.000050  0.000076  0.000088   \n",
       "\n",
       "hour_of_day        18        21       14       1        0        11       7   \\\n",
       "χ^2         13.647408 10.994026 8.531434 8.129003 6.936594 4.153922 3.490100   \n",
       "p-value      0.000221  0.000914 0.003491 0.004356 0.008445 0.041538 0.061737   \n",
       "\n",
       "hour_of_day       13       22       6        17       5        12       10  \\\n",
       "χ^2         3.218827 2.792559 1.592921 0.855082 0.733638 0.722513 0.628886   \n",
       "p-value     0.072796 0.094703 0.206909 0.355119 0.391707 0.395321 0.427764   \n",
       "\n",
       "hour_of_day       2        23       4        3   \n",
       "χ^2         0.206261 0.064111 0.021792 0.011356  \n",
       "p-value     0.649714 0.800112 0.882641 0.915134  "
      ]
     },
     "execution_count": 9,
     "metadata": {},
     "output_type": "execute_result"
    }
   ],
   "source": [
    "e.chi_square_matrix(train, 'hour_of_day', 'click').T"
   ]
  },
  {
   "cell_type": "markdown",
   "id": "81554949",
   "metadata": {},
   "source": [
    "**p < alpha for ```hour_of_day``` (0, 1, 8, 9, 11, 14, 15, 16, 18, 19, 20, 21) so we can reject the null hypothesis for those hours and say there is probably a relationship between those hours and ```clicks```**"
   ]
  },
  {
   "cell_type": "markdown",
   "id": "c85e2983",
   "metadata": {},
   "source": [
    "## 3. Does the day of the week have an impact on click-throughs?"
   ]
  },
  {
   "cell_type": "code",
   "execution_count": 10,
   "id": "88e397e6",
   "metadata": {},
   "outputs": [
    {
     "data": {
      "image/png": "[encoded data removed]",
      "text/plain": [
       "<Figure size 1440x576 with 2 Axes>"
      ]
     },
     "metadata": {},
     "output_type": "display_data"
    }
   ],
   "source": [
    "e.day_click_through_viz(train)"
   ]
  },
  {
   "cell_type": "markdown",
   "id": "f2714fd9",
   "metadata": {},
   "source": [
    "**Set Hypothesis**\n",
    "\n",
    "$H_0$ = There is no relationship between each ```day_of_week``` and ```click```.\n",
    "\n",
    "$H_a$ = There is a relationship between each ```day_of_week``` and ```click```."
   ]
  },
  {
   "cell_type": "code",
   "execution_count": 11,
   "id": "c2ac770f",
   "metadata": {},
   "outputs": [
    {
     "data": {
      "text/html": [
       "<div>\n",
       "<style scoped>\n",
       "    .dataframe tbody tr th:only-of-type {\n",
       "        vertical-align: middle;\n",
       "    }\n",
       "\n",
       "    .dataframe tbody tr th {\n",
       "        vertical-align: top;\n",
       "    }\n",
       "\n",
       "    .dataframe thead th {\n",
       "        text-align: right;\n",
       "    }\n",
       "</style>\n",
       "<table border=\"1\" class=\"dataframe\">\n",
       "  <thead>\n",
       "    <tr style=\"text-align: right;\">\n",
       "      <th></th>\n",
       "      <th>χ^2</th>\n",
       "      <th>p-value</th>\n",
       "    </tr>\n",
       "    <tr>\n",
       "      <th>day_of_week</th>\n",
       "      <th></th>\n",
       "      <th></th>\n",
       "    </tr>\n",
       "  </thead>\n",
       "  <tbody>\n",
       "    <tr>\n",
       "      <th>Tuesday</th>\n",
       "      <td>256.610032</td>\n",
       "      <td>0.000000</td>\n",
       "    </tr>\n",
       "    <tr>\n",
       "      <th>Wednesday</th>\n",
       "      <td>87.576922</td>\n",
       "      <td>0.000000</td>\n",
       "    </tr>\n",
       "    <tr>\n",
       "      <th>Sunday</th>\n",
       "      <td>62.540524</td>\n",
       "      <td>0.000000</td>\n",
       "    </tr>\n",
       "    <tr>\n",
       "      <th>Saturday</th>\n",
       "      <td>48.801849</td>\n",
       "      <td>0.000000</td>\n",
       "    </tr>\n",
       "    <tr>\n",
       "      <th>Thursday</th>\n",
       "      <td>25.087336</td>\n",
       "      <td>0.000001</td>\n",
       "    </tr>\n",
       "    <tr>\n",
       "      <th>Monday</th>\n",
       "      <td>24.819706</td>\n",
       "      <td>0.000001</td>\n",
       "    </tr>\n",
       "    <tr>\n",
       "      <th>Friday</th>\n",
       "      <td>13.459815</td>\n",
       "      <td>0.000244</td>\n",
       "    </tr>\n",
       "  </tbody>\n",
       "</table>\n",
       "</div>"
      ],
      "text/plain": [
       "                   χ^2  p-value\n",
       "day_of_week                    \n",
       "Tuesday     256.610032 0.000000\n",
       "Wednesday    87.576922 0.000000\n",
       "Sunday       62.540524 0.000000\n",
       "Saturday     48.801849 0.000000\n",
       "Thursday     25.087336 0.000001\n",
       "Monday       24.819706 0.000001\n",
       "Friday       13.459815 0.000244"
      ]
     },
     "execution_count": 11,
     "metadata": {},
     "output_type": "execute_result"
    }
   ],
   "source": [
    "e.chi_square_matrix(train, 'day_of_week', 'click')"
   ]
  },
  {
   "cell_type": "markdown",
   "id": "237d91e6",
   "metadata": {},
   "source": [
    "**p < alpha, so we can reject the null hypothesis and say there is probably a relationship between every ```day_of_week``` and ```click```.** "
   ]
  },
  {
   "cell_type": "markdown",
   "id": "b20e7292",
   "metadata": {},
   "source": [
    "## 4. Does banner position have an impact click-throughs?"
   ]
  },
  {
   "cell_type": "code",
   "execution_count": 12,
   "id": "e00d8dda",
   "metadata": {},
   "outputs": [
    {
     "data": {
      "image/png": "[encoded data removed]",
      "text/plain": [
       "<Figure size 1440x576 with 1 Axes>"
      ]
     },
     "metadata": {},
     "output_type": "display_data"
    }
   ],
   "source": [
    "e.banner_pos_viz(train)"
   ]
  },
  {
   "cell_type": "markdown",
   "id": "c154a22c",
   "metadata": {},
   "source": [
    "**Set Hypothesis**\n",
    "\n",
    "$H_0$ = There is no association between each ```banner_pos``` and ```click```.\n",
    "\n",
    "$H_a$ = There is a association between each ```banner_pos``` and ```click```."
   ]
  },
  {
   "cell_type": "code",
   "execution_count": 13,
   "id": "0f766c5f",
   "metadata": {},
   "outputs": [
    {
     "data": {
      "text/html": [
       "<div>\n",
       "<style scoped>\n",
       "    .dataframe tbody tr th:only-of-type {\n",
       "        vertical-align: middle;\n",
       "    }\n",
       "\n",
       "    .dataframe tbody tr th {\n",
       "        vertical-align: top;\n",
       "    }\n",
       "\n",
       "    .dataframe thead th {\n",
       "        text-align: right;\n",
       "    }\n",
       "</style>\n",
       "<table border=\"1\" class=\"dataframe\">\n",
       "  <thead>\n",
       "    <tr style=\"text-align: right;\">\n",
       "      <th>banner_pos</th>\n",
       "      <th>0</th>\n",
       "      <th>1</th>\n",
       "      <th>7</th>\n",
       "      <th>2</th>\n",
       "      <th>3</th>\n",
       "      <th>5</th>\n",
       "      <th>4</th>\n",
       "    </tr>\n",
       "  </thead>\n",
       "  <tbody>\n",
       "    <tr>\n",
       "      <th>χ^2</th>\n",
       "      <td>419.231320</td>\n",
       "      <td>397.382334</td>\n",
       "      <td>72.117357</td>\n",
       "      <td>8.486756</td>\n",
       "      <td>0.342021</td>\n",
       "      <td>0.184251</td>\n",
       "      <td>0.036154</td>\n",
       "    </tr>\n",
       "    <tr>\n",
       "      <th>p-value</th>\n",
       "      <td>0.000000</td>\n",
       "      <td>0.000000</td>\n",
       "      <td>0.000000</td>\n",
       "      <td>0.003577</td>\n",
       "      <td>0.558665</td>\n",
       "      <td>0.667745</td>\n",
       "      <td>0.849197</td>\n",
       "    </tr>\n",
       "  </tbody>\n",
       "</table>\n",
       "</div>"
      ],
      "text/plain": [
       "banner_pos          0          1         7        2        3        5        4\n",
       "χ^2        419.231320 397.382334 72.117357 8.486756 0.342021 0.184251 0.036154\n",
       "p-value      0.000000   0.000000  0.000000 0.003577 0.558665 0.667745 0.849197"
      ]
     },
     "execution_count": 13,
     "metadata": {},
     "output_type": "execute_result"
    }
   ],
   "source": [
    "e.chi_square_matrix(train, 'banner_pos', 'click').T"
   ]
  },
  {
   "cell_type": "markdown",
   "id": "88fbab72",
   "metadata": {},
   "source": [
    "**p < alpha, so we can reject the null hypothesis and say there is probably a relationship between ```banner_pos``` (0, 1, 2, 7) and ```click```.** "
   ]
  },
  {
   "cell_type": "markdown",
   "id": "e6ecd169",
   "metadata": {},
   "source": [
    "## 5. Do the annoymized continuous features have an impact on click-throughs?"
   ]
  },
  {
   "cell_type": "markdown",
   "id": "415e9912",
   "metadata": {},
   "source": [
    "**Set Hypothesis**\n",
    "\n",
    "$H_0$ = There is no difference in means between each annoymized continuous feature (```C14```-```C21```) for those who click and don't click.\n",
    "\n",
    "$H_a$ = There is a difference in means between each annoymized continuous feature (```C14```-```C21```) for those who click and don't click."
   ]
  },
  {
   "cell_type": "markdown",
   "id": "369476b4",
   "metadata": {},
   "source": [
    "After running levene test, each feature was found of equal variance."
   ]
  },
  {
   "cell_type": "code",
   "execution_count": 14,
   "id": "5cf53317",
   "metadata": {
    "scrolled": true
   },
   "outputs": [
    {
     "data": {
      "text/html": [
       "<div>\n",
       "<style scoped>\n",
       "    .dataframe tbody tr th:only-of-type {\n",
       "        vertical-align: middle;\n",
       "    }\n",
       "\n",
       "    .dataframe tbody tr th {\n",
       "        vertical-align: top;\n",
       "    }\n",
       "\n",
       "    .dataframe thead th {\n",
       "        text-align: right;\n",
       "    }\n",
       "</style>\n",
       "<table border=\"1\" class=\"dataframe\">\n",
       "  <thead>\n",
       "    <tr style=\"text-align: right;\">\n",
       "      <th>Feature</th>\n",
       "      <th>C14</th>\n",
       "      <th>C15</th>\n",
       "      <th>C16</th>\n",
       "      <th>C17</th>\n",
       "      <th>C18</th>\n",
       "      <th>C19</th>\n",
       "      <th>C20</th>\n",
       "      <th>C21</th>\n",
       "    </tr>\n",
       "  </thead>\n",
       "  <tbody>\n",
       "    <tr>\n",
       "      <th>t-stat</th>\n",
       "      <td>-32.637333</td>\n",
       "      <td>-24.622133</td>\n",
       "      <td>88.747292</td>\n",
       "      <td>-28.859901</td>\n",
       "      <td>23.310517</td>\n",
       "      <td>-7.521031</td>\n",
       "      <td>-37.508760</td>\n",
       "      <td>-47.752094</td>\n",
       "    </tr>\n",
       "    <tr>\n",
       "      <th>p-value</th>\n",
       "      <td>0.000000</td>\n",
       "      <td>0.000000</td>\n",
       "      <td>0.000000</td>\n",
       "      <td>0.000000</td>\n",
       "      <td>0.000000</td>\n",
       "      <td>0.000000</td>\n",
       "      <td>0.000000</td>\n",
       "      <td>0.000000</td>\n",
       "    </tr>\n",
       "  </tbody>\n",
       "</table>\n",
       "</div>"
      ],
      "text/plain": [
       "Feature        C14        C15       C16        C17       C18       C19  \\\n",
       "t-stat  -32.637333 -24.622133 88.747292 -28.859901 23.310517 -7.521031   \n",
       "p-value   0.000000   0.000000  0.000000   0.000000  0.000000  0.000000   \n",
       "\n",
       "Feature        C20        C21  \n",
       "t-stat  -37.508760 -47.752094  \n",
       "p-value   0.000000   0.000000  "
      ]
     },
     "execution_count": 14,
     "metadata": {},
     "output_type": "execute_result"
    }
   ],
   "source": [
    "e.continuous_vars_ttest(train).T"
   ]
  },
  {
   "cell_type": "markdown",
   "id": "ae2ff32e",
   "metadata": {},
   "source": [
    "**p < alpha, so we can reject the null hypothesis and say there is proabably a difference in means between each annoymized continuous feature (```C14```-```C21```) for those who click and don't click.** "
   ]
  },
  {
   "cell_type": "markdown",
   "id": "iraqi-sellers",
   "metadata": {},
   "source": [
    "### Exploration Summary\n",
    "* ```hour_of_day``` (0, 1, 8, 9, 11, 14, 15, 16, 18, 19, 20, 21) probably have a relationship with```clicks```.\n",
    "* Each ```day_of_week``` probably has a relationship with ```click```.\n",
    "* ```banner_pos``` (0, 1, 2, 7) probably have a relationship with ```click```.\n",
    "* Proabably a difference in means between each annoymized continuous feature (```C14```-```C21```) for those who click and don't click."
   ]
  },
  {
   "cell_type": "markdown",
   "id": "bee611a0",
   "metadata": {},
   "source": [
    "### Features I'm moving on with\n",
    "| Feature | Reason | \n",
    "|:--------|:-----------|\n",
    "|**hour_of_day_(0, 1, 8, 9, 11, 14, 15, 16, 18, 19, 20, 21)**| $\\chi^2$ test results|\n",
    "|**day_of_week_(Monday-Sunday)**| $\\chi^2$ test results|\n",
    "|**banner_pos_(0, 1, 2, 7)**| $\\chi^2$ test results|\n",
    "|**C14-C21**| t-test results|"
   ]
  },
  {
   "cell_type": "markdown",
   "id": "8a419e13",
   "metadata": {},
   "source": [
    "### Features I'm not moving on with\n",
    "\n",
    "* All other columns will be dropped because it was difficult to find relationship with the other categorical variables and ```click``` due to computing power."
   ]
  },
  {
   "cell_type": "markdown",
   "id": "emotional-purchase",
   "metadata": {},
   "source": [
    "### Prep for modeling\n",
    "* Scale the numeric variables using the minmax scaler\n",
    "* Encode categorical variables"
   ]
  },
  {
   "cell_type": "code",
   "execution_count": 15,
   "id": "5efec7ae",
   "metadata": {},
   "outputs": [],
   "source": [
    "cols_to_encode = ['banner_pos', 'hour_of_day', 'day_of_week']"
   ]
  },
  {
   "cell_type": "code",
   "execution_count": 16,
   "id": "73b15d72",
   "metadata": {},
   "outputs": [],
   "source": [
    "train, validate, test = m.pre_prep(train, validate, test, cols_to_encode, 'click')"
   ]
  },
  {
   "cell_type": "code",
   "execution_count": 17,
   "id": "fa2c7850",
   "metadata": {},
   "outputs": [],
   "source": [
    "drivers = ['hour_of_day_0','hour_of_day_1','hour_of_day_8','hour_of_day_9',\n",
    "           'hour_of_day_11','hour_of_day_14','hour_of_day_15','hour_of_day_16',\n",
    "           'hour_of_day_18','hour_of_day_19','hour_of_day_20','hour_of_day_21', \n",
    "           'banner_pos_0', 'banner_pos_1', 'banner_pos_2', 'banner_pos_7',\n",
    "           'C14', 'C15', 'C16', 'C17', 'C18', 'C19', 'C20', 'C21']"
   ]
  },
  {
   "cell_type": "code",
   "execution_count": 18,
   "id": "d28403dc",
   "metadata": {},
   "outputs": [],
   "source": [
    "X_train, y_train, X_validate, y_validate, X_test, y_test = m.prep_for_model(train, validate, test, 'click', drivers)"
   ]
  },
  {
   "cell_type": "markdown",
   "id": "4c5cec5c",
   "metadata": {},
   "source": [
    "### Baseline models\n",
    "* Looked at both using mean and median as a baseline model.\n",
    "* Mean baseline performed better on the in-sample and out-of sample data SO I went with mean."
   ]
  },
  {
   "cell_type": "code",
   "execution_count": 19,
   "id": "3dcdab37",
   "metadata": {},
   "outputs": [
    {
     "name": "stdout",
     "output_type": "stream",
     "text": [
      "Baseline accuracy: 82.76%\n"
     ]
    }
   ],
   "source": [
    "#baseline based on the percentage of the mode\n",
    "baseline = y_train.value_counts(normalize=True).max()\n",
    "#print results\n",
    "print(f'Baseline accuracy: {baseline:.2%}')"
   ]
  },
  {
   "cell_type": "markdown",
   "id": "0387b5eb",
   "metadata": {},
   "source": [
    "### Model Comparison"
   ]
  },
  {
   "cell_type": "code",
   "execution_count": null,
   "id": "3269a4e4",
   "metadata": {},
   "outputs": [],
   "source": [
    "m.compare_models(X_train, y_train, X_validate, y_validate)"
   ]
  },
  {
   "cell_type": "code",
   "execution_count": 21,
   "id": "2e3bc798",
   "metadata": {},
   "outputs": [
    {
     "data": {
      "text/html": [
       "<div>\n",
       "<style scoped>\n",
       "    .dataframe tbody tr th:only-of-type {\n",
       "        vertical-align: middle;\n",
       "    }\n",
       "\n",
       "    .dataframe tbody tr th {\n",
       "        vertical-align: top;\n",
       "    }\n",
       "\n",
       "    .dataframe thead th {\n",
       "        text-align: right;\n",
       "    }\n",
       "</style>\n",
       "<table border=\"1\" class=\"dataframe\">\n",
       "  <thead>\n",
       "    <tr style=\"text-align: right;\">\n",
       "      <th></th>\n",
       "      <th>train_accuracy</th>\n",
       "      <th>validate_accuracy</th>\n",
       "      <th>accuracy_diff</th>\n",
       "    </tr>\n",
       "    <tr>\n",
       "      <th>max_depth</th>\n",
       "      <th></th>\n",
       "      <th></th>\n",
       "      <th></th>\n",
       "    </tr>\n",
       "  </thead>\n",
       "  <tbody>\n",
       "    <tr>\n",
       "      <th>1</th>\n",
       "      <td>0.827571</td>\n",
       "      <td>0.827568</td>\n",
       "      <td>0.000003</td>\n",
       "    </tr>\n",
       "    <tr>\n",
       "      <th>2</th>\n",
       "      <td>0.827571</td>\n",
       "      <td>0.827568</td>\n",
       "      <td>0.000003</td>\n",
       "    </tr>\n",
       "    <tr>\n",
       "      <th>3</th>\n",
       "      <td>0.827571</td>\n",
       "      <td>0.827568</td>\n",
       "      <td>0.000003</td>\n",
       "    </tr>\n",
       "    <tr>\n",
       "      <th>4</th>\n",
       "      <td>0.828441</td>\n",
       "      <td>0.828343</td>\n",
       "      <td>0.000097</td>\n",
       "    </tr>\n",
       "    <tr>\n",
       "      <th>5</th>\n",
       "      <td>0.828789</td>\n",
       "      <td>0.828635</td>\n",
       "      <td>0.000155</td>\n",
       "    </tr>\n",
       "    <tr>\n",
       "      <th>6</th>\n",
       "      <td>0.829246</td>\n",
       "      <td>0.829160</td>\n",
       "      <td>0.000086</td>\n",
       "    </tr>\n",
       "    <tr>\n",
       "      <th>7</th>\n",
       "      <td>0.829525</td>\n",
       "      <td>0.829001</td>\n",
       "      <td>0.000524</td>\n",
       "    </tr>\n",
       "    <tr>\n",
       "      <th>8</th>\n",
       "      <td>0.829661</td>\n",
       "      <td>0.828901</td>\n",
       "      <td>0.000760</td>\n",
       "    </tr>\n",
       "    <tr>\n",
       "      <th>9</th>\n",
       "      <td>0.830248</td>\n",
       "      <td>0.829293</td>\n",
       "      <td>0.000955</td>\n",
       "    </tr>\n",
       "    <tr>\n",
       "      <th>10</th>\n",
       "      <td>0.830482</td>\n",
       "      <td>0.829243</td>\n",
       "      <td>0.001239</td>\n",
       "    </tr>\n",
       "    <tr>\n",
       "      <th>11</th>\n",
       "      <td>0.831046</td>\n",
       "      <td>0.829293</td>\n",
       "      <td>0.001753</td>\n",
       "    </tr>\n",
       "    <tr>\n",
       "      <th>12</th>\n",
       "      <td>0.831561</td>\n",
       "      <td>0.829126</td>\n",
       "      <td>0.002435</td>\n",
       "    </tr>\n",
       "    <tr>\n",
       "      <th>13</th>\n",
       "      <td>0.832169</td>\n",
       "      <td>0.829018</td>\n",
       "      <td>0.003151</td>\n",
       "    </tr>\n",
       "    <tr>\n",
       "      <th>14</th>\n",
       "      <td>0.832889</td>\n",
       "      <td>0.828835</td>\n",
       "      <td>0.004055</td>\n",
       "    </tr>\n",
       "    <tr>\n",
       "      <th>15</th>\n",
       "      <td>0.833605</td>\n",
       "      <td>0.828260</td>\n",
       "      <td>0.005345</td>\n",
       "    </tr>\n",
       "    <tr>\n",
       "      <th>16</th>\n",
       "      <td>0.834323</td>\n",
       "      <td>0.827926</td>\n",
       "      <td>0.006396</td>\n",
       "    </tr>\n",
       "    <tr>\n",
       "      <th>17</th>\n",
       "      <td>0.835015</td>\n",
       "      <td>0.827626</td>\n",
       "      <td>0.007389</td>\n",
       "    </tr>\n",
       "    <tr>\n",
       "      <th>18</th>\n",
       "      <td>0.835692</td>\n",
       "      <td>0.827010</td>\n",
       "      <td>0.008682</td>\n",
       "    </tr>\n",
       "    <tr>\n",
       "      <th>19</th>\n",
       "      <td>0.836397</td>\n",
       "      <td>0.826451</td>\n",
       "      <td>0.009946</td>\n",
       "    </tr>\n",
       "    <tr>\n",
       "      <th>20</th>\n",
       "      <td>0.836992</td>\n",
       "      <td>0.826226</td>\n",
       "      <td>0.010765</td>\n",
       "    </tr>\n",
       "    <tr>\n",
       "      <th>21</th>\n",
       "      <td>0.837541</td>\n",
       "      <td>0.825851</td>\n",
       "      <td>0.011689</td>\n",
       "    </tr>\n",
       "    <tr>\n",
       "      <th>22</th>\n",
       "      <td>0.837948</td>\n",
       "      <td>0.825393</td>\n",
       "      <td>0.012555</td>\n",
       "    </tr>\n",
       "    <tr>\n",
       "      <th>23</th>\n",
       "      <td>0.838287</td>\n",
       "      <td>0.825293</td>\n",
       "      <td>0.012994</td>\n",
       "    </tr>\n",
       "    <tr>\n",
       "      <th>24</th>\n",
       "      <td>0.838669</td>\n",
       "      <td>0.825051</td>\n",
       "      <td>0.013617</td>\n",
       "    </tr>\n",
       "  </tbody>\n",
       "</table>\n",
       "</div>"
      ],
      "text/plain": [
       "           train_accuracy  validate_accuracy  accuracy_diff\n",
       "max_depth                                                  \n",
       "1                0.827571           0.827568       0.000003\n",
       "2                0.827571           0.827568       0.000003\n",
       "3                0.827571           0.827568       0.000003\n",
       "4                0.828441           0.828343       0.000097\n",
       "5                0.828789           0.828635       0.000155\n",
       "6                0.829246           0.829160       0.000086\n",
       "7                0.829525           0.829001       0.000524\n",
       "8                0.829661           0.828901       0.000760\n",
       "9                0.830248           0.829293       0.000955\n",
       "10               0.830482           0.829243       0.001239\n",
       "11               0.831046           0.829293       0.001753\n",
       "12               0.831561           0.829126       0.002435\n",
       "13               0.832169           0.829018       0.003151\n",
       "14               0.832889           0.828835       0.004055\n",
       "15               0.833605           0.828260       0.005345\n",
       "16               0.834323           0.827926       0.006396\n",
       "17               0.835015           0.827626       0.007389\n",
       "18               0.835692           0.827010       0.008682\n",
       "19               0.836397           0.826451       0.009946\n",
       "20               0.836992           0.826226       0.010765\n",
       "21               0.837541           0.825851       0.011689\n",
       "22               0.837948           0.825393       0.012555\n",
       "23               0.838287           0.825293       0.012994\n",
       "24               0.838669           0.825051       0.013617"
      ]
     },
     "execution_count": 21,
     "metadata": {},
     "output_type": "execute_result"
    }
   ],
   "source": [
    "########### DECICSION TREE HYPERPARAMETER TESTING####################\n",
    "\n",
    "metric = []\n",
    "# compare in-sample to out-of-sample\n",
    "\n",
    "for i in range(1, 25):\n",
    "    # Make the model\n",
    "    tree = DecisionTreeClassifier(max_depth=i, random_state=27)\n",
    "\n",
    "    # Fit the model (on train and only train)\n",
    "    tree = tree.fit(X_train, y_train)\n",
    "\n",
    "    # Use the model\n",
    "    # We'll evaluate the model's performance on train, first\n",
    "    in_sample_accuracy = tree.score(X_train, y_train)\n",
    "    out_of_sample_accuracy = tree.score(X_validate, y_validate)\n",
    "\n",
    "    output = {\n",
    "        \"max_depth\": i,\n",
    "        \"train_accuracy\": in_sample_accuracy,\n",
    "        \"validate_accuracy\": out_of_sample_accuracy\n",
    "    }\n",
    "    \n",
    "    metric.append(output)\n",
    "    \n",
    "df = pd.DataFrame(metric)\n",
    "df[\"accuracy_diff\"] = df.train_accuracy - df.validate_accuracy\n",
    "df.sort_values(by=['train_accuracy' ,'accuracy_diff']).set_index('max_depth')"
   ]
  },
  {
   "cell_type": "code",
   "execution_count": 33,
   "id": "842d0c2d",
   "metadata": {},
   "outputs": [
    {
     "data": {
      "text/html": [
       "<div>\n",
       "<style scoped>\n",
       "    .dataframe tbody tr th:only-of-type {\n",
       "        vertical-align: middle;\n",
       "    }\n",
       "\n",
       "    .dataframe tbody tr th {\n",
       "        vertical-align: top;\n",
       "    }\n",
       "\n",
       "    .dataframe thead th {\n",
       "        text-align: right;\n",
       "    }\n",
       "</style>\n",
       "<table border=\"1\" class=\"dataframe\">\n",
       "  <thead>\n",
       "    <tr style=\"text-align: right;\">\n",
       "      <th></th>\n",
       "      <th>max_depth</th>\n",
       "      <th>min_samples_leaf</th>\n",
       "      <th>train_accuracy</th>\n",
       "      <th>validate_accuracy</th>\n",
       "      <th>accuracy_diff</th>\n",
       "    </tr>\n",
       "  </thead>\n",
       "  <tbody>\n",
       "    <tr>\n",
       "      <th>0</th>\n",
       "      <td>10</td>\n",
       "      <td>1</td>\n",
       "      <td>0.830448</td>\n",
       "      <td>0.829893</td>\n",
       "      <td>0.000555</td>\n",
       "    </tr>\n",
       "    <tr>\n",
       "      <th>2</th>\n",
       "      <td>10</td>\n",
       "      <td>3</td>\n",
       "      <td>0.830379</td>\n",
       "      <td>0.829660</td>\n",
       "      <td>0.000719</td>\n",
       "    </tr>\n",
       "    <tr>\n",
       "      <th>1</th>\n",
       "      <td>10</td>\n",
       "      <td>2</td>\n",
       "      <td>0.830376</td>\n",
       "      <td>0.829668</td>\n",
       "      <td>0.000708</td>\n",
       "    </tr>\n",
       "    <tr>\n",
       "      <th>3</th>\n",
       "      <td>10</td>\n",
       "      <td>4</td>\n",
       "      <td>0.830220</td>\n",
       "      <td>0.829476</td>\n",
       "      <td>0.000744</td>\n",
       "    </tr>\n",
       "    <tr>\n",
       "      <th>5</th>\n",
       "      <td>10</td>\n",
       "      <td>6</td>\n",
       "      <td>0.830192</td>\n",
       "      <td>0.829801</td>\n",
       "      <td>0.000390</td>\n",
       "    </tr>\n",
       "    <tr>\n",
       "      <th>4</th>\n",
       "      <td>10</td>\n",
       "      <td>5</td>\n",
       "      <td>0.830182</td>\n",
       "      <td>0.829718</td>\n",
       "      <td>0.000464</td>\n",
       "    </tr>\n",
       "    <tr>\n",
       "      <th>10</th>\n",
       "      <td>10</td>\n",
       "      <td>11</td>\n",
       "      <td>0.830123</td>\n",
       "      <td>0.829801</td>\n",
       "      <td>0.000321</td>\n",
       "    </tr>\n",
       "    <tr>\n",
       "      <th>8</th>\n",
       "      <td>10</td>\n",
       "      <td>9</td>\n",
       "      <td>0.830102</td>\n",
       "      <td>0.829668</td>\n",
       "      <td>0.000434</td>\n",
       "    </tr>\n",
       "    <tr>\n",
       "      <th>12</th>\n",
       "      <td>10</td>\n",
       "      <td>13</td>\n",
       "      <td>0.830061</td>\n",
       "      <td>0.829651</td>\n",
       "      <td>0.000410</td>\n",
       "    </tr>\n",
       "    <tr>\n",
       "      <th>7</th>\n",
       "      <td>10</td>\n",
       "      <td>8</td>\n",
       "      <td>0.830056</td>\n",
       "      <td>0.829618</td>\n",
       "      <td>0.000438</td>\n",
       "    </tr>\n",
       "    <tr>\n",
       "      <th>6</th>\n",
       "      <td>10</td>\n",
       "      <td>7</td>\n",
       "      <td>0.830048</td>\n",
       "      <td>0.829760</td>\n",
       "      <td>0.000289</td>\n",
       "    </tr>\n",
       "    <tr>\n",
       "      <th>11</th>\n",
       "      <td>10</td>\n",
       "      <td>12</td>\n",
       "      <td>0.830030</td>\n",
       "      <td>0.829926</td>\n",
       "      <td>0.000104</td>\n",
       "    </tr>\n",
       "    <tr>\n",
       "      <th>13</th>\n",
       "      <td>10</td>\n",
       "      <td>14</td>\n",
       "      <td>0.830000</td>\n",
       "      <td>0.829543</td>\n",
       "      <td>0.000456</td>\n",
       "    </tr>\n",
       "    <tr>\n",
       "      <th>9</th>\n",
       "      <td>10</td>\n",
       "      <td>10</td>\n",
       "      <td>0.829802</td>\n",
       "      <td>0.829593</td>\n",
       "      <td>0.000209</td>\n",
       "    </tr>\n",
       "  </tbody>\n",
       "</table>\n",
       "</div>"
      ],
      "text/plain": [
       "    max_depth  min_samples_leaf  train_accuracy  validate_accuracy  \\\n",
       "0          10                 1        0.830448           0.829893   \n",
       "2          10                 3        0.830379           0.829660   \n",
       "1          10                 2        0.830376           0.829668   \n",
       "3          10                 4        0.830220           0.829476   \n",
       "5          10                 6        0.830192           0.829801   \n",
       "4          10                 5        0.830182           0.829718   \n",
       "10         10                11        0.830123           0.829801   \n",
       "8          10                 9        0.830102           0.829668   \n",
       "12         10                13        0.830061           0.829651   \n",
       "7          10                 8        0.830056           0.829618   \n",
       "6          10                 7        0.830048           0.829760   \n",
       "11         10                12        0.830030           0.829926   \n",
       "13         10                14        0.830000           0.829543   \n",
       "9          10                10        0.829802           0.829593   \n",
       "\n",
       "    accuracy_diff  \n",
       "0        0.000555  \n",
       "2        0.000719  \n",
       "1        0.000708  \n",
       "3        0.000744  \n",
       "5        0.000390  \n",
       "4        0.000464  \n",
       "10       0.000321  \n",
       "8        0.000434  \n",
       "12       0.000410  \n",
       "7        0.000438  \n",
       "6        0.000289  \n",
       "11       0.000104  \n",
       "13       0.000456  \n",
       "9        0.000209  "
      ]
     },
     "execution_count": 33,
     "metadata": {},
     "output_type": "execute_result"
    }
   ],
   "source": [
    "########### RANDOM FORREST HYPERPARAMETER TESTING####################\n",
    "\n",
    "metric = []\n",
    "# compare in-sample to out-of-sample\n",
    "\n",
    "for l in range(1,15):\n",
    "    # Make the model\n",
    "    rf = RandomForestClassifier(max_depth=10, min_samples_leaf = l, random_state=27)\n",
    "\n",
    "    # Fit the model (on train and only train)\n",
    "    rf.fit(X_train, y_train)\n",
    "\n",
    "    # Use the model\n",
    "    # We'll evaluate the model's performance on train, first\n",
    "    in_sample_accuracy = rf.score(X_train, y_train)\n",
    "    out_of_sample_accuracy = rf.score(X_validate, y_validate)\n",
    "\n",
    "    output = {\n",
    "        \"max_depth\": 10,\n",
    "        \"min_samples_leaf\": l,\n",
    "        \"train_accuracy\": in_sample_accuracy,\n",
    "        \"validate_accuracy\": out_of_sample_accuracy\n",
    "    }\n",
    "\n",
    "    metric.append(output)\n",
    "\n",
    "df = pd.DataFrame(metric)\n",
    "df[\"accuracy_diff\"] = df.train_accuracy - df.validate_accuracy\n",
    "\n",
    "df.sort_values(by=['accuracy_diff','train_accuracy'], ascending=[False, True])"
   ]
  },
  {
   "cell_type": "code",
   "execution_count": 28,
   "id": "ee5a6597",
   "metadata": {},
   "outputs": [],
   "source": [
    "pd.set_option(\"display.max_rows\", 200)"
   ]
  },
  {
   "cell_type": "code",
   "execution_count": 34,
   "id": "a174bb66",
   "metadata": {},
   "outputs": [
    {
     "ename": "KeyboardInterrupt",
     "evalue": "",
     "output_type": "error",
     "traceback": [
      "\u001b[0;31m---------------------------------------------------------------------------\u001b[0m",
      "\u001b[0;31mKeyboardInterrupt\u001b[0m                         Traceback (most recent call last)",
      "Input \u001b[0;32mIn [34]\u001b[0m, in \u001b[0;36m<cell line: 6>\u001b[0;34m()\u001b[0m\n\u001b[1;32m     10\u001b[0m knn\u001b[38;5;241m.\u001b[39mfit(X_train, y_train)\n\u001b[1;32m     12\u001b[0m \u001b[38;5;66;03m# Use the model\u001b[39;00m\n\u001b[1;32m     13\u001b[0m \u001b[38;5;66;03m# We'll evaluate the model's performance on train, first\u001b[39;00m\n\u001b[0;32m---> 14\u001b[0m in_sample_accuracy \u001b[38;5;241m=\u001b[39m \u001b[43mknn\u001b[49m\u001b[38;5;241;43m.\u001b[39;49m\u001b[43mscore\u001b[49m\u001b[43m(\u001b[49m\u001b[43mX_train\u001b[49m\u001b[43m,\u001b[49m\u001b[43m \u001b[49m\u001b[43my_train\u001b[49m\u001b[43m)\u001b[49m\n\u001b[1;32m     15\u001b[0m out_of_sample_accuracy \u001b[38;5;241m=\u001b[39m knn\u001b[38;5;241m.\u001b[39mscore(X_validate, y_validate)\n\u001b[1;32m     17\u001b[0m output \u001b[38;5;241m=\u001b[39m {\n\u001b[1;32m     18\u001b[0m     \u001b[38;5;124m\"\u001b[39m\u001b[38;5;124mmax_depth\u001b[39m\u001b[38;5;124m\"\u001b[39m: i,\n\u001b[1;32m     19\u001b[0m     \u001b[38;5;124m\"\u001b[39m\u001b[38;5;124mtrain_accuracy\u001b[39m\u001b[38;5;124m\"\u001b[39m: in_sample_accuracy,\n\u001b[1;32m     20\u001b[0m     \u001b[38;5;124m\"\u001b[39m\u001b[38;5;124mvalidate_accuracy\u001b[39m\u001b[38;5;124m\"\u001b[39m: out_of_sample_accuracy\n\u001b[1;32m     21\u001b[0m }\n",
      "File \u001b[0;32m/usr/local/anaconda3/lib/python3.9/site-packages/sklearn/base.py:651\u001b[0m, in \u001b[0;36mClassifierMixin.score\u001b[0;34m(self, X, y, sample_weight)\u001b[0m\n\u001b[1;32m    626\u001b[0m \u001b[38;5;124;03m\"\"\"\u001b[39;00m\n\u001b[1;32m    627\u001b[0m \u001b[38;5;124;03mReturn the mean accuracy on the given test data and labels.\u001b[39;00m\n\u001b[1;32m    628\u001b[0m \n\u001b[0;32m   (...)\u001b[0m\n\u001b[1;32m    647\u001b[0m \u001b[38;5;124;03m    Mean accuracy of ``self.predict(X)`` wrt. `y`.\u001b[39;00m\n\u001b[1;32m    648\u001b[0m \u001b[38;5;124;03m\"\"\"\u001b[39;00m\n\u001b[1;32m    649\u001b[0m \u001b[38;5;28;01mfrom\u001b[39;00m \u001b[38;5;21;01m.\u001b[39;00m\u001b[38;5;21;01mmetrics\u001b[39;00m \u001b[38;5;28;01mimport\u001b[39;00m accuracy_score\n\u001b[0;32m--> 651\u001b[0m \u001b[38;5;28;01mreturn\u001b[39;00m accuracy_score(y, \u001b[38;5;28;43mself\u001b[39;49m\u001b[38;5;241;43m.\u001b[39;49m\u001b[43mpredict\u001b[49m\u001b[43m(\u001b[49m\u001b[43mX\u001b[49m\u001b[43m)\u001b[49m, sample_weight\u001b[38;5;241m=\u001b[39msample_weight)\n",
      "File \u001b[0;32m/usr/local/anaconda3/lib/python3.9/site-packages/sklearn/neighbors/_classification.py:214\u001b[0m, in \u001b[0;36mKNeighborsClassifier.predict\u001b[0;34m(self, X)\u001b[0m\n\u001b[1;32m    200\u001b[0m \u001b[38;5;28;01mdef\u001b[39;00m \u001b[38;5;21mpredict\u001b[39m(\u001b[38;5;28mself\u001b[39m, X):\n\u001b[1;32m    201\u001b[0m     \u001b[38;5;124;03m\"\"\"Predict the class labels for the provided data.\u001b[39;00m\n\u001b[1;32m    202\u001b[0m \n\u001b[1;32m    203\u001b[0m \u001b[38;5;124;03m    Parameters\u001b[39;00m\n\u001b[0;32m   (...)\u001b[0m\n\u001b[1;32m    212\u001b[0m \u001b[38;5;124;03m        Class labels for each data sample.\u001b[39;00m\n\u001b[1;32m    213\u001b[0m \u001b[38;5;124;03m    \"\"\"\u001b[39;00m\n\u001b[0;32m--> 214\u001b[0m     neigh_dist, neigh_ind \u001b[38;5;241m=\u001b[39m \u001b[38;5;28;43mself\u001b[39;49m\u001b[38;5;241;43m.\u001b[39;49m\u001b[43mkneighbors\u001b[49m\u001b[43m(\u001b[49m\u001b[43mX\u001b[49m\u001b[43m)\u001b[49m\n\u001b[1;32m    215\u001b[0m     classes_ \u001b[38;5;241m=\u001b[39m \u001b[38;5;28mself\u001b[39m\u001b[38;5;241m.\u001b[39mclasses_\n\u001b[1;32m    216\u001b[0m     _y \u001b[38;5;241m=\u001b[39m \u001b[38;5;28mself\u001b[39m\u001b[38;5;241m.\u001b[39m_y\n",
      "File \u001b[0;32m/usr/local/anaconda3/lib/python3.9/site-packages/sklearn/neighbors/_base.py:752\u001b[0m, in \u001b[0;36mKNeighborsMixin.kneighbors\u001b[0;34m(self, X, n_neighbors, return_distance)\u001b[0m\n\u001b[1;32m    749\u001b[0m     \u001b[38;5;28;01melse\u001b[39;00m:\n\u001b[1;32m    750\u001b[0m         kwds \u001b[38;5;241m=\u001b[39m \u001b[38;5;28mself\u001b[39m\u001b[38;5;241m.\u001b[39meffective_metric_params_\n\u001b[0;32m--> 752\u001b[0m     chunked_results \u001b[38;5;241m=\u001b[39m \u001b[38;5;28;43mlist\u001b[39;49m\u001b[43m(\u001b[49m\n\u001b[1;32m    753\u001b[0m \u001b[43m        \u001b[49m\u001b[43mpairwise_distances_chunked\u001b[49m\u001b[43m(\u001b[49m\n\u001b[1;32m    754\u001b[0m \u001b[43m            \u001b[49m\u001b[43mX\u001b[49m\u001b[43m,\u001b[49m\n\u001b[1;32m    755\u001b[0m \u001b[43m            \u001b[49m\u001b[38;5;28;43mself\u001b[39;49m\u001b[38;5;241;43m.\u001b[39;49m\u001b[43m_fit_X\u001b[49m\u001b[43m,\u001b[49m\n\u001b[1;32m    756\u001b[0m \u001b[43m            \u001b[49m\u001b[43mreduce_func\u001b[49m\u001b[38;5;241;43m=\u001b[39;49m\u001b[43mreduce_func\u001b[49m\u001b[43m,\u001b[49m\n\u001b[1;32m    757\u001b[0m \u001b[43m            \u001b[49m\u001b[43mmetric\u001b[49m\u001b[38;5;241;43m=\u001b[39;49m\u001b[38;5;28;43mself\u001b[39;49m\u001b[38;5;241;43m.\u001b[39;49m\u001b[43meffective_metric_\u001b[49m\u001b[43m,\u001b[49m\n\u001b[1;32m    758\u001b[0m \u001b[43m            \u001b[49m\u001b[43mn_jobs\u001b[49m\u001b[38;5;241;43m=\u001b[39;49m\u001b[43mn_jobs\u001b[49m\u001b[43m,\u001b[49m\n\u001b[1;32m    759\u001b[0m \u001b[43m            \u001b[49m\u001b[38;5;241;43m*\u001b[39;49m\u001b[38;5;241;43m*\u001b[39;49m\u001b[43mkwds\u001b[49m\u001b[43m,\u001b[49m\n\u001b[1;32m    760\u001b[0m \u001b[43m        \u001b[49m\u001b[43m)\u001b[49m\n\u001b[1;32m    761\u001b[0m \u001b[43m    \u001b[49m\u001b[43m)\u001b[49m\n\u001b[1;32m    763\u001b[0m \u001b[38;5;28;01melif\u001b[39;00m \u001b[38;5;28mself\u001b[39m\u001b[38;5;241m.\u001b[39m_fit_method \u001b[38;5;129;01min\u001b[39;00m [\u001b[38;5;124m\"\u001b[39m\u001b[38;5;124mball_tree\u001b[39m\u001b[38;5;124m\"\u001b[39m, \u001b[38;5;124m\"\u001b[39m\u001b[38;5;124mkd_tree\u001b[39m\u001b[38;5;124m\"\u001b[39m]:\n\u001b[1;32m    764\u001b[0m     \u001b[38;5;28;01mif\u001b[39;00m issparse(X):\n",
      "File \u001b[0;32m/usr/local/anaconda3/lib/python3.9/site-packages/sklearn/metrics/pairwise.py:1726\u001b[0m, in \u001b[0;36mpairwise_distances_chunked\u001b[0;34m(X, Y, reduce_func, metric, n_jobs, working_memory, **kwds)\u001b[0m\n\u001b[1;32m   1724\u001b[0m \u001b[38;5;28;01mif\u001b[39;00m reduce_func \u001b[38;5;129;01mis\u001b[39;00m \u001b[38;5;129;01mnot\u001b[39;00m \u001b[38;5;28;01mNone\u001b[39;00m:\n\u001b[1;32m   1725\u001b[0m     chunk_size \u001b[38;5;241m=\u001b[39m D_chunk\u001b[38;5;241m.\u001b[39mshape[\u001b[38;5;241m0\u001b[39m]\n\u001b[0;32m-> 1726\u001b[0m     D_chunk \u001b[38;5;241m=\u001b[39m \u001b[43mreduce_func\u001b[49m\u001b[43m(\u001b[49m\u001b[43mD_chunk\u001b[49m\u001b[43m,\u001b[49m\u001b[43m \u001b[49m\u001b[43msl\u001b[49m\u001b[38;5;241;43m.\u001b[39;49m\u001b[43mstart\u001b[49m\u001b[43m)\u001b[49m\n\u001b[1;32m   1727\u001b[0m     _check_chunk_size(D_chunk, chunk_size)\n\u001b[1;32m   1728\u001b[0m \u001b[38;5;28;01myield\u001b[39;00m D_chunk\n",
      "File \u001b[0;32m/usr/local/anaconda3/lib/python3.9/site-packages/sklearn/neighbors/_base.py:634\u001b[0m, in \u001b[0;36mKNeighborsMixin._kneighbors_reduce_func\u001b[0;34m(self, dist, start, n_neighbors, return_distance)\u001b[0m\n\u001b[1;32m    607\u001b[0m \u001b[38;5;124;03m\"\"\"Reduce a chunk of distances to the nearest neighbors.\u001b[39;00m\n\u001b[1;32m    608\u001b[0m \n\u001b[1;32m    609\u001b[0m \u001b[38;5;124;03mCallback to :func:`sklearn.metrics.pairwise.pairwise_distances_chunked`\u001b[39;00m\n\u001b[0;32m   (...)\u001b[0m\n\u001b[1;32m    631\u001b[0m \u001b[38;5;124;03m    The neighbors indices.\u001b[39;00m\n\u001b[1;32m    632\u001b[0m \u001b[38;5;124;03m\"\"\"\u001b[39;00m\n\u001b[1;32m    633\u001b[0m sample_range \u001b[38;5;241m=\u001b[39m np\u001b[38;5;241m.\u001b[39marange(dist\u001b[38;5;241m.\u001b[39mshape[\u001b[38;5;241m0\u001b[39m])[:, \u001b[38;5;28;01mNone\u001b[39;00m]\n\u001b[0;32m--> 634\u001b[0m neigh_ind \u001b[38;5;241m=\u001b[39m \u001b[43mnp\u001b[49m\u001b[38;5;241;43m.\u001b[39;49m\u001b[43margpartition\u001b[49m\u001b[43m(\u001b[49m\u001b[43mdist\u001b[49m\u001b[43m,\u001b[49m\u001b[43m \u001b[49m\u001b[43mn_neighbors\u001b[49m\u001b[43m \u001b[49m\u001b[38;5;241;43m-\u001b[39;49m\u001b[43m \u001b[49m\u001b[38;5;241;43m1\u001b[39;49m\u001b[43m,\u001b[49m\u001b[43m \u001b[49m\u001b[43maxis\u001b[49m\u001b[38;5;241;43m=\u001b[39;49m\u001b[38;5;241;43m1\u001b[39;49m\u001b[43m)\u001b[49m\n\u001b[1;32m    635\u001b[0m neigh_ind \u001b[38;5;241m=\u001b[39m neigh_ind[:, :n_neighbors]\n\u001b[1;32m    636\u001b[0m \u001b[38;5;66;03m# argpartition doesn't guarantee sorted order, so we sort again\u001b[39;00m\n",
      "File \u001b[0;32m<__array_function__ internals>:5\u001b[0m, in \u001b[0;36margpartition\u001b[0;34m(*args, **kwargs)\u001b[0m\n",
      "File \u001b[0;32m/usr/local/anaconda3/lib/python3.9/site-packages/numpy/core/fromnumeric.py:839\u001b[0m, in \u001b[0;36margpartition\u001b[0;34m(a, kth, axis, kind, order)\u001b[0m\n\u001b[1;32m    763\u001b[0m \u001b[38;5;129m@array_function_dispatch\u001b[39m(_argpartition_dispatcher)\n\u001b[1;32m    764\u001b[0m \u001b[38;5;28;01mdef\u001b[39;00m \u001b[38;5;21margpartition\u001b[39m(a, kth, axis\u001b[38;5;241m=\u001b[39m\u001b[38;5;241m-\u001b[39m\u001b[38;5;241m1\u001b[39m, kind\u001b[38;5;241m=\u001b[39m\u001b[38;5;124m'\u001b[39m\u001b[38;5;124mintroselect\u001b[39m\u001b[38;5;124m'\u001b[39m, order\u001b[38;5;241m=\u001b[39m\u001b[38;5;28;01mNone\u001b[39;00m):\n\u001b[1;32m    765\u001b[0m     \u001b[38;5;124;03m\"\"\"\u001b[39;00m\n\u001b[1;32m    766\u001b[0m \u001b[38;5;124;03m    Perform an indirect partition along the given axis using the\u001b[39;00m\n\u001b[1;32m    767\u001b[0m \u001b[38;5;124;03m    algorithm specified by the `kind` keyword. It returns an array of\u001b[39;00m\n\u001b[0;32m   (...)\u001b[0m\n\u001b[1;32m    837\u001b[0m \n\u001b[1;32m    838\u001b[0m \u001b[38;5;124;03m    \"\"\"\u001b[39;00m\n\u001b[0;32m--> 839\u001b[0m     \u001b[38;5;28;01mreturn\u001b[39;00m \u001b[43m_wrapfunc\u001b[49m\u001b[43m(\u001b[49m\u001b[43ma\u001b[49m\u001b[43m,\u001b[49m\u001b[43m \u001b[49m\u001b[38;5;124;43m'\u001b[39;49m\u001b[38;5;124;43margpartition\u001b[39;49m\u001b[38;5;124;43m'\u001b[39;49m\u001b[43m,\u001b[49m\u001b[43m \u001b[49m\u001b[43mkth\u001b[49m\u001b[43m,\u001b[49m\u001b[43m \u001b[49m\u001b[43maxis\u001b[49m\u001b[38;5;241;43m=\u001b[39;49m\u001b[43maxis\u001b[49m\u001b[43m,\u001b[49m\u001b[43m \u001b[49m\u001b[43mkind\u001b[49m\u001b[38;5;241;43m=\u001b[39;49m\u001b[43mkind\u001b[49m\u001b[43m,\u001b[49m\u001b[43m \u001b[49m\u001b[43morder\u001b[49m\u001b[38;5;241;43m=\u001b[39;49m\u001b[43morder\u001b[49m\u001b[43m)\u001b[49m\n",
      "File \u001b[0;32m/usr/local/anaconda3/lib/python3.9/site-packages/numpy/core/fromnumeric.py:57\u001b[0m, in \u001b[0;36m_wrapfunc\u001b[0;34m(obj, method, *args, **kwds)\u001b[0m\n\u001b[1;32m     54\u001b[0m     \u001b[38;5;28;01mreturn\u001b[39;00m _wrapit(obj, method, \u001b[38;5;241m*\u001b[39margs, \u001b[38;5;241m*\u001b[39m\u001b[38;5;241m*\u001b[39mkwds)\n\u001b[1;32m     56\u001b[0m \u001b[38;5;28;01mtry\u001b[39;00m:\n\u001b[0;32m---> 57\u001b[0m     \u001b[38;5;28;01mreturn\u001b[39;00m \u001b[43mbound\u001b[49m\u001b[43m(\u001b[49m\u001b[38;5;241;43m*\u001b[39;49m\u001b[43margs\u001b[49m\u001b[43m,\u001b[49m\u001b[43m \u001b[49m\u001b[38;5;241;43m*\u001b[39;49m\u001b[38;5;241;43m*\u001b[39;49m\u001b[43mkwds\u001b[49m\u001b[43m)\u001b[49m\n\u001b[1;32m     58\u001b[0m \u001b[38;5;28;01mexcept\u001b[39;00m \u001b[38;5;167;01mTypeError\u001b[39;00m:\n\u001b[1;32m     59\u001b[0m     \u001b[38;5;66;03m# A TypeError occurs if the object does have such a method in its\u001b[39;00m\n\u001b[1;32m     60\u001b[0m     \u001b[38;5;66;03m# class, but its signature is not identical to that of NumPy's. This\u001b[39;00m\n\u001b[0;32m   (...)\u001b[0m\n\u001b[1;32m     64\u001b[0m     \u001b[38;5;66;03m# Call _wrapit from within the except clause to ensure a potential\u001b[39;00m\n\u001b[1;32m     65\u001b[0m     \u001b[38;5;66;03m# exception has a traceback chain.\u001b[39;00m\n\u001b[1;32m     66\u001b[0m     \u001b[38;5;28;01mreturn\u001b[39;00m _wrapit(obj, method, \u001b[38;5;241m*\u001b[39margs, \u001b[38;5;241m*\u001b[39m\u001b[38;5;241m*\u001b[39mkwds)\n",
      "\u001b[0;31mKeyboardInterrupt\u001b[0m: "
     ]
    }
   ],
   "source": [
    "########### KNN HYPERPARAMETER TESTING####################\n",
    "\n",
    "metric = []\n",
    "# compare in-sample to out-of-sample\n",
    "\n",
    "for i in range(1,15):\n",
    "    knn = KNeighborsClassifier(n_neighbors=i)\n",
    "\n",
    "    #fit model on training data\n",
    "    knn.fit(X_train, y_train)\n",
    "\n",
    "    # Use the model\n",
    "    # We'll evaluate the model's performance on train, first\n",
    "    in_sample_accuracy = knn.score(X_train, y_train)\n",
    "    out_of_sample_accuracy = knn.score(X_validate, y_validate)\n",
    "\n",
    "    output = {\n",
    "        \"max_depth\": i,\n",
    "        \"train_accuracy\": in_sample_accuracy,\n",
    "        \"validate_accuracy\": out_of_sample_accuracy\n",
    "    }\n",
    "\n",
    "    metric.append(output)\n",
    "    \n",
    "df = pd.DataFrame(metric)\n",
    "df[\"accuracy_diff\"] = df.train_accuracy - df.validate_accuracy"
   ]
  },
  {
   "cell_type": "code",
   "execution_count": 32,
   "id": "09cd9bf9",
   "metadata": {
    "scrolled": true
   },
   "outputs": [
    {
     "name": "stdout",
     "output_type": "stream",
     "text": [
      "Logistic Regression\n",
      "Train Accuracy: 82.66%\n",
      "Validate Accuracy: 82.64%\n",
      "Difference: 0.02%\n"
     ]
    }
   ],
   "source": [
    "m.log_results(X_train, y_train, X_validate, y_validate)"
   ]
  },
  {
   "cell_type": "markdown",
   "id": "bright-evans",
   "metadata": {},
   "source": [
    "### Models Summary\n",
    "* All models except for logistic regression perfomed better than baseline for both train and validate data.\n",
    "* With running hyperparameter tests there was very little improvement."
   ]
  },
  {
   "cell_type": "markdown",
   "id": "regulated-fellowship",
   "metadata": {},
   "source": [
    "### Best model: Random Forest Model \n",
    "* I chose the Random Forest Model because it beat baseline on both train and validate, and the difference between train accuracy and validate accuracy was the smallest.\n",
    "* I will now run the that model on test data to gauge how it will perform on future data"
   ]
  },
  {
   "cell_type": "code",
   "execution_count": null,
   "id": "4fac6a92",
   "metadata": {},
   "outputs": [],
   "source": [
    "m.best_model_comparison(X_train, y_train, X_validate, y_validate, X_test, y_test)"
   ]
  },
  {
   "cell_type": "markdown",
   "id": "fc24d1d6",
   "metadata": {},
   "source": [
    "**This model performs better than baseline and with very similar accuracy across all three data sets (train, validate and test).**"
   ]
  },
  {
   "cell_type": "markdown",
   "id": "tutorial-twelve",
   "metadata": {},
   "source": [
    "## Conclusion\n",
    "### Summary\n",
    "* ```hour_of_day``` (0, 1, 8, 9, 11, 14, 15, 16, 18, 19, 20, 21) probably have a relationship with```clicks```.\n",
    "* Each ```day_of_week``` probably has a relationship with ```click```.\n",
    "* ```banner_pos``` (0, 1, 2, 7) probably have a relationship with ```click```.\n",
    "* Proabably a difference in means between each annoymized continuous feature (```C14```-```C21```) for those who click and don't click.\n",
    "\n",
    "### Recommendations\n",
    "* We need to invest in some cloud computing in order to run statisical tests and models on such large data sets.\n",
    "* Even though my best model only performs 0.34% better than baseline, we can use it for now as we continue to improve our model.\n",
    "\n",
    "### Next Steps\n",
    "* In the next iteration:\n",
    "    * Use cloud computing to look more into all the different features.\n",
    "    * Try hashing some of the features to see if that will improve my models."
   ]
  },
  {
   "cell_type": "code",
   "execution_count": null,
   "id": "c525c6e7",
   "metadata": {},
   "outputs": [],
   "source": []
  }
 ],
 "metadata": {
  "kernelspec": {
   "display_name": "Python 3 (ipykernel)",
   "language": "python",
   "name": "python3"
  },
  "language_info": {
   "codemirror_mode": {
    "name": "ipython",
    "version": 3
   },
   "file_extension": ".py",
   "mimetype": "text/x-python",
   "name": "python",
   "nbconvert_exporter": "python",
   "pygments_lexer": "ipython3",
   "version": "3.9.12"
  }
 },
 "nbformat": 4,
 "nbformat_minor": 5
}
