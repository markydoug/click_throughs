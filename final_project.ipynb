{
 "cells": [
  {
   "cell_type": "markdown",
   "id": "premier-milan",
   "metadata": {},
   "source": [
    "# Click Throughs\n",
    "Will they click our ad?\n",
    "\n",
    "## Project Goals\n",
    "* Identify key features that can be used to create an effective predictive model.\n",
    "* Use classification models to make click-through predictions.\n",
    "* Use findings to make recommendations and establish a foundation for future work to improve model's performance."
   ]
  },
  {
   "cell_type": "markdown",
   "id": "going-assembly",
   "metadata": {},
   "source": [
    "## Imports"
   ]
  },
  {
   "cell_type": "code",
   "execution_count": 8,
   "id": "divided-poster",
   "metadata": {},
   "outputs": [],
   "source": [
    "#list all of the imports I used in this notebook\n",
    "import pandas as pd\n",
    "import numpy as np\n",
    "import matplotlib.pyplot as plt\n",
    "import seaborn as sns\n",
    "\n",
    "#ignore warnings\n",
    "import warnings\n",
    "warnings.filterwarnings(\"ignore\")\n",
    "\n",
    "#display all columns and rows for DataFrames\n",
    "pd.set_option(\"display.max_columns\", 50)\n",
    "pd.set_option(\"display.max_rows\", 100)\n",
    "\n",
    "#import my personal modules created for this report\n",
    "import wrangle as w\n",
    "import explore as e\n",
    "import model as m"
   ]
  },
  {
   "cell_type": "markdown",
   "id": "criminal-glory",
   "metadata": {},
   "source": [
    "## Acquire\n",
    "\n",
    "* Data acquired from interviewquery github on December 12, 2022.\n",
    "* It contained 600000 rows and 24 columns\n",
    "* Each observation represents an instance of an online advertisement\n",
    "* Each column represents a feature of those visits"
   ]
  },
  {
   "cell_type": "code",
   "execution_count": 2,
   "id": "8e7703ef",
   "metadata": {},
   "outputs": [],
   "source": [
    "#import train and test data sets from interviewquery github\n",
    "unclean_click_through_data = w.acquire_click_through_data()"
   ]
  },
  {
   "cell_type": "markdown",
   "id": "impossible-bible",
   "metadata": {},
   "source": [
    "## Prepare\n",
    "* Checked for nulls, there were none\n",
    "* Changed the ```hour``` column to datetime\n",
    "* Created columns ```hour_of_day``` and ```day_of_week``` based on ```hour``` column\n",
    "* Split data into train, validate, and test (65/20/15)"
   ]
  },
  {
   "cell_type": "code",
   "execution_count": 3,
   "id": "a497ecef",
   "metadata": {},
   "outputs": [],
   "source": [
    "#prep data\n",
    "click_through_data = w.prep_data(unclean_click_through_data)"
   ]
  },
  {
   "cell_type": "code",
   "execution_count": 4,
   "id": "b70e0cdc",
   "metadata": {},
   "outputs": [],
   "source": [
    "#split data\n",
    "train, validate, test = w.split_data(click_through_data)"
   ]
  },
  {
   "cell_type": "markdown",
   "id": "cf54e5e1",
   "metadata": {},
   "source": [
    "### Data dictionary\n",
    "| Feature | Definition | Type |\n",
    "|:--------|:-----------|:-------\n",
    "|**id**| Advertisement instance unique id | *int*|\n",
    "| **hour** | The date and hour of day |*datetime*|\n",
    "| **C1** | Anonymized categorical variable |*int*|\n",
    "|**banner_pos**| Location of ad on the page | *int*|\n",
    "|**hour_of_day**| Hour of the day when the ad was displayed | *str*|\n",
    "|**day_of_week**| Day of the week when the ad was displayed | *str*|\n",
    "|**C14-C21**|Anonymized continuous variables | *int*|\n",
    "|**Target variable**\n",
    "|**click**| Did they click? (1-Yes, 0-No) | *int* |"
   ]
  },
  {
   "cell_type": "markdown",
   "id": "e05229cb",
   "metadata": {},
   "source": [
    "### A look at the data"
   ]
  },
  {
   "cell_type": "code",
   "execution_count": 5,
   "id": "f8f1eb5e",
   "metadata": {
    "scrolled": true
   },
   "outputs": [
    {
     "data": {
      "text/html": [
       "<div>\n",
       "<style scoped>\n",
       "    .dataframe tbody tr th:only-of-type {\n",
       "        vertical-align: middle;\n",
       "    }\n",
       "\n",
       "    .dataframe tbody tr th {\n",
       "        vertical-align: top;\n",
       "    }\n",
       "\n",
       "    .dataframe thead th {\n",
       "        text-align: right;\n",
       "    }\n",
       "</style>\n",
       "<table border=\"1\" class=\"dataframe\">\n",
       "  <thead>\n",
       "    <tr style=\"text-align: right;\">\n",
       "      <th></th>\n",
       "      <th>id</th>\n",
       "      <th>click</th>\n",
       "      <th>hour</th>\n",
       "      <th>C1</th>\n",
       "      <th>banner_pos</th>\n",
       "      <th>site_id</th>\n",
       "      <th>site_domain</th>\n",
       "      <th>site_category</th>\n",
       "      <th>app_id</th>\n",
       "      <th>app_domain</th>\n",
       "      <th>...</th>\n",
       "      <th>C14</th>\n",
       "      <th>C15</th>\n",
       "      <th>C16</th>\n",
       "      <th>C17</th>\n",
       "      <th>C18</th>\n",
       "      <th>C19</th>\n",
       "      <th>C20</th>\n",
       "      <th>C21</th>\n",
       "      <th>hour_of_day</th>\n",
       "      <th>day_of_week</th>\n",
       "    </tr>\n",
       "  </thead>\n",
       "  <tbody>\n",
       "    <tr>\n",
       "      <th>366134</th>\n",
       "      <td>2009636145773373157</td>\n",
       "      <td>0</td>\n",
       "      <td>2014-10-27 16:00:00</td>\n",
       "      <td>1005</td>\n",
       "      <td>0</td>\n",
       "      <td>1fbe01fe</td>\n",
       "      <td>f3845767</td>\n",
       "      <td>28905ebd</td>\n",
       "      <td>ecad2386</td>\n",
       "      <td>7801e8d9</td>\n",
       "      <td>...</td>\n",
       "      <td>15701</td>\n",
       "      <td>320</td>\n",
       "      <td>50</td>\n",
       "      <td>1722</td>\n",
       "      <td>0</td>\n",
       "      <td>35</td>\n",
       "      <td>-1</td>\n",
       "      <td>79</td>\n",
       "      <td>16</td>\n",
       "      <td>Monday</td>\n",
       "    </tr>\n",
       "    <tr>\n",
       "      <th>95054</th>\n",
       "      <td>17172250707259950008</td>\n",
       "      <td>0</td>\n",
       "      <td>2014-10-24 06:00:00</td>\n",
       "      <td>1005</td>\n",
       "      <td>0</td>\n",
       "      <td>1fbe01fe</td>\n",
       "      <td>f3845767</td>\n",
       "      <td>28905ebd</td>\n",
       "      <td>ecad2386</td>\n",
       "      <td>7801e8d9</td>\n",
       "      <td>...</td>\n",
       "      <td>21762</td>\n",
       "      <td>320</td>\n",
       "      <td>50</td>\n",
       "      <td>2502</td>\n",
       "      <td>0</td>\n",
       "      <td>39</td>\n",
       "      <td>-1</td>\n",
       "      <td>221</td>\n",
       "      <td>6</td>\n",
       "      <td>Friday</td>\n",
       "    </tr>\n",
       "    <tr>\n",
       "      <th>189299</th>\n",
       "      <td>2922056073063093914</td>\n",
       "      <td>0</td>\n",
       "      <td>2014-10-25 13:00:00</td>\n",
       "      <td>1005</td>\n",
       "      <td>0</td>\n",
       "      <td>85f751fd</td>\n",
       "      <td>c4e18dd6</td>\n",
       "      <td>50e219e0</td>\n",
       "      <td>03528b27</td>\n",
       "      <td>2347f47a</td>\n",
       "      <td>...</td>\n",
       "      <td>15706</td>\n",
       "      <td>320</td>\n",
       "      <td>50</td>\n",
       "      <td>1722</td>\n",
       "      <td>0</td>\n",
       "      <td>35</td>\n",
       "      <td>100083</td>\n",
       "      <td>79</td>\n",
       "      <td>13</td>\n",
       "      <td>Saturday</td>\n",
       "    </tr>\n",
       "    <tr>\n",
       "      <th>569650</th>\n",
       "      <td>4743847194723927815</td>\n",
       "      <td>0</td>\n",
       "      <td>2014-10-29 14:00:00</td>\n",
       "      <td>1010</td>\n",
       "      <td>1</td>\n",
       "      <td>85f751fd</td>\n",
       "      <td>c4e18dd6</td>\n",
       "      <td>50e219e0</td>\n",
       "      <td>8c0dcd5a</td>\n",
       "      <td>7801e8d9</td>\n",
       "      <td>...</td>\n",
       "      <td>23822</td>\n",
       "      <td>320</td>\n",
       "      <td>50</td>\n",
       "      <td>2728</td>\n",
       "      <td>0</td>\n",
       "      <td>290</td>\n",
       "      <td>-1</td>\n",
       "      <td>42</td>\n",
       "      <td>14</td>\n",
       "      <td>Wednesday</td>\n",
       "    </tr>\n",
       "    <tr>\n",
       "      <th>581283</th>\n",
       "      <td>218700043766238420</td>\n",
       "      <td>1</td>\n",
       "      <td>2014-10-29 17:00:00</td>\n",
       "      <td>1005</td>\n",
       "      <td>1</td>\n",
       "      <td>d9750ee7</td>\n",
       "      <td>98572c79</td>\n",
       "      <td>f028772b</td>\n",
       "      <td>ecad2386</td>\n",
       "      <td>7801e8d9</td>\n",
       "      <td>...</td>\n",
       "      <td>17614</td>\n",
       "      <td>320</td>\n",
       "      <td>50</td>\n",
       "      <td>1993</td>\n",
       "      <td>2</td>\n",
       "      <td>1063</td>\n",
       "      <td>100084</td>\n",
       "      <td>33</td>\n",
       "      <td>17</td>\n",
       "      <td>Wednesday</td>\n",
       "    </tr>\n",
       "  </tbody>\n",
       "</table>\n",
       "<p>5 rows × 26 columns</p>\n",
       "</div>"
      ],
      "text/plain": [
       "                          id  click                hour    C1  banner_pos  \\\n",
       "366134   2009636145773373157      0 2014-10-27 16:00:00  1005           0   \n",
       "95054   17172250707259950008      0 2014-10-24 06:00:00  1005           0   \n",
       "189299   2922056073063093914      0 2014-10-25 13:00:00  1005           0   \n",
       "569650   4743847194723927815      0 2014-10-29 14:00:00  1010           1   \n",
       "581283    218700043766238420      1 2014-10-29 17:00:00  1005           1   \n",
       "\n",
       "         site_id site_domain site_category    app_id app_domain  ...    C14  \\\n",
       "366134  1fbe01fe    f3845767      28905ebd  ecad2386   7801e8d9  ...  15701   \n",
       "95054   1fbe01fe    f3845767      28905ebd  ecad2386   7801e8d9  ...  21762   \n",
       "189299  85f751fd    c4e18dd6      50e219e0  03528b27   2347f47a  ...  15706   \n",
       "569650  85f751fd    c4e18dd6      50e219e0  8c0dcd5a   7801e8d9  ...  23822   \n",
       "581283  d9750ee7    98572c79      f028772b  ecad2386   7801e8d9  ...  17614   \n",
       "\n",
       "        C15 C16   C17  C18   C19     C20  C21  hour_of_day  day_of_week  \n",
       "366134  320  50  1722    0    35      -1   79           16       Monday  \n",
       "95054   320  50  2502    0    39      -1  221            6       Friday  \n",
       "189299  320  50  1722    0    35  100083   79           13     Saturday  \n",
       "569650  320  50  2728    0   290      -1   42           14    Wednesday  \n",
       "581283  320  50  1993    2  1063  100084   33           17    Wednesday  \n",
       "\n",
       "[5 rows x 26 columns]"
      ]
     },
     "execution_count": 5,
     "metadata": {},
     "output_type": "execute_result"
    }
   ],
   "source": [
    "#show the first few rows of the train data\n",
    "train.head()"
   ]
  },
  {
   "cell_type": "markdown",
   "id": "immediate-mirror",
   "metadata": {},
   "source": [
    "## Explore"
   ]
  },
  {
   "cell_type": "markdown",
   "id": "2b06e4e4",
   "metadata": {},
   "source": [
    "### 1. What percentage of visits resulted in a click-through?"
   ]
  },
  {
   "cell_type": "code",
   "execution_count": 6,
   "id": "3e955525",
   "metadata": {},
   "outputs": [
    {
     "data": {
      "image/png": "[encoded data removed]",
      "text/plain": [
       "<Figure size 576x396 with 1 Axes>"
      ]
     },
     "metadata": {},
     "output_type": "display_data"
    }
   ],
   "source": [
    "#show percentage of clicks\n",
    "e.click_percentage(train)"
   ]
  },
  {
   "cell_type": "markdown",
   "id": "d4968c6b",
   "metadata": {},
   "source": [
    "### 2. Does the hour of the day have an impact of click-throughs?"
   ]
  },
  {
   "cell_type": "code",
   "execution_count": 7,
   "id": "b658d8c9",
   "metadata": {},
   "outputs": [
    {
     "data": {
      "image/png": "[encoded data removed]",
      "text/plain": [
       "<Figure size 1440x576 with 2 Axes>"
      ]
     },
     "metadata": {},
     "output_type": "display_data"
    }
   ],
   "source": [
    "#show hour of day visualizations\n",
    "e.hour_click_through_viz(train)"
   ]
  },
  {
   "cell_type": "markdown",
   "id": "397c7299",
   "metadata": {},
   "source": [
    "**It looks like there are more click throughs per instance at 1 am and 3 pm (15).** \n",
    "\n",
    "***Let's do a $\\chi^2$ to see if there is a relationship***"
   ]
  },
  {
   "cell_type": "markdown",
   "id": "45acc229",
   "metadata": {},
   "source": [
    "**Set Hypothesis**\n",
    "\n",
    "$H_0$ = There is no relationship between each ```hour_of_day``` and ```click```.\n",
    "\n",
    "$H_a$ = There is a relationship between each ```hour_of_day``` and ```click```."
   ]
  },
  {
   "cell_type": "code",
   "execution_count": 11,
   "id": "6811c9c2",
   "metadata": {
    "scrolled": true
   },
   "outputs": [
    {
     "data": {
      "text/html": [
       "<div>\n",
       "<style scoped>\n",
       "    .dataframe tbody tr th:only-of-type {\n",
       "        vertical-align: middle;\n",
       "    }\n",
       "\n",
       "    .dataframe tbody tr th {\n",
       "        vertical-align: top;\n",
       "    }\n",
       "\n",
       "    .dataframe thead th {\n",
       "        text-align: right;\n",
       "    }\n",
       "</style>\n",
       "<table border=\"1\" class=\"dataframe\">\n",
       "  <thead>\n",
       "    <tr style=\"text-align: right;\">\n",
       "      <th>hour_of_day</th>\n",
       "      <th>15</th>\n",
       "      <th>9</th>\n",
       "      <th>16</th>\n",
       "      <th>8</th>\n",
       "      <th>19</th>\n",
       "      <th>20</th>\n",
       "      <th>18</th>\n",
       "      <th>21</th>\n",
       "      <th>14</th>\n",
       "      <th>1</th>\n",
       "      <th>0</th>\n",
       "      <th>11</th>\n",
       "      <th>7</th>\n",
       "      <th>13</th>\n",
       "      <th>22</th>\n",
       "      <th>6</th>\n",
       "      <th>17</th>\n",
       "      <th>5</th>\n",
       "      <th>12</th>\n",
       "      <th>10</th>\n",
       "      <th>2</th>\n",
       "      <th>23</th>\n",
       "      <th>4</th>\n",
       "      <th>3</th>\n",
       "    </tr>\n",
       "  </thead>\n",
       "  <tbody>\n",
       "    <tr>\n",
       "      <th>χ^2</th>\n",
       "      <td>2.497403e+01</td>\n",
       "      <td>2.449448e+01</td>\n",
       "      <td>19.948293</td>\n",
       "      <td>16.443461</td>\n",
       "      <td>15.645811</td>\n",
       "      <td>15.374762</td>\n",
       "      <td>13.647408</td>\n",
       "      <td>10.994026</td>\n",
       "      <td>8.531434</td>\n",
       "      <td>8.129003</td>\n",
       "      <td>6.936594</td>\n",
       "      <td>4.153922</td>\n",
       "      <td>3.490100</td>\n",
       "      <td>3.218827</td>\n",
       "      <td>2.792559</td>\n",
       "      <td>1.592921</td>\n",
       "      <td>0.855082</td>\n",
       "      <td>0.733638</td>\n",
       "      <td>0.722513</td>\n",
       "      <td>0.628886</td>\n",
       "      <td>0.206261</td>\n",
       "      <td>0.064111</td>\n",
       "      <td>0.021792</td>\n",
       "      <td>0.011356</td>\n",
       "    </tr>\n",
       "    <tr>\n",
       "      <th>p-value</th>\n",
       "      <td>5.810768e-07</td>\n",
       "      <td>7.452317e-07</td>\n",
       "      <td>0.000008</td>\n",
       "      <td>0.000050</td>\n",
       "      <td>0.000076</td>\n",
       "      <td>0.000088</td>\n",
       "      <td>0.000221</td>\n",
       "      <td>0.000914</td>\n",
       "      <td>0.003491</td>\n",
       "      <td>0.004356</td>\n",
       "      <td>0.008445</td>\n",
       "      <td>0.041538</td>\n",
       "      <td>0.061737</td>\n",
       "      <td>0.072796</td>\n",
       "      <td>0.094703</td>\n",
       "      <td>0.206909</td>\n",
       "      <td>0.355119</td>\n",
       "      <td>0.391707</td>\n",
       "      <td>0.395321</td>\n",
       "      <td>0.427764</td>\n",
       "      <td>0.649714</td>\n",
       "      <td>0.800112</td>\n",
       "      <td>0.882641</td>\n",
       "      <td>0.915134</td>\n",
       "    </tr>\n",
       "  </tbody>\n",
       "</table>\n",
       "</div>"
      ],
      "text/plain": [
       "hour_of_day            15            9          16         8          19  \\\n",
       "χ^2          2.497403e+01  2.449448e+01  19.948293  16.443461  15.645811   \n",
       "p-value      5.810768e-07  7.452317e-07   0.000008   0.000050   0.000076   \n",
       "\n",
       "hour_of_day         20         18         21        14        1         0   \\\n",
       "χ^2          15.374762  13.647408  10.994026  8.531434  8.129003  6.936594   \n",
       "p-value       0.000088   0.000221   0.000914  0.003491  0.004356  0.008445   \n",
       "\n",
       "hour_of_day        11        7         13        22        6         17  \\\n",
       "χ^2          4.153922  3.490100  3.218827  2.792559  1.592921  0.855082   \n",
       "p-value      0.041538  0.061737  0.072796  0.094703  0.206909  0.355119   \n",
       "\n",
       "hour_of_day        5         12        10        2         23        4   \\\n",
       "χ^2          0.733638  0.722513  0.628886  0.206261  0.064111  0.021792   \n",
       "p-value      0.391707  0.395321  0.427764  0.649714  0.800112  0.882641   \n",
       "\n",
       "hour_of_day        3   \n",
       "χ^2          0.011356  \n",
       "p-value      0.915134  "
      ]
     },
     "execution_count": 11,
     "metadata": {},
     "output_type": "execute_result"
    }
   ],
   "source": [
    "#χ^2 test results\n",
    "e.chi_square_matrix(train, 'hour_of_day', 'click').T"
   ]
  },
  {
   "cell_type": "markdown",
   "id": "81554949",
   "metadata": {},
   "source": [
    "**p < alpha for ```hour_of_day``` (0, 1, 8, 9, 11, 14, 15, 16, 18, 19, 20, 21) so we can reject the null hypothesis for those hours and say there is probably a relationship between those hours and ```clicks```**"
   ]
  },
  {
   "cell_type": "markdown",
   "id": "c85e2983",
   "metadata": {},
   "source": [
    "## 3. Does the day of the week have an impact on click-throughs?"
   ]
  },
  {
   "cell_type": "code",
   "execution_count": 10,
   "id": "88e397e6",
   "metadata": {},
   "outputs": [
    {
     "data": {
      "image/png": "[encoded data removed]",
      "text/plain": [
       "<Figure size 1440x576 with 2 Axes>"
      ]
     },
     "metadata": {},
     "output_type": "display_data"
    }
   ],
   "source": [
    "#show day of week visualizations\n",
    "e.day_click_through_viz(train)"
   ]
  },
  {
   "cell_type": "markdown",
   "id": "f2714fd9",
   "metadata": {},
   "source": [
    "**Set Hypothesis**\n",
    "\n",
    "$H_0$ = There is no relationship between each ```day_of_week``` and ```click```.\n",
    "\n",
    "$H_a$ = There is a relationship between each ```day_of_week``` and ```click```."
   ]
  },
  {
   "cell_type": "code",
   "execution_count": 9,
   "id": "c2ac770f",
   "metadata": {},
   "outputs": [
    {
     "data": {
      "text/html": [
       "<div>\n",
       "<style scoped>\n",
       "    .dataframe tbody tr th:only-of-type {\n",
       "        vertical-align: middle;\n",
       "    }\n",
       "\n",
       "    .dataframe tbody tr th {\n",
       "        vertical-align: top;\n",
       "    }\n",
       "\n",
       "    .dataframe thead th {\n",
       "        text-align: right;\n",
       "    }\n",
       "</style>\n",
       "<table border=\"1\" class=\"dataframe\">\n",
       "  <thead>\n",
       "    <tr style=\"text-align: right;\">\n",
       "      <th>day_of_week</th>\n",
       "      <th>Tuesday</th>\n",
       "      <th>Wednesday</th>\n",
       "      <th>Sunday</th>\n",
       "      <th>Saturday</th>\n",
       "      <th>Thursday</th>\n",
       "      <th>Monday</th>\n",
       "      <th>Friday</th>\n",
       "    </tr>\n",
       "  </thead>\n",
       "  <tbody>\n",
       "    <tr>\n",
       "      <th>χ^2</th>\n",
       "      <td>2.566100e+02</td>\n",
       "      <td>8.757692e+01</td>\n",
       "      <td>6.254052e+01</td>\n",
       "      <td>4.880185e+01</td>\n",
       "      <td>2.508734e+01</td>\n",
       "      <td>2.481971e+01</td>\n",
       "      <td>13.459815</td>\n",
       "    </tr>\n",
       "    <tr>\n",
       "      <th>p-value</th>\n",
       "      <td>9.407334e-58</td>\n",
       "      <td>8.106500e-21</td>\n",
       "      <td>2.610182e-15</td>\n",
       "      <td>2.831728e-12</td>\n",
       "      <td>5.479151e-07</td>\n",
       "      <td>6.295061e-07</td>\n",
       "      <td>0.000244</td>\n",
       "    </tr>\n",
       "  </tbody>\n",
       "</table>\n",
       "</div>"
      ],
      "text/plain": [
       "day_of_week       Tuesday     Wednesday        Sunday      Saturday  \\\n",
       "χ^2          2.566100e+02  8.757692e+01  6.254052e+01  4.880185e+01   \n",
       "p-value      9.407334e-58  8.106500e-21  2.610182e-15  2.831728e-12   \n",
       "\n",
       "day_of_week      Thursday        Monday     Friday  \n",
       "χ^2          2.508734e+01  2.481971e+01  13.459815  \n",
       "p-value      5.479151e-07  6.295061e-07   0.000244  "
      ]
     },
     "execution_count": 9,
     "metadata": {},
     "output_type": "execute_result"
    }
   ],
   "source": [
    "#χ^2 test results\n",
    "e.chi_square_matrix(train, 'day_of_week', 'click').T"
   ]
  },
  {
   "cell_type": "markdown",
   "id": "237d91e6",
   "metadata": {},
   "source": [
    "**p < alpha for every day of the week, so we can reject the null hypothesis and say there is probably a relationship between every ```day_of_week``` and ```click```.** "
   ]
  },
  {
   "cell_type": "markdown",
   "id": "b20e7292",
   "metadata": {},
   "source": [
    "## 4. Does banner position have an impact click-throughs?"
   ]
  },
  {
   "cell_type": "code",
   "execution_count": 12,
   "id": "e00d8dda",
   "metadata": {},
   "outputs": [
    {
     "data": {
      "image/png": "[encoded data removed]",
      "text/plain": [
       "<Figure size 1440x576 with 1 Axes>"
      ]
     },
     "metadata": {},
     "output_type": "display_data"
    }
   ],
   "source": [
    "#Clicks vs. didn't click for each banner position\n",
    "e.banner_pos_viz(train)"
   ]
  },
  {
   "cell_type": "markdown",
   "id": "c154a22c",
   "metadata": {},
   "source": [
    "**Set Hypothesis**\n",
    "\n",
    "$H_0$ = There is no association between each ```banner_pos``` and ```click```.\n",
    "\n",
    "$H_a$ = There is a association between each ```banner_pos``` and ```click```."
   ]
  },
  {
   "cell_type": "code",
   "execution_count": 13,
   "id": "0f766c5f",
   "metadata": {},
   "outputs": [
    {
     "data": {
      "text/html": [
       "<div>\n",
       "<style scoped>\n",
       "    .dataframe tbody tr th:only-of-type {\n",
       "        vertical-align: middle;\n",
       "    }\n",
       "\n",
       "    .dataframe tbody tr th {\n",
       "        vertical-align: top;\n",
       "    }\n",
       "\n",
       "    .dataframe thead th {\n",
       "        text-align: right;\n",
       "    }\n",
       "</style>\n",
       "<table border=\"1\" class=\"dataframe\">\n",
       "  <thead>\n",
       "    <tr style=\"text-align: right;\">\n",
       "      <th>banner_pos</th>\n",
       "      <th>0</th>\n",
       "      <th>1</th>\n",
       "      <th>7</th>\n",
       "      <th>2</th>\n",
       "      <th>3</th>\n",
       "      <th>5</th>\n",
       "      <th>4</th>\n",
       "    </tr>\n",
       "  </thead>\n",
       "  <tbody>\n",
       "    <tr>\n",
       "      <th>χ^2</th>\n",
       "      <td>419.231320</td>\n",
       "      <td>397.382334</td>\n",
       "      <td>72.117357</td>\n",
       "      <td>8.486756</td>\n",
       "      <td>0.342021</td>\n",
       "      <td>0.184251</td>\n",
       "      <td>0.036154</td>\n",
       "    </tr>\n",
       "    <tr>\n",
       "      <th>p-value</th>\n",
       "      <td>0.000000</td>\n",
       "      <td>0.000000</td>\n",
       "      <td>0.000000</td>\n",
       "      <td>0.003577</td>\n",
       "      <td>0.558665</td>\n",
       "      <td>0.667745</td>\n",
       "      <td>0.849197</td>\n",
       "    </tr>\n",
       "  </tbody>\n",
       "</table>\n",
       "</div>"
      ],
      "text/plain": [
       "banner_pos          0          1         7        2        3        5        4\n",
       "χ^2        419.231320 397.382334 72.117357 8.486756 0.342021 0.184251 0.036154\n",
       "p-value      0.000000   0.000000  0.000000 0.003577 0.558665 0.667745 0.849197"
      ]
     },
     "execution_count": 13,
     "metadata": {},
     "output_type": "execute_result"
    }
   ],
   "source": [
    "#χ^2 test results\n",
    "chi_square_matrix(train, 'banner_pos', 'click').T"
   ]
  },
  {
   "cell_type": "markdown",
   "id": "88fbab72",
   "metadata": {},
   "source": [
    "**p < alpha for ```banner_pos``` (0, 1, 2, 7), so we can reject the null hypothesis and say there is probably a relationship between ```banner_pos``` (0, 1, 2, 7) and ```click```.** "
   ]
  },
  {
   "cell_type": "markdown",
   "id": "e6ecd169",
   "metadata": {},
   "source": [
    "## 5. Do the annoymized continuous features have an impact on click-throughs?"
   ]
  },
  {
   "cell_type": "markdown",
   "id": "415e9912",
   "metadata": {},
   "source": [
    "**Set Hypothesis**\n",
    "\n",
    "$H_0$ = There is no difference in means between each annoymized continuous feature (```C14```-```C21```) for those who click and don't click.\n",
    "\n",
    "$H_a$ = There is a difference in means between each annoymized continuous feature (```C14```-```C21```) for those who click and don't click."
   ]
  },
  {
   "cell_type": "markdown",
   "id": "2a5ec43c",
   "metadata": {},
   "source": [
    "**After running levene test, each feature was found of equal variance.**"
   ]
  },
  {
   "cell_type": "code",
   "execution_count": 10,
   "id": "88da7aba",
   "metadata": {
    "scrolled": true
   },
   "outputs": [
    {
     "data": {
      "text/html": [
       "<div>\n",
       "<style scoped>\n",
       "    .dataframe tbody tr th:only-of-type {\n",
       "        vertical-align: middle;\n",
       "    }\n",
       "\n",
       "    .dataframe tbody tr th {\n",
       "        vertical-align: top;\n",
       "    }\n",
       "\n",
       "    .dataframe thead th {\n",
       "        text-align: right;\n",
       "    }\n",
       "</style>\n",
       "<table border=\"1\" class=\"dataframe\">\n",
       "  <thead>\n",
       "    <tr style=\"text-align: right;\">\n",
       "      <th>Feature</th>\n",
       "      <th>C14</th>\n",
       "      <th>C15</th>\n",
       "      <th>C16</th>\n",
       "      <th>C17</th>\n",
       "      <th>C18</th>\n",
       "      <th>C19</th>\n",
       "      <th>C20</th>\n",
       "      <th>C21</th>\n",
       "    </tr>\n",
       "  </thead>\n",
       "  <tbody>\n",
       "    <tr>\n",
       "      <th>t-stat</th>\n",
       "      <td>-3.263733e+01</td>\n",
       "      <td>-2.462213e+01</td>\n",
       "      <td>88.747292</td>\n",
       "      <td>-2.885990e+01</td>\n",
       "      <td>2.331052e+01</td>\n",
       "      <td>-7.521031e+00</td>\n",
       "      <td>-3.750876e+01</td>\n",
       "      <td>-47.752094</td>\n",
       "    </tr>\n",
       "    <tr>\n",
       "      <th>p-value</th>\n",
       "      <td>2.508731e-233</td>\n",
       "      <td>9.269581e-134</td>\n",
       "      <td>0.000000</td>\n",
       "      <td>5.940583e-183</td>\n",
       "      <td>4.192824e-120</td>\n",
       "      <td>5.446128e-14</td>\n",
       "      <td>2.355192e-307</td>\n",
       "      <td>0.000000</td>\n",
       "    </tr>\n",
       "  </tbody>\n",
       "</table>\n",
       "</div>"
      ],
      "text/plain": [
       "Feature            C14            C15        C16            C17  \\\n",
       "t-stat   -3.263733e+01  -2.462213e+01  88.747292  -2.885990e+01   \n",
       "p-value  2.508731e-233  9.269581e-134   0.000000  5.940583e-183   \n",
       "\n",
       "Feature            C18           C19            C20        C21  \n",
       "t-stat    2.331052e+01 -7.521031e+00  -3.750876e+01 -47.752094  \n",
       "p-value  4.192824e-120  5.446128e-14  2.355192e-307   0.000000  "
      ]
     },
     "execution_count": 10,
     "metadata": {},
     "output_type": "execute_result"
    }
   ],
   "source": [
    "#ttest results\n",
    "e.continuous_vars_ttest(train).T"
   ]
  },
  {
   "cell_type": "markdown",
   "id": "6c5ad321",
   "metadata": {},
   "source": [
    "**p < alpha for each annoymized continuous feature (```C14```-```C21```), so we can reject the null hypothesis and say there is proabably a difference in means between each annoymized continuous feature (```C14```-```C21```) for those who click and don't click.** "
   ]
  },
  {
   "cell_type": "markdown",
   "id": "iraqi-sellers",
   "metadata": {},
   "source": [
    "### Exploration Summary\n",
    "* ```hour_of_day``` (0, 1, 8, 9, 11, 14, 15, 16, 18, 19, 20, 21) probably have a relationship with```clicks```.\n",
    "* Each ```day_of_week``` probably has a relationship with ```click```.\n",
    "* ```banner_pos``` (0, 1, 2, 7) probably have a relationship with ```click```.\n",
    "* Proabably a difference in means between each annoymized continuous feature (```C14```-```C21```) for those who click and don't click."
   ]
  },
  {
   "cell_type": "markdown",
   "id": "bee611a0",
   "metadata": {},
   "source": [
    "### Features I'm moving on with\n",
    "| Feature | Reason | \n",
    "|:--------|:-----------|\n",
    "|**hour_of_day_(0, 1, 8, 9, 11, 14, 15, 16, 18, 19, 20, 21)**| $\\chi^2$ test results|\n",
    "|**day_of_week_(Monday-Sunday)**| $\\chi^2$ test results|\n",
    "|**banner_pos_(0, 1, 2, 7)**| $\\chi^2$ test results|\n",
    "|**C14-C21**| t-test results|"
   ]
  },
  {
   "cell_type": "markdown",
   "id": "8a419e13",
   "metadata": {},
   "source": [
    "### Features I'm not moving on with\n",
    "\n",
    "* All other columns will be dropped because it was difficult to find relationship with the other categorical variables and ```click``` due to computing power."
   ]
  },
  {
   "cell_type": "markdown",
   "id": "emotional-purchase",
   "metadata": {},
   "source": [
    "### Prep for modeling\n",
    "* Scale the numeric variables using the minmax scaler\n",
    "* Encode categorical variables"
   ]
  },
  {
   "cell_type": "code",
   "execution_count": 15,
   "id": "5efec7ae",
   "metadata": {},
   "outputs": [],
   "source": [
    "cols_to_encode = ['banner_pos', 'hour_of_day', 'day_of_week']"
   ]
  },
  {
   "cell_type": "code",
   "execution_count": 16,
   "id": "73b15d72",
   "metadata": {},
   "outputs": [],
   "source": [
    "train, validate, test = m.pre_prep(train, validate, test, cols_to_encode, 'click')"
   ]
  },
  {
   "cell_type": "code",
   "execution_count": 17,
   "id": "fa2c7850",
   "metadata": {},
   "outputs": [],
   "source": [
    "drivers = ['hour_of_day_0','hour_of_day_1','hour_of_day_8','hour_of_day_9',\n",
    "           'hour_of_day_11','hour_of_day_14','hour_of_day_15','hour_of_day_16',\n",
    "           'hour_of_day_18','hour_of_day_19','hour_of_day_20','hour_of_day_21', \n",
    "           'banner_pos_0', 'banner_pos_1', 'banner_pos_2', 'banner_pos_7',\n",
    "           'C14', 'C15', 'C16', 'C17', 'C18', 'C19', 'C20', 'C21']"
   ]
  },
  {
   "cell_type": "code",
   "execution_count": 18,
   "id": "d28403dc",
   "metadata": {},
   "outputs": [],
   "source": [
    "X_train, y_train, X_validate, y_validate, X_test, y_test = m.prep_for_model(train, validate, test, 'click', drivers)"
   ]
  },
  {
   "cell_type": "markdown",
   "id": "4c5cec5c",
   "metadata": {},
   "source": [
    "### Baseline models\n",
    "* Looked at both using mean and median as a baseline model.\n",
    "* Mean baseline performed better on the in-sample and out-of sample data SO I went with mean."
   ]
  },
  {
   "cell_type": "code",
   "execution_count": 19,
   "id": "3dcdab37",
   "metadata": {},
   "outputs": [
    {
     "name": "stdout",
     "output_type": "stream",
     "text": [
      "Baseline accuracy: 82.76%\n"
     ]
    }
   ],
   "source": [
    "#baseline based on the percentage of the mode\n",
    "baseline = y_train.value_counts(normalize=True).max()\n",
    "#print results\n",
    "print(f'Baseline accuracy: {baseline:.2%}')"
   ]
  },
  {
   "cell_type": "markdown",
   "id": "0387b5eb",
   "metadata": {},
   "source": [
    "### Model Comparison"
   ]
  },
  {
   "cell_type": "code",
   "execution_count": null,
   "id": "16c699c0",
   "metadata": {},
   "outputs": [],
   "source": [
    "#show model results for in-sample and out-of-sample data\n",
    "m.compare_models(X_train, y_train, X_validate, y_validate)"
   ]
  },
  {
   "cell_type": "markdown",
   "id": "bright-evans",
   "metadata": {},
   "source": [
    "### Models Summary\n",
    "* All models except for logistic regression perfomed better than baseline for both train and validate data.\n",
    "* With running hyperparameter tests there was very little improvement."
   ]
  },
  {
   "cell_type": "markdown",
   "id": "regulated-fellowship",
   "metadata": {},
   "source": [
    "### Best model: Random Forest Model \n",
    "* I chose the Random Forest Model because it beat baseline on both train and validate, and the difference between train accuracy and validate accuracy was the smallest.\n",
    "* I will now run the that model on test data to gauge how it will perform on future data"
   ]
  },
  {
   "cell_type": "code",
   "execution_count": null,
   "id": "4fac6a92",
   "metadata": {},
   "outputs": [],
   "source": [
    "m.best_model_comparison(X_train, y_train, X_validate, y_validate, X_test, y_test)"
   ]
  },
  {
   "cell_type": "markdown",
   "id": "fc24d1d6",
   "metadata": {},
   "source": [
    "**This model performs better than baseline and with very similar accuracy across all three data sets (train, validate and test).**"
   ]
  },
  {
   "cell_type": "markdown",
   "id": "tutorial-twelve",
   "metadata": {},
   "source": [
    "## Conclusion\n",
    "### Summary\n",
    "* ```hour_of_day``` (0, 1, 8, 9, 11, 14, 15, 16, 18, 19, 20, 21) probably have a relationship with```clicks```.\n",
    "* Each ```day_of_week``` probably has a relationship with ```click```.\n",
    "* ```banner_pos``` (0, 1, 2, 7) probably have a relationship with ```click```.\n",
    "* Proabably a difference in means between each annoymized continuous feature (```C14```-```C21```) for those who click and don't click.\n",
    "\n",
    "### Recommendations\n",
    "* We need to invest in some cloud computing in order to run statisical tests and models on such large data sets.\n",
    "* Even though my best model only performs 0.34% better than baseline, we can use it for now as we continue to improve our model.\n",
    "\n",
    "### Next Steps\n",
    "* In the next iteration:\n",
    "    * Use cloud computing to look more into all the different features.\n",
    "    * Try hashing some of the features to see if that will improve my models."
   ]
  }
 ],
 "metadata": {
  "kernelspec": {
   "display_name": "Python 3 (ipykernel)",
   "language": "python",
   "name": "python3"
  },
  "language_info": {
   "codemirror_mode": {
    "name": "ipython",
    "version": 3
   },
   "file_extension": ".py",
   "mimetype": "text/x-python",
   "name": "python",
   "nbconvert_exporter": "python",
   "pygments_lexer": "ipython3",
   "version": "3.9.12"
  }
 },
 "nbformat": 4,
 "nbformat_minor": 5
}
